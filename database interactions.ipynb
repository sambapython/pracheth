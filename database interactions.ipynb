{
 "cells": [
  {
   "cell_type": "code",
   "execution_count": 1,
   "metadata": {},
   "outputs": [],
   "source": [
    "#DBMS: It's a software which will help us to manage databases, backups, encryptions,\n",
    "# database: collection of tables. the tables can have relationships based on the nature of the database.\n",
    "#sqlite3: lightweight relational database management system."
   ]
  },
  {
   "cell_type": "code",
   "execution_count": 2,
   "metadata": {},
   "outputs": [
    {
     "data": {
      "text/plain": [
       "'\\nhome_expenses: 5%\\ngroceries: 10%\\nelectronics:2%\\nsavings: 83%\\n'"
      ]
     },
     "execution_count": 2,
     "metadata": {},
     "output_type": "execute_result"
    }
   ],
   "source": [
    "# products: brinjal, dal, phone, milk, elecricity_bill\n",
    "#brinjal,dal,milk: groceries\n",
    "#phone: electronics\n",
    "#elecricity, rent, gas: home_expenses\n",
    "#--------------\n",
    "\"\"\"\n",
    "home_expenses: 5%\n",
    "groceries: 10%\n",
    "electronics:2%\n",
    "savings: 83%\n",
    "\"\"\""
   ]
  },
  {
   "cell_type": "code",
   "execution_count": null,
   "metadata": {},
   "outputs": [],
   "source": [
    "\"\"\"\n",
    "LOGIN:\n",
    "    username:\n",
    "    password:\n",
    "    \n",
    "After succesful login:\n",
    "1.create new product\n",
    "2.update exisrting product details\n",
    "3. add expenses\n",
    "\n",
    "1:\n",
    "   name:\n",
    "   category:\n",
    "    # write a code to insert the above name and category to database table\n",
    "2: what is the product code:\n",
    "    # fetch the details from database and show the details.\n",
    "    enter new name:\n",
    "    enter new category:\n",
    "    # update the databse with the new details\n",
    "\"\"\""
   ]
  },
  {
   "cell_type": "code",
   "execution_count": null,
   "metadata": {},
   "outputs": [],
   "source": [
    "import sqlite3\n",
    "con = sqlite3te3.connect()"
   ]
  }
 ],
 "metadata": {
  "kernelspec": {
   "display_name": "Python 3",
   "language": "python",
   "name": "python3"
  },
  "language_info": {
   "codemirror_mode": {
    "name": "ipython",
    "version": 3
   },
   "file_extension": ".py",
   "mimetype": "text/x-python",
   "name": "python",
   "nbconvert_exporter": "python",
   "pygments_lexer": "ipython3",
   "version": "3.8.3"
  }
 },
 "nbformat": 4,
 "nbformat_minor": 4
}
