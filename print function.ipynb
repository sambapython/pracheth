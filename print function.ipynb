{
 "cells": [
  {
   "cell_type": "code",
   "execution_count": 1,
   "metadata": {},
   "outputs": [
    {
     "name": "stdout",
     "output_type": "stream",
     "text": [
      "Enter your name:Pracheth\n",
      "Hi this is Pracheth\n"
     ]
    }
   ],
   "source": [
    "#most of scenarios will use string to show the outputs.\n",
    "# Hi this is Pracheth, I am 13 years old, My height is 5.4 feets and weight is 73KG.\n",
    "name=input(\"Enter your name:\")\n",
    "# age=input(\"Enter your age:\")\n",
    "# height = input(\"Enter your height:\")\n",
    "# weight = input(\"Enter your weight:\")\n",
    "print(\"Hi this is\",name)"
   ]
  },
  {
   "cell_type": "code",
   "execution_count": 3,
   "metadata": {},
   "outputs": [
    {
     "name": "stdout",
     "output_type": "stream",
     "text": [
      "Enter your name:Pracheth\n",
      "Enter your age:13\n",
      "Enter your height:5.4\n",
      "Enter your weight:73\n",
      "Hi this is Pracheth , I am 13 years old, My height is 5.4 feets and weight is 73 KG\n"
     ]
    }
   ],
   "source": [
    "#most of scenarios will use string to show the outputs.\n",
    "# Hi this is Pracheth, I am 13 years old, My height is 5.4 feets and weight is 73KG.\n",
    "name=input(\"Enter your name:\")\n",
    "age=input(\"Enter your age:\")\n",
    "height = input(\"Enter your height:\")\n",
    "weight = input(\"Enter your weight:\")\n",
    "print(\"Hi this is\",name,\", I am\",age,\"years old, My height is\",height,\"feets and weight is\",weight,\"KG\")"
   ]
  },
  {
   "cell_type": "code",
   "execution_count": 4,
   "metadata": {},
   "outputs": [
    {
     "name": "stdout",
     "output_type": "stream",
     "text": [
      "Enter your name:samba\n",
      "Enter your age:32\n",
      "Enter your height:5.4\n",
      "Enter your weight:72\n",
      "Hi this is samba , I am 32 years old, My height is 5.4 feets and weight is 72 KG\n"
     ]
    }
   ],
   "source": [
    "#most of scenarios will use string to show the outputs.\n",
    "# Hi this is Pracheth, I am 13 years old, My height is 5.4 feets and weight is 73KG.\n",
    "name=input(\"Enter your name:\")\n",
    "age=input(\"Enter your age:\")\n",
    "height = input(\"Enter your height:\")\n",
    "weight = input(\"Enter your weight:\")\n",
    "print(\"Hi this is\",name,\", I am\",age,\"years old, My height is\",height,\"feets and weight is\",weight,\"KG\")"
   ]
  },
  {
   "cell_type": "code",
   "execution_count": 5,
   "metadata": {},
   "outputs": [
    {
     "name": "stdout",
     "output_type": "stream",
     "text": [
      "this is {name}\n"
     ]
    }
   ],
   "source": [
    "# template strings\n",
    "name=\"samba\"\n",
    "print(\"this is {name}\")"
   ]
  },
  {
   "cell_type": "code",
   "execution_count": 6,
   "metadata": {},
   "outputs": [
    {
     "name": "stdout",
     "output_type": "stream",
     "text": [
      "this is samba\n"
     ]
    }
   ],
   "source": [
    "# template strings\n",
    "name=\"samba\"\n",
    "print(f\"this is {name}\")"
   ]
  },
  {
   "cell_type": "code",
   "execution_count": 7,
   "metadata": {},
   "outputs": [
    {
     "name": "stdout",
     "output_type": "stream",
     "text": [
      "Enter your name:samba\n",
      "Enter your age:32\n",
      "Enter your height:5.4\n",
      "Enter your weight:72\n",
      "Hi this is samba, I am 32 years old, My height is 5.4 feets and weight is 72 KG\n"
     ]
    }
   ],
   "source": [
    "#most of scenarios will use string to show the outputs.\n",
    "# Hi this is Pracheth, I am 13 years old, My height is 5.4 feets and weight is 73KG.\n",
    "name=input(\"Enter your name:\")\n",
    "age=input(\"Enter your age:\")\n",
    "height = input(\"Enter your height:\")\n",
    "weight = input(\"Enter your weight:\")\n",
    "print(f\"Hi this is {name}, I am {age} years old, My height is {height} feets and weight is {weight} KG\")"
   ]
  },
  {
   "cell_type": "code",
   "execution_count": 8,
   "metadata": {},
   "outputs": [
    {
     "name": "stdout",
     "output_type": "stream",
     "text": [
      "the weight of the person 74.2543464 \n"
     ]
    }
   ],
   "source": [
    "weight=74.2543464\n",
    "print(f\"the weight of the person {weight} \")"
   ]
  },
  {
   "cell_type": "code",
   "execution_count": 9,
   "metadata": {},
   "outputs": [
    {
     "name": "stdout",
     "output_type": "stream",
     "text": [
      "the weight of the person 74.25 \n"
     ]
    }
   ],
   "source": [
    "weight=74.2543464\n",
    "print(f\"the weight of the person {round(weight,2)} \")"
   ]
  },
  {
   "cell_type": "code",
   "execution_count": 11,
   "metadata": {},
   "outputs": [
    {
     "name": "stdout",
     "output_type": "stream",
     "text": [
      "the weight of the person 74.254346 \n"
     ]
    }
   ],
   "source": [
    "weight=74.2543464\n",
    "print(f\"the weight of the person {weight:f} \") # by default f gives 6 precessions"
   ]
  },
  {
   "cell_type": "code",
   "execution_count": 12,
   "metadata": {},
   "outputs": [
    {
     "name": "stdout",
     "output_type": "stream",
     "text": [
      "the weight of the person 74.25 \n"
     ]
    }
   ],
   "source": [
    "weight=74.2543464\n",
    "print(f\"the weight of the person {weight:.2f} \") # this will make it to 2 precissions"
   ]
  },
  {
   "cell_type": "code",
   "execution_count": 13,
   "metadata": {},
   "outputs": [
    {
     "name": "stdout",
     "output_type": "stream",
     "text": [
      "today huderabad weather looking cool\n",
      "It's a very good time to play out door games.\n"
     ]
    }
   ],
   "source": [
    "print(\"today huderabad weather looking cool\")\n",
    "print(\"It's a very good time to play out door games.\")"
   ]
  },
  {
   "cell_type": "code",
   "execution_count": 14,
   "metadata": {},
   "outputs": [
    {
     "name": "stdout",
     "output_type": "stream",
     "text": [
      "today huderabad weather looking cool. It's a very good time to play out door games.\n"
     ]
    }
   ],
   "source": [
    "print(\"today huderabad weather looking cool. It's a very good time to play out door games.\")"
   ]
  },
  {
   "cell_type": "code",
   "execution_count": 15,
   "metadata": {},
   "outputs": [
    {
     "name": "stdout",
     "output_type": "stream",
     "text": [
      "today huderabad weather looking cool.\n",
      "It's a very good time to play out door games.\n"
     ]
    }
   ],
   "source": [
    "print(\"today huderabad weather looking cool.\\nIt's a very good time to play out door games.\") # \\n will give the new line."
   ]
  },
  {
   "cell_type": "code",
   "execution_count": 17,
   "metadata": {},
   "outputs": [
    {
     "name": "stdout",
     "output_type": "stream",
     "text": [
      "today huderabad weather looking cool.\n",
      "It's a very good time\tto play out door games.\n"
     ]
    }
   ],
   "source": [
    "print(\"today huderabad weather looking cool.\\nIt's a very good time\\tto play out door games.\") # \\n will give the new line."
   ]
  },
  {
   "cell_type": "code",
   "execution_count": 18,
   "metadata": {},
   "outputs": [
    {
     "name": "stdout",
     "output_type": "stream",
     "text": [
      "sfds\n",
      "sdfsdf\tsddfsd\n",
      "sdfsdf\n",
      "sdfdsfsd\n",
      "sdfsdf\n",
      "sdfsd\tsdfdsf\n",
      "\n"
     ]
    }
   ],
   "source": [
    "s=\"sfds\\nsdfsdf\\tsddfsd\\nsdfsdf\\nsdfdsfsd\\nsdfsdf\\nsdfsd\\tsdfdsf\\n\"\n",
    "print(s)"
   ]
  },
  {
   "cell_type": "code",
   "execution_count": 19,
   "metadata": {},
   "outputs": [
    {
     "name": "stdout",
     "output_type": "stream",
     "text": [
      "\n",
      "\n"
     ]
    }
   ],
   "source": [
    "print(\"\\n\")# it's not printing the \\n in the output, because it's a space character"
   ]
  },
  {
   "cell_type": "code",
   "execution_count": 20,
   "metadata": {},
   "outputs": [
    {
     "name": "stdout",
     "output_type": "stream",
     "text": [
      "\\n\n"
     ]
    }
   ],
   "source": [
    "print(\"\\\\n\")# \\ is a escape character."
   ]
  },
  {
   "cell_type": "code",
   "execution_count": 21,
   "metadata": {},
   "outputs": [
    {
     "name": "stdout",
     "output_type": "stream",
     "text": [
      "sfds\\nsdfsdf\\tsddfsd\\nsdfsdf\\nsdfdsfsd\\nsdfsdf\\nsdfsd\\tsdfdsf\\n\n"
     ]
    }
   ],
   "source": [
    "s=\"sfds\\\\nsdfsdf\\\\tsddfsd\\\\nsdfsdf\\\\nsdfdsfsd\\\\nsdfsdf\\\\nsdfsd\\\\tsdfdsf\\\\n\"\n",
    "print(s)"
   ]
  },
  {
   "cell_type": "code",
   "execution_count": 22,
   "metadata": {},
   "outputs": [
    {
     "name": "stdout",
     "output_type": "stream",
     "text": [
      "sfds\\nsdfsdf\\tsddfsd\\nsdfsdf\\nsdfdsfsd\\nsdfsdf\\nsdfsd\\tsdfdsf\\n\n"
     ]
    }
   ],
   "source": [
    "#Raw strings. The raw string ignores the special characters like \\n and \\t\n",
    "s=r\"sfds\\nsdfsdf\\tsddfsd\\nsdfsdf\\nsdfdsfsd\\nsdfsdf\\nsdfsd\\tsdfdsf\\n\"\n",
    "print(s)"
   ]
  },
  {
   "cell_type": "code",
   "execution_count": 24,
   "metadata": {},
   "outputs": [
    {
     "name": "stdout",
     "output_type": "stream",
     "text": [
      "\n",
      "\n",
      "\\n\n"
     ]
    }
   ],
   "source": [
    "print(\"\\n\")\n",
    "print(r\"\\n\")"
   ]
  },
  {
   "cell_type": "code",
   "execution_count": 25,
   "metadata": {},
   "outputs": [
    {
     "name": "stdout",
     "output_type": "stream",
     "text": [
      "6\n"
     ]
    }
   ],
   "source": [
    "print(len(\"python\"))"
   ]
  },
  {
   "cell_type": "code",
   "execution_count": 26,
   "metadata": {},
   "outputs": [
    {
     "name": "stdout",
     "output_type": "stream",
     "text": [
      "7\n"
     ]
    }
   ],
   "source": [
    "print(len(\"python\\n\"))"
   ]
  },
  {
   "cell_type": "code",
   "execution_count": 27,
   "metadata": {},
   "outputs": [
    {
     "name": "stdout",
     "output_type": "stream",
     "text": [
      "Enter your name:samba\n",
      "Enter your age:32\n",
      "Enter your height:5.4\n",
      "Enter your weight:72\n",
      "Hi this is samba , I am 32 years old, My height is 5.4 feets and weight is 72 KG\n",
      "Hi this is samba, I am 32 years old, My height is 5.4 feets and weight is 72 KG\n"
     ]
    }
   ],
   "source": [
    "# format specifiers.\n",
    "#most of scenarios will use string to show the outputs.\n",
    "# Hi this is Pracheth, I am 13 years old, My height is 5.4 feets and weight is 73KG.\n",
    "name=input(\"Enter your name:\")\n",
    "age=input(\"Enter your age:\")\n",
    "height = input(\"Enter your height:\")\n",
    "weight = input(\"Enter your weight:\")\n",
    "print(\"Hi this is\",name,\", I am\",age,\"years old, My height is\",height,\"feets and weight is\",weight,\"KG\")\n",
    "# to make above print stament simple, ther are two concepts\n",
    "#1. template strings/fstings.\n",
    "print(f\"Hi this is {name}, I am {age} years old, My height is {height} feets and weight is {weight} KG\")\n",
    "#2. format specifiers."
   ]
  },
  {
   "cell_type": "code",
   "execution_count": 28,
   "metadata": {},
   "outputs": [
    {
     "name": "stdout",
     "output_type": "stream",
     "text": [
      "Enter your name:Pracheth\n",
      "Enter your age:13\n",
      "Enter your height:5.9\n",
      "Enter your weight:73\n",
      "Hi this is Pracheth , I am 13 years old, My height is 5.9 feets and weight is 73 KG\n",
      "Hi this is Pracheth, I am 13 years old, My height is 5.9 feets and weight is 73 KG\n",
      "Hi this is Pracheth, I am 13 years old, My height is 5.9 feets and weight is 73 KG\n"
     ]
    }
   ],
   "source": [
    "# format specifiers.\n",
    "#most of scenarios will use string to show the outputs.\n",
    "# Hi this is Pracheth, I am 13 years old, My height is 5.4 feets and weight is 73KG.\n",
    "name=input(\"Enter your name:\")\n",
    "age=input(\"Enter your age:\")\n",
    "height = input(\"Enter your height:\")\n",
    "weight = input(\"Enter your weight:\")\n",
    "print(\"Hi this is\",name,\", I am\",age,\"years old, My height is\",height,\"feets and weight is\",weight,\"KG\")\n",
    "# to make above print stament simple, ther are two concepts\n",
    "#1. template strings/fstings.\n",
    "print(f\"Hi this is {name}, I am {age} years old, My height is {height} feets and weight is {weight} KG\")\n",
    "#2. format specifiers.\n",
    "print(\"Hi this is %s, I am %s years old, My height is %s feets and weight is %s KG\"%(name,age,height,weight))"
   ]
  },
  {
   "cell_type": "code",
   "execution_count": null,
   "metadata": {},
   "outputs": [],
   "source": [
    "# format specifiers.\n",
    "#most of scenarios will use string to show the outputs.\n",
    "# Hi this is Pracheth, I am 13 years old, My height is 5.4 feets and weight is 73KG.\n",
    "name=input(\"Enter your name:\")\n",
    "age=input(\"Enter your age:\")\n",
    "height = input(\"Enter your height:\")\n",
    "weight = input(\"Enter your weight:\")\n",
    "print(\"Hi this is\",name,\", I am\",age,\"years old, My height is\",height,\"feets and weight is\",weight,\"KG\")\n",
    "# to make above print stament simple, ther are two concepts\n",
    "#1. template strings/fstings.\n",
    "print(f\"Hi this is {name}, I am {age} years old, My height is {height} feets and weight is {weight} KG\")\n",
    "#2. format specifiers.\n",
    "print(\"Hi this is %s, I am %s years old, My height is %s feets and weight is %s KG\"%(name,age,height,weight))\n",
    "# out of above 2 which one is good. My vote is to format specifiers.\n",
    "# template strings are breaking while doing a localization in the applications."
   ]
  }
 ],
 "metadata": {
  "kernelspec": {
   "display_name": "Python 3",
   "language": "python",
   "name": "python3"
  },
  "language_info": {
   "codemirror_mode": {
    "name": "ipython",
    "version": 3
   },
   "file_extension": ".py",
   "mimetype": "text/x-python",
   "name": "python",
   "nbconvert_exporter": "python",
   "pygments_lexer": "ipython3",
   "version": "3.8.3"
  }
 },
 "nbformat": 4,
 "nbformat_minor": 4
}
