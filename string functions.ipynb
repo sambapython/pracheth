{
 "cells": [
  {
   "cell_type": "code",
   "execution_count": 2,
   "metadata": {},
   "outputs": [
    {
     "name": "stdout",
     "output_type": "stream",
     "text": [
      "<class 'str'>\n",
      "['__add__', '__class__', '__contains__', '__delattr__', '__dir__', '__doc__', '__eq__', '__format__', '__ge__', '__getattribute__', '__getitem__', '__getnewargs__', '__gt__', '__hash__', '__init__', '__init_subclass__', '__iter__', '__le__', '__len__', '__lt__', '__mod__', '__mul__', '__ne__', '__new__', '__reduce__', '__reduce_ex__', '__repr__', '__rmod__', '__rmul__', '__setattr__', '__sizeof__', '__str__', '__subclasshook__', 'capitalize', 'casefold', 'center', 'count', 'encode', 'endswith', 'expandtabs', 'find', 'format', 'format_map', 'index', 'isalnum', 'isalpha', 'isascii', 'isdecimal', 'isdigit', 'isidentifier', 'islower', 'isnumeric', 'isprintable', 'isspace', 'istitle', 'isupper', 'join', 'ljust', 'lower', 'lstrip', 'maketrans', 'partition', 'replace', 'rfind', 'rindex', 'rjust', 'rpartition', 'rsplit', 'rstrip', 'split', 'splitlines', 'startswith', 'strip', 'swapcase', 'title', 'translate', 'upper', 'zfill']\n"
     ]
    }
   ],
   "source": [
    "s=\"python\"\n",
    "print(type(s))\n",
    "print(dir(s))"
   ]
  },
  {
   "cell_type": "code",
   "execution_count": 3,
   "metadata": {},
   "outputs": [
    {
     "name": "stdout",
     "output_type": "stream",
     "text": [
      "<class 'list'>\n",
      "['__add__', '__class__', '__contains__', '__delattr__', '__delitem__', '__dir__', '__doc__', '__eq__', '__format__', '__ge__', '__getattribute__', '__getitem__', '__gt__', '__hash__', '__iadd__', '__imul__', '__init__', '__init_subclass__', '__iter__', '__le__', '__len__', '__lt__', '__mul__', '__ne__', '__new__', '__reduce__', '__reduce_ex__', '__repr__', '__reversed__', '__rmul__', '__setattr__', '__setitem__', '__sizeof__', '__str__', '__subclasshook__', 'append', 'clear', 'copy', 'count', 'extend', 'index', 'insert', 'pop', 'remove', 'reverse', 'sort']\n"
     ]
    }
   ],
   "source": [
    "s=[1,2,3,4]\n",
    "print(type(s))\n",
    "print(dir(s))"
   ]
  },
  {
   "cell_type": "code",
   "execution_count": 4,
   "metadata": {},
   "outputs": [
    {
     "name": "stdout",
     "output_type": "stream",
     "text": [
      "<class 'tuple'>\n",
      "['__add__', '__class__', '__contains__', '__delattr__', '__dir__', '__doc__', '__eq__', '__format__', '__ge__', '__getattribute__', '__getitem__', '__getnewargs__', '__gt__', '__hash__', '__init__', '__init_subclass__', '__iter__', '__le__', '__len__', '__lt__', '__mul__', '__ne__', '__new__', '__reduce__', '__reduce_ex__', '__repr__', '__rmul__', '__setattr__', '__sizeof__', '__str__', '__subclasshook__', 'count', 'index']\n"
     ]
    }
   ],
   "source": [
    "s=(10,20,30)\n",
    "print(type(s))\n",
    "print(dir(s))"
   ]
  },
  {
   "cell_type": "code",
   "execution_count": 5,
   "metadata": {},
   "outputs": [
    {
     "name": "stdout",
     "output_type": "stream",
     "text": [
      "<class 'dict'>\n",
      "['__class__', '__contains__', '__delattr__', '__delitem__', '__dir__', '__doc__', '__eq__', '__format__', '__ge__', '__getattribute__', '__getitem__', '__gt__', '__hash__', '__init__', '__init_subclass__', '__iter__', '__le__', '__len__', '__lt__', '__ne__', '__new__', '__reduce__', '__reduce_ex__', '__repr__', '__reversed__', '__setattr__', '__setitem__', '__sizeof__', '__str__', '__subclasshook__', 'clear', 'copy', 'fromkeys', 'get', 'items', 'keys', 'pop', 'popitem', 'setdefault', 'update', 'values']\n"
     ]
    }
   ],
   "source": [
    "s={\"name\":\"jay\"}\n",
    "print(type(s))\n",
    "print(dir(s))"
   ]
  },
  {
   "cell_type": "code",
   "execution_count": 6,
   "metadata": {},
   "outputs": [
    {
     "name": "stdout",
     "output_type": "stream",
     "text": [
      "<class 'str'>\n",
      "['__add__', '__class__', '__contains__', '__delattr__', '__dir__', '__doc__', '__eq__', '__format__', '__ge__', '__getattribute__', '__getitem__', '__getnewargs__', '__gt__', '__hash__', '__init__', '__init_subclass__', '__iter__', '__le__', '__len__', '__lt__', '__mod__', '__mul__', '__ne__', '__new__', '__reduce__', '__reduce_ex__', '__repr__', '__rmod__', '__rmul__', '__setattr__', '__sizeof__', '__str__', '__subclasshook__', 'capitalize', 'casefold', 'center', 'count', 'encode', 'endswith', 'expandtabs', 'find', 'format', 'format_map', 'index', 'isalnum', 'isalpha', 'isascii', 'isdecimal', 'isdigit', 'isidentifier', 'islower', 'isnumeric', 'isprintable', 'isspace', 'istitle', 'isupper', 'join', 'ljust', 'lower', 'lstrip', 'maketrans', 'partition', 'replace', 'rfind', 'rindex', 'rjust', 'rpartition', 'rsplit', 'rstrip', 'split', 'splitlines', 'startswith', 'strip', 'swapcase', 'title', 'translate', 'upper', 'zfill']\n"
     ]
    }
   ],
   "source": [
    "s=\"python\"\n",
    "print(type(s))\n",
    "print(dir(s))"
   ]
  },
  {
   "cell_type": "code",
   "execution_count": 11,
   "metadata": {},
   "outputs": [
    {
     "data": {
      "text/plain": [
       "'PYTHON'"
      ]
     },
     "execution_count": 11,
     "metadata": {},
     "output_type": "execute_result"
    }
   ],
   "source": [
    "s=\"python\"\n",
    "s.upper()"
   ]
  },
  {
   "cell_type": "code",
   "execution_count": 13,
   "metadata": {},
   "outputs": [
    {
     "name": "stdout",
     "output_type": "stream",
     "text": [
      "Python program\n",
      "python program\n",
      "PYTHON PROGRAM\n",
      "python program\n",
      "PYthon PROgram\n",
      "Python Program\n"
     ]
    }
   ],
   "source": [
    "s=\"pyTHON proGRAM\"\n",
    "print(s.capitalize())\n",
    "print(s.lower())\n",
    "print(s.upper())\n",
    "print(s.casefold())\n",
    "print(s.swapcase())\n",
    "print(s.title())"
   ]
  },
  {
   "cell_type": "code",
   "execution_count": 14,
   "metadata": {},
   "outputs": [
    {
     "name": "stdout",
     "output_type": "stream",
     "text": [
      "python program\n",
      "python program\n"
     ]
    }
   ],
   "source": [
    "s=\"pyTHON proGRAM\"\n",
    "print(s.lower())\n",
    "print(s.casefold())"
   ]
  },
  {
   "cell_type": "code",
   "execution_count": 15,
   "metadata": {},
   "outputs": [
    {
     "name": "stdout",
     "output_type": "stream",
     "text": [
      "False\n"
     ]
    }
   ],
   "source": [
    "s=\"pyTHON proGRAM\"\n",
    "s1=\"PYthon PROgram\"\n",
    "print(s==s1)"
   ]
  },
  {
   "cell_type": "code",
   "execution_count": 16,
   "metadata": {},
   "outputs": [
    {
     "name": "stdout",
     "output_type": "stream",
     "text": [
      "True\n"
     ]
    }
   ],
   "source": [
    "s=\"pyTHON proGRAM\"\n",
    "s1=\"PYthon PROgram\"\n",
    "print(s.casefold()==s1.casefold())"
   ]
  },
  {
   "cell_type": "code",
   "execution_count": 17,
   "metadata": {},
   "outputs": [
    {
     "name": "stdout",
     "output_type": "stream",
     "text": [
      "python program\n"
     ]
    }
   ],
   "source": [
    "s=\"pyTHON proGRAM\"\n",
    "print(s.lower())"
   ]
  },
  {
   "cell_type": "code",
   "execution_count": 18,
   "metadata": {},
   "outputs": [
    {
     "name": "stdout",
     "output_type": "stream",
     "text": [
      "True\n"
     ]
    }
   ],
   "source": [
    "s=\"pyTHON proGRAM\"\n",
    "s1=\"PYthon PROgram\"\n",
    "print(s.lower()==s1.lower())"
   ]
  },
  {
   "cell_type": "code",
   "execution_count": 19,
   "metadata": {},
   "outputs": [
    {
     "name": "stdout",
     "output_type": "stream",
     "text": [
      "True\n"
     ]
    }
   ],
   "source": [
    "s=\"pyTHON proGRAM\"\n",
    "s1=\"PYthon PROgram\"\n",
    "print(s.upper()==s1.upper())"
   ]
  },
  {
   "cell_type": "code",
   "execution_count": 1,
   "metadata": {},
   "outputs": [
    {
     "name": "stdout",
     "output_type": "stream",
     "text": [
      "                       python program                       \n",
      "python program                                              \n",
      "                                              python program\n"
     ]
    }
   ],
   "source": [
    "# alignment functions\n",
    "s=\"python program\"\n",
    "print(s.center(60))\n",
    "print(s.ljust(60))\n",
    "print(s.rjust(60))"
   ]
  },
  {
   "cell_type": "code",
   "execution_count": 2,
   "metadata": {},
   "outputs": [
    {
     "name": "stdout",
     "output_type": "stream",
     "text": [
      "                                                     python program                                                     \n",
      "python program                                                                                                          \n",
      "                                                                                                          python program\n"
     ]
    }
   ],
   "source": [
    "# alignment functions\n",
    "s=\"python program\"\n",
    "print(s.center(120))\n",
    "print(s.ljust(120))\n",
    "print(s.rjust(120))"
   ]
  },
  {
   "cell_type": "code",
   "execution_count": 3,
   "metadata": {},
   "outputs": [
    {
     "name": "stdout",
     "output_type": "stream",
     "text": [
      "python program\n"
     ]
    }
   ],
   "source": [
    "s=\"python program\"\n",
    "print(s)"
   ]
  },
  {
   "cell_type": "code",
   "execution_count": 4,
   "metadata": {},
   "outputs": [
    {
     "name": "stdout",
     "output_type": "stream",
     "text": [
      "     main menu      \n",
      "                sub menu                \n",
      "                        sub sub menu                        \n"
     ]
    }
   ],
   "source": [
    "s=\"main menu\"\n",
    "print(s.center(20))\n",
    "s1=\"sub menu\"\n",
    "print(s1.center(40))\n",
    "s2=\"sub sub menu\"\n",
    "print(s2.center(60))"
   ]
  },
  {
   "cell_type": "code",
   "execution_count": 5,
   "metadata": {},
   "outputs": [
    {
     "name": "stdout",
     "output_type": "stream",
     "text": [
      "*****main menu******\n",
      "&&&&&&&&&&&&&&&&sub menu&&&&&&&&&&&&&&&&\n",
      "@@@@@@@@@@@@@@@@@@@@@@@@sub sub menu@@@@@@@@@@@@@@@@@@@@@@@@\n"
     ]
    }
   ],
   "source": [
    "s=\"main menu\"\n",
    "print(s.center(20,\"*\"))\n",
    "s1=\"sub menu\"\n",
    "print(s1.center(40,\"&\"))\n",
    "s2=\"sub sub menu\"\n",
    "print(s2.center(60,\"@\"))"
   ]
  },
  {
   "cell_type": "code",
   "execution_count": 6,
   "metadata": {},
   "outputs": [
    {
     "name": "stdout",
     "output_type": "stream",
     "text": [
      "['__add__', '__class__', '__contains__', '__delattr__', '__dir__', '__doc__', '__eq__', '__format__', '__ge__', '__getattribute__', '__getitem__', '__getnewargs__', '__gt__', '__hash__', '__init__', '__init_subclass__', '__iter__', '__le__', '__len__', '__lt__', '__mod__', '__mul__', '__ne__', '__new__', '__reduce__', '__reduce_ex__', '__repr__', '__rmod__', '__rmul__', '__setattr__', '__sizeof__', '__str__', '__subclasshook__', 'capitalize', 'casefold', 'center', 'count', 'encode', 'endswith', 'expandtabs', 'find', 'format', 'format_map', 'index', 'isalnum', 'isalpha', 'isascii', 'isdecimal', 'isdigit', 'isidentifier', 'islower', 'isnumeric', 'isprintable', 'isspace', 'istitle', 'isupper', 'join', 'ljust', 'lower', 'lstrip', 'maketrans', 'partition', 'replace', 'rfind', 'rindex', 'rjust', 'rpartition', 'rsplit', 'rstrip', 'split', 'splitlines', 'startswith', 'strip', 'swapcase', 'title', 'translate', 'upper', 'zfill']\n"
     ]
    }
   ],
   "source": [
    "print(dir(s))"
   ]
  },
  {
   "cell_type": "code",
   "execution_count": 7,
   "metadata": {},
   "outputs": [
    {
     "name": "stdout",
     "output_type": "stream",
     "text": [
      "4\n"
     ]
    }
   ],
   "source": [
    "s=\"apple;orange;apple;grape;banana;apple;mango;apple;mango;grape\"\n",
    "print(s.count(\"apple\"))"
   ]
  },
  {
   "cell_type": "code",
   "execution_count": 8,
   "metadata": {},
   "outputs": [
    {
     "name": "stdout",
     "output_type": "stream",
     "text": [
      "0\n"
     ]
    }
   ],
   "source": [
    "s=\"apple;orange;apple;grape;banana;apple;mango;apple;mango;grape\"\n",
    "print(s.count(\"APPLE\"))"
   ]
  },
  {
   "cell_type": "code",
   "execution_count": 9,
   "metadata": {},
   "outputs": [
    {
     "name": "stdout",
     "output_type": "stream",
     "text": [
      "3\n"
     ]
    }
   ],
   "source": [
    "s=\"apple;orange;apple;grape;orange;banana;apple;orange;mango;apple;mango;grape\"\n",
    "print(s.count(\"orange\"))"
   ]
  },
  {
   "cell_type": "code",
   "execution_count": 10,
   "metadata": {},
   "outputs": [
    {
     "name": "stdout",
     "output_type": "stream",
     "text": [
      "6\n",
      "45\n",
      "6\n",
      "45\n"
     ]
    }
   ],
   "source": [
    "s=\"apple;orange;apple;grape;orange;banana;apple;orange;mango;apple;mango;grape\"\n",
    "print(s.index(\"orange\"))# index of first occurance of given sub string\n",
    "print(s.rindex(\"orange\"))# index of last occurance of given substring\n",
    "print(s.find(\"orange\"))\n",
    "print(s.rfind(\"orange\"))"
   ]
  },
  {
   "cell_type": "code",
   "execution_count": 11,
   "metadata": {},
   "outputs": [
    {
     "name": "stdout",
     "output_type": "stream",
     "text": [
      "6\n",
      "64\n",
      "6\n",
      "64\n"
     ]
    }
   ],
   "source": [
    "s=\"apple;orange;apple;grape;orange;banana;apple;orange;mango;apple;orange;mango;grape\"\n",
    "print(s.index(\"orange\"))# index of first occurance of given sub string\n",
    "print(s.rindex(\"orange\"))# index of last occurance of given substring\n",
    "print(s.find(\"orange\"))\n",
    "print(s.rfind(\"orange\"))"
   ]
  },
  {
   "cell_type": "code",
   "execution_count": 13,
   "metadata": {},
   "outputs": [
    {
     "data": {
      "text/plain": [
       "6"
      ]
     },
     "execution_count": 13,
     "metadata": {},
     "output_type": "execute_result"
    }
   ],
   "source": [
    "s=\"apple;orange;apple;grape;orange;banana;apple;orange;mango;apple;orange;mango;grape\"\n",
    "s.index(\"orange\")"
   ]
  },
  {
   "cell_type": "code",
   "execution_count": 14,
   "metadata": {},
   "outputs": [
    {
     "data": {
      "text/plain": [
       "25"
      ]
     },
     "execution_count": 14,
     "metadata": {},
     "output_type": "execute_result"
    }
   ],
   "source": [
    "s=\"apple;orange;apple;grape;orange;banana;apple;orange;mango;apple;orange;mango;grape\"\n",
    "s.index(\"orange\",7)"
   ]
  },
  {
   "cell_type": "code",
   "execution_count": 15,
   "metadata": {},
   "outputs": [
    {
     "data": {
      "text/plain": [
       "45"
      ]
     },
     "execution_count": 15,
     "metadata": {},
     "output_type": "execute_result"
    }
   ],
   "source": [
    "s=\"apple;orange;apple;grape;orange;banana;apple;orange;mango;apple;orange;mango;grape\"\n",
    "s.index(\"orange\",26)"
   ]
  },
  {
   "cell_type": "code",
   "execution_count": 17,
   "metadata": {},
   "outputs": [
    {
     "name": "stdout",
     "output_type": "stream",
     "text": [
      "45\n",
      "45\n"
     ]
    }
   ],
   "source": [
    "s=\"apple;orange;apple;grape;orange;banana;apple;orange;mango;apple;orange;mango;grape\"\n",
    "print(s.index(\"orange\",26))\n",
    "print(s.find(\"orange\",26))"
   ]
  },
  {
   "cell_type": "code",
   "execution_count": 19,
   "metadata": {},
   "outputs": [
    {
     "name": "stdout",
     "output_type": "stream",
     "text": [
      "-1\n"
     ]
    }
   ],
   "source": [
    "s=\"apple;orange;apple;grape;orange;banana;apple;orange;mango;apple;orange;mango;grape\"\n",
    "#print(s.index(\"orange\",26,35))\n",
    "print(s.find(\"orange\",26,35))"
   ]
  },
  {
   "cell_type": "code",
   "execution_count": 20,
   "metadata": {},
   "outputs": [
    {
     "name": "stdout",
     "output_type": "stream",
     "text": [
      "6\n",
      "6\n"
     ]
    }
   ],
   "source": [
    "s=\"apple;orange;apple;grape;orange;banana;apple;orange;mango;apple;orange;mango;grape\"\n",
    "print(s.find(\"orange\"))\n",
    "print(s.index(\"orange\"))"
   ]
  },
  {
   "cell_type": "code",
   "execution_count": 21,
   "metadata": {},
   "outputs": [
    {
     "name": "stdout",
     "output_type": "stream",
     "text": [
      "-1\n"
     ]
    },
    {
     "ename": "ValueError",
     "evalue": "substring not found",
     "output_type": "error",
     "traceback": [
      "\u001b[1;31m---------------------------------------------------------------------------\u001b[0m",
      "\u001b[1;31mValueError\u001b[0m                                Traceback (most recent call last)",
      "\u001b[1;32m<ipython-input-21-d821fa3d535e>\u001b[0m in \u001b[0;36m<module>\u001b[1;34m\u001b[0m\n\u001b[0;32m      1\u001b[0m \u001b[0ms\u001b[0m\u001b[1;33m=\u001b[0m\u001b[1;34m\"apple;orange;apple;grape;orange;banana;apple;orange;mango;apple;orange;mango;grape\"\u001b[0m\u001b[1;33m\u001b[0m\u001b[1;33m\u001b[0m\u001b[0m\n\u001b[0;32m      2\u001b[0m \u001b[0mprint\u001b[0m\u001b[1;33m(\u001b[0m\u001b[0ms\u001b[0m\u001b[1;33m.\u001b[0m\u001b[0mfind\u001b[0m\u001b[1;33m(\u001b[0m\u001b[1;34m\"berry\"\u001b[0m\u001b[1;33m)\u001b[0m\u001b[1;33m)\u001b[0m\u001b[1;33m\u001b[0m\u001b[1;33m\u001b[0m\u001b[0m\n\u001b[1;32m----> 3\u001b[1;33m \u001b[0mprint\u001b[0m\u001b[1;33m(\u001b[0m\u001b[0ms\u001b[0m\u001b[1;33m.\u001b[0m\u001b[0mindex\u001b[0m\u001b[1;33m(\u001b[0m\u001b[1;34m\"berry\"\u001b[0m\u001b[1;33m)\u001b[0m\u001b[1;33m)\u001b[0m\u001b[1;33m\u001b[0m\u001b[1;33m\u001b[0m\u001b[0m\n\u001b[0m",
      "\u001b[1;31mValueError\u001b[0m: substring not found"
     ]
    }
   ],
   "source": [
    "s=\"apple;orange;apple;grape;orange;banana;apple;orange;mango;apple;orange;mango;grape\"\n",
    "print(s.find(\"berry\"))\n",
    "print(s.index(\"berry\"))"
   ]
  },
  {
   "cell_type": "code",
   "execution_count": 22,
   "metadata": {},
   "outputs": [
    {
     "name": "stdout",
     "output_type": "stream",
     "text": [
      "python <class 'str'>\n",
      "b'python' <class 'bytes'>\n"
     ]
    }
   ],
   "source": [
    "s=\"python\"\n",
    "print(s,type(s))\n",
    "s=b\"python\"\n",
    "print(s, type(s))"
   ]
  },
  {
   "cell_type": "code",
   "execution_count": 23,
   "metadata": {},
   "outputs": [
    {
     "name": "stdout",
     "output_type": "stream",
     "text": [
      "python <class 'str'>\n",
      "b'python' <class 'bytes'>\n"
     ]
    }
   ],
   "source": [
    "s=\"python\"\n",
    "print(s,type(s))\n",
    "s1=s.encode(\"utf-8\")\n",
    "print(s1,type(s1))"
   ]
  },
  {
   "cell_type": "code",
   "execution_count": 25,
   "metadata": {},
   "outputs": [
    {
     "name": "stdout",
     "output_type": "stream",
     "text": [
      "b'python' <class 'bytes'>\n",
      "python <class 'str'>\n"
     ]
    }
   ],
   "source": [
    "s=b\"python\"\n",
    "print(s,type(s))\n",
    "s1=s.decode(\"utf-8\")\n",
    "print(s1,type(s1))"
   ]
  },
  {
   "cell_type": "code",
   "execution_count": null,
   "metadata": {},
   "outputs": [],
   "source": []
  },
  {
   "cell_type": "code",
   "execution_count": 27,
   "metadata": {},
   "outputs": [
    {
     "name": "stdout",
     "output_type": "stream",
     "text": [
      "True\n",
      "True\n"
     ]
    }
   ],
   "source": [
    "s=\"sambaodoo@gmail.com\"\n",
    "print(s.startswith(\"samba\"))\n",
    "print(s.endswith(\"com\"))"
   ]
  },
  {
   "cell_type": "code",
   "execution_count": 28,
   "metadata": {},
   "outputs": [
    {
     "name": "stdout",
     "output_type": "stream",
     "text": [
      "False\n",
      "False\n"
     ]
    }
   ],
   "source": [
    "s=\"sambaodoo@gmail.com\"\n",
    "print(s.startswith(\"odoo\"))\n",
    "print(s.endswith(\"gmail\"))"
   ]
  },
  {
   "cell_type": "code",
   "execution_count": null,
   "metadata": {},
   "outputs": [],
   "source": []
  },
  {
   "cell_type": "code",
   "execution_count": 30,
   "metadata": {},
   "outputs": [
    {
     "name": "stdout",
     "output_type": "stream",
     "text": [
      "Enter your name:pracheth\n",
      "Enter your age:13\n",
      "Enter your height:5.8\n",
      "Enter your weight:73\n",
      "Hi this is pracheth , I am 13 years old, My height is 5.8 feets and weight is 73 KG\n",
      "Hi this is pracheth, I am 13 years old, My height is 5.8 feets and weight is 73 KG\n",
      "Hi this is pracheth, I am 13 years old, My height is 5.8 feets and weight is 73 KG\n",
      "Hi this is pracheth\n"
     ]
    }
   ],
   "source": [
    "# Hi this is Pracheth, I am 13 years old, My height is 5.4 feets and weight is 73KG.\n",
    "name=input(\"Enter your name:\")\n",
    "age=input(\"Enter your age:\")\n",
    "height = input(\"Enter your height:\")\n",
    "weight = input(\"Enter your weight:\")\n",
    "print(\"Hi this is\",name,\", I am\",age,\"years old, My height is\",height,\"feets and weight is\",weight,\"KG\")\n",
    "print(f\"Hi this is {name}, I am {age} years old, My height is {height} feets and weight is {weight} KG\")\n",
    "print(\"Hi this is %s, I am %s years old, My height is %s feets and weight is %s KG\"%(name,age,height,weight))\n",
    "print(\"Hi this is {0}\".format(name))"
   ]
  },
  {
   "cell_type": "code",
   "execution_count": 31,
   "metadata": {},
   "outputs": [
    {
     "name": "stdout",
     "output_type": "stream",
     "text": [
      "Enter your name:pracheth\n",
      "Enter your age:13\n",
      "Enter your height:5.8\n",
      "Enter your weight:73\n",
      "Hi this is pracheth , I am 13 years old, My height is 5.8 feets and weight is 73 KG\n",
      "Hi this is pracheth, I am 13 years old, My height is 5.8 feets and weight is 73 KG\n",
      "Hi this is pracheth, I am 13 years old, My height is 5.8 feets and weight is 73 KG\n",
      "Hi this is pracheth, I am 13 years old, My height is 5.8 feets and weight is 73 KG\n"
     ]
    }
   ],
   "source": [
    "# Hi this is Pracheth, I am 13 years old, My height is 5.4 feets and weight is 73KG.\n",
    "name=input(\"Enter your name:\")\n",
    "age=input(\"Enter your age:\")\n",
    "height = input(\"Enter your height:\")\n",
    "weight = input(\"Enter your weight:\")\n",
    "print(\"Hi this is\",name,\", I am\",age,\"years old, My height is\",height,\"feets and weight is\",weight,\"KG\")\n",
    "print(f\"Hi this is {name}, I am {age} years old, My height is {height} feets and weight is {weight} KG\")\n",
    "print(\"Hi this is %s, I am %s years old, My height is %s feets and weight is %s KG\"%(name,age,height,weight))\n",
    "print(\"Hi this is {0}, I am {1} years old, My height is {2} feets and weight is {3} KG\".format(name, age, height, weight))"
   ]
  },
  {
   "cell_type": "code",
   "execution_count": 32,
   "metadata": {},
   "outputs": [
    {
     "ename": "IndexError",
     "evalue": "Replacement index 1 out of range for positional args tuple",
     "output_type": "error",
     "traceback": [
      "\u001b[1;31m---------------------------------------------------------------------------\u001b[0m",
      "\u001b[1;31mIndexError\u001b[0m                                Traceback (most recent call last)",
      "\u001b[1;32m<ipython-input-32-630f26ebb875>\u001b[0m in \u001b[0;36m<module>\u001b[1;34m\u001b[0m\n\u001b[0;32m      1\u001b[0m \u001b[0mperson\u001b[0m\u001b[1;33m=\u001b[0m\u001b[1;33m{\u001b[0m\u001b[1;34m\"name\"\u001b[0m\u001b[1;33m:\u001b[0m\u001b[1;34m\"pracheth\"\u001b[0m\u001b[1;33m,\u001b[0m\u001b[1;34m\"age\"\u001b[0m\u001b[1;33m:\u001b[0m\u001b[1;36m13\u001b[0m\u001b[1;33m,\u001b[0m\u001b[1;34m\"weight\"\u001b[0m\u001b[1;33m:\u001b[0m\u001b[1;36m73\u001b[0m\u001b[1;33m,\u001b[0m\u001b[1;34m\"height\"\u001b[0m\u001b[1;33m:\u001b[0m\u001b[1;36m5.8\u001b[0m\u001b[1;33m}\u001b[0m\u001b[1;33m\u001b[0m\u001b[1;33m\u001b[0m\u001b[0m\n\u001b[1;32m----> 2\u001b[1;33m \u001b[0mprint\u001b[0m\u001b[1;33m(\u001b[0m\u001b[1;34m\"Hi this is {0}, I am {1} years old, My height is {2} feets and weight is {3} KG\"\u001b[0m\u001b[1;33m.\u001b[0m\u001b[0mformat\u001b[0m\u001b[1;33m(\u001b[0m\u001b[0mperson\u001b[0m\u001b[1;33m)\u001b[0m\u001b[1;33m)\u001b[0m\u001b[1;33m\u001b[0m\u001b[1;33m\u001b[0m\u001b[0m\n\u001b[0m",
      "\u001b[1;31mIndexError\u001b[0m: Replacement index 1 out of range for positional args tuple"
     ]
    }
   ],
   "source": [
    "person={\"name\":\"pracheth\",\"age\":13,\"weight\":73,\"height\":5.8}\n",
    "print(\"Hi this is {0}, I am {1} years old, My height is {2} feets and weight is {3} KG\".format(person))"
   ]
  },
  {
   "cell_type": "code",
   "execution_count": 33,
   "metadata": {},
   "outputs": [
    {
     "name": "stdout",
     "output_type": "stream",
     "text": [
      "Hi this is pracheth, I am 13 years old, My height is 5.8 feets and weight is 73 KG\n"
     ]
    }
   ],
   "source": [
    "person={\"name\":\"pracheth\",\"age\":13,\"weight\":73,\"height\":5.8}\n",
    "print(\"Hi this is {name}, I am {age} years old, My height is {height} feets and weight is {weight} KG\".format_map(person))"
   ]
  },
  {
   "cell_type": "code",
   "execution_count": 1,
   "metadata": {},
   "outputs": [
    {
     "data": {
      "text/plain": [
       "'apple,orange,apple,grape,orange,banana,apple,orange,mango,apple,orange,mango,grape'"
      ]
     },
     "execution_count": 1,
     "metadata": {},
     "output_type": "execute_result"
    }
   ],
   "source": [
    "s=\"apple;orange;apple;grape;orange;banana;apple;orange;mango;apple;orange;mango;grape\"\n",
    "# replace ; with ,\n",
    "s.replace(\";\",\",\")\n"
   ]
  },
  {
   "cell_type": "code",
   "execution_count": 2,
   "metadata": {},
   "outputs": [
    {
     "data": {
      "text/plain": [
       "'apple,orange,apple;grape;orange;banana;apple;orange;mango;apple;orange;mango;grape'"
      ]
     },
     "execution_count": 2,
     "metadata": {},
     "output_type": "execute_result"
    }
   ],
   "source": [
    "s=\"apple;orange;apple;grape;orange;banana;apple;orange;mango;apple;orange;mango;grape\"\n",
    "# replace ; with , only first two occurances.\n",
    "s.replace(\";\",\",\",2)"
   ]
  },
  {
   "cell_type": "code",
   "execution_count": 3,
   "metadata": {},
   "outputs": [
    {
     "data": {
      "text/plain": [
       "'apple,orange,apple,grape,orange,banana,apple,orange,mango,apple,orange,mango,grape'"
      ]
     },
     "execution_count": 3,
     "metadata": {},
     "output_type": "execute_result"
    }
   ],
   "source": [
    "s=\"apple;orange;apple;grape;orange;banana;apple;orange;mango;apple;orange;mango;grape\"\n",
    "# replace ; with , only last two occurances.\n",
    "s.replace(\";\",\",\",-2)"
   ]
  },
  {
   "cell_type": "code",
   "execution_count": 4,
   "metadata": {},
   "outputs": [
    {
     "ename": "AttributeError",
     "evalue": "'str' object has no attribute 'remove'",
     "output_type": "error",
     "traceback": [
      "\u001b[1;31m---------------------------------------------------------------------------\u001b[0m",
      "\u001b[1;31mAttributeError\u001b[0m                            Traceback (most recent call last)",
      "\u001b[1;32m<ipython-input-4-f3b13487fcf5>\u001b[0m in \u001b[0;36m<module>\u001b[1;34m\u001b[0m\n\u001b[0;32m      1\u001b[0m \u001b[0ms\u001b[0m\u001b[1;33m=\u001b[0m\u001b[1;34m\"apple;orange;apple;grape;orange;banana;apple;orange;mango;apple;orange;mango;grape\"\u001b[0m\u001b[1;33m\u001b[0m\u001b[1;33m\u001b[0m\u001b[0m\n\u001b[0;32m      2\u001b[0m \u001b[1;31m# remove ; from above string.\u001b[0m\u001b[1;33m\u001b[0m\u001b[1;33m\u001b[0m\u001b[1;33m\u001b[0m\u001b[0m\n\u001b[1;32m----> 3\u001b[1;33m \u001b[0ms\u001b[0m\u001b[1;33m.\u001b[0m\u001b[0mremove\u001b[0m\u001b[1;33m(\u001b[0m\u001b[1;34m\";\"\u001b[0m\u001b[1;33m)\u001b[0m\u001b[1;33m\u001b[0m\u001b[1;33m\u001b[0m\u001b[0m\n\u001b[0m",
      "\u001b[1;31mAttributeError\u001b[0m: 'str' object has no attribute 'remove'"
     ]
    }
   ],
   "source": [
    "s=\"apple;orange;apple;grape;orange;banana;apple;orange;mango;apple;orange;mango;grape\"\n",
    "# remove ; from above string.\n",
    "s.remove(\";\")"
   ]
  },
  {
   "cell_type": "code",
   "execution_count": 5,
   "metadata": {},
   "outputs": [
    {
     "name": "stdout",
     "output_type": "stream",
     "text": [
      "['__add__', '__class__', '__contains__', '__delattr__', '__dir__', '__doc__', '__eq__', '__format__', '__ge__', '__getattribute__', '__getitem__', '__getnewargs__', '__gt__', '__hash__', '__init__', '__init_subclass__', '__iter__', '__le__', '__len__', '__lt__', '__mod__', '__mul__', '__ne__', '__new__', '__reduce__', '__reduce_ex__', '__repr__', '__rmod__', '__rmul__', '__setattr__', '__sizeof__', '__str__', '__subclasshook__', 'capitalize', 'casefold', 'center', 'count', 'encode', 'endswith', 'expandtabs', 'find', 'format', 'format_map', 'index', 'isalnum', 'isalpha', 'isascii', 'isdecimal', 'isdigit', 'isidentifier', 'islower', 'isnumeric', 'isprintable', 'isspace', 'istitle', 'isupper', 'join', 'ljust', 'lower', 'lstrip', 'maketrans', 'partition', 'replace', 'rfind', 'rindex', 'rjust', 'rpartition', 'rsplit', 'rstrip', 'split', 'splitlines', 'startswith', 'strip', 'swapcase', 'title', 'translate', 'upper', 'zfill']\n"
     ]
    }
   ],
   "source": [
    "print(dir(s))"
   ]
  },
  {
   "cell_type": "code",
   "execution_count": 6,
   "metadata": {},
   "outputs": [
    {
     "data": {
      "text/plain": [
       "'@#sambaodoo@@#!gmail.com#@'"
      ]
     },
     "execution_count": 6,
     "metadata": {},
     "output_type": "execute_result"
    }
   ],
   "source": [
    "s=\"!@#sambaodoo@@#!gmail.com#@!\"\n",
    "s.strip(\"!\")"
   ]
  },
  {
   "cell_type": "code",
   "execution_count": 7,
   "metadata": {},
   "outputs": [
    {
     "name": "stdout",
     "output_type": "stream",
     "text": [
      "@#sambaodoo@@#!gmail.com#@\n",
      "!@#sambaodoo@@#!gmail.com#@\n",
      "@#sambaodoo@@#!gmail.com#@!\n"
     ]
    }
   ],
   "source": [
    "s=\"!@#sambaodoo@@#!gmail.com#@!\"\n",
    "print(s.strip(\"!\"))\n",
    "print(s.rstrip(\"!\"))\n",
    "print(s.lstrip(\"!\"))"
   ]
  },
  {
   "cell_type": "code",
   "execution_count": 8,
   "metadata": {},
   "outputs": [
    {
     "name": "stdout",
     "output_type": "stream",
     "text": [
      "!@#sambaodoo@@#!gmail.com#@!\n"
     ]
    }
   ],
   "source": [
    "s=\"!@#sambaodoo@@#!gmail.com#@!\"\n",
    "print(s.strip(\"samba\"))"
   ]
  },
  {
   "cell_type": "code",
   "execution_count": 9,
   "metadata": {},
   "outputs": [
    {
     "data": {
      "text/plain": [
       "4"
      ]
     },
     "execution_count": 9,
     "metadata": {},
     "output_type": "execute_result"
    }
   ],
   "source": [
    "s=\"apple;orange;apple;grape;orange;banana;apple;orange;mango;apple;orange;mango;grape\"\n",
    "s.count(\"le\")"
   ]
  },
  {
   "cell_type": "code",
   "execution_count": 10,
   "metadata": {},
   "outputs": [
    {
     "data": {
      "text/plain": [
       "0"
      ]
     },
     "execution_count": 10,
     "metadata": {},
     "output_type": "execute_result"
    }
   ],
   "source": [
    "s=\"apple;orange;apple;grape;orange;banana;apple;orange;mango;apple;orange;mango;grape\"\n",
    "s.count(\"el\")"
   ]
  },
  {
   "cell_type": "code",
   "execution_count": 11,
   "metadata": {},
   "outputs": [
    {
     "name": "stdout",
     "output_type": "stream",
     "text": [
      "#sambaodoo@@#!gmail.com#\n"
     ]
    }
   ],
   "source": [
    "s=\"!@#sambaodoo@@#!gmail.com#@!\"\n",
    "print(s.strip(\"!@\"))"
   ]
  },
  {
   "cell_type": "code",
   "execution_count": 12,
   "metadata": {},
   "outputs": [
    {
     "name": "stdout",
     "output_type": "stream",
     "text": [
      "sambaodoo@@#!gmail.com\n"
     ]
    }
   ],
   "source": [
    "s=\"!@#sambaodoo@@#!gmail.com#@!\"\n",
    "print(s.strip(\"!#@\"))"
   ]
  },
  {
   "cell_type": "code",
   "execution_count": 13,
   "metadata": {},
   "outputs": [
    {
     "name": "stdout",
     "output_type": "stream",
     "text": [
      "0\n"
     ]
    }
   ],
   "source": [
    "s=\"!@#sambaodoo@@#!gmail.com#@!\"\n",
    "print(s.count(\"!#@\"))"
   ]
  },
  {
   "cell_type": "code",
   "execution_count": null,
   "metadata": {},
   "outputs": [],
   "source": [
    "\"\"\"\n",
    "!#@\n",
    "#@!,#!@,@#!,@!#,@#!,!#@,!@#\n",
    "\"\"\""
   ]
  },
  {
   "cell_type": "code",
   "execution_count": 15,
   "metadata": {},
   "outputs": [
    {
     "data": {
      "text/plain": [
       "';orange;apple;grape;orange;banana;apple;orange;mango;apple;orange;mango;grape;'"
      ]
     },
     "execution_count": 15,
     "metadata": {},
     "output_type": "execute_result"
    }
   ],
   "source": [
    "s=\"apple;orange;apple;grape;orange;banana;apple;orange;mango;apple;orange;mango;grape;apple\"\n",
    "s.strip(\"apple\")"
   ]
  },
  {
   "cell_type": "code",
   "execution_count": 16,
   "metadata": {},
   "outputs": [
    {
     "data": {
      "text/plain": [
       "5"
      ]
     },
     "execution_count": 16,
     "metadata": {},
     "output_type": "execute_result"
    }
   ],
   "source": [
    "s=\"apple;orange;apple;grape;orange;banana;apple;orange;mango;apple;orange;mango;grape;apple\"\n",
    "s.count(\"apple\")"
   ]
  },
  {
   "cell_type": "code",
   "execution_count": 17,
   "metadata": {},
   "outputs": [
    {
     "data": {
      "text/plain": [
       "0"
      ]
     },
     "execution_count": 17,
     "metadata": {},
     "output_type": "execute_result"
    }
   ],
   "source": [
    "s=\"apple;orange;apple;grape;orange;banana;apple;orange;mango;apple;orange;mango;grape;apple\"\n",
    "s.count(\"aplep\")"
   ]
  },
  {
   "cell_type": "code",
   "execution_count": 18,
   "metadata": {},
   "outputs": [
    {
     "data": {
      "text/plain": [
       "';orange;apple;grape;orange;banana;apple;orange;mango;apple;orange;mango;grape;'"
      ]
     },
     "execution_count": 18,
     "metadata": {},
     "output_type": "execute_result"
    }
   ],
   "source": [
    "s=\"apple;orange;apple;grape;orange;banana;apple;orange;mango;apple;orange;mango;grape;apple\"\n",
    "s.strip(\"aplep\")"
   ]
  },
  {
   "cell_type": "code",
   "execution_count": 19,
   "metadata": {},
   "outputs": [
    {
     "data": {
      "text/plain": [
       "'apple;orange;apple;grape;orange;banana;apple;orange;mango;apple;orange;mango;grape;a'"
      ]
     },
     "execution_count": 19,
     "metadata": {},
     "output_type": "execute_result"
    }
   ],
   "source": [
    "s=\"apple;orange;apple;grape;orange;banana;apple;orange;mango;apple;orange;mango;grape;apple\"\n",
    "s.strip(\"ple\")"
   ]
  },
  {
   "cell_type": "code",
   "execution_count": 20,
   "metadata": {},
   "outputs": [
    {
     "data": {
      "text/plain": [
       "'apple;orange;apple;grape;orange;banana;apple;orange;mango;apple;orange;mango;grape;a'"
      ]
     },
     "execution_count": 20,
     "metadata": {},
     "output_type": "execute_result"
    }
   ],
   "source": [
    "s=\"apple;orange;apple;grape;orange;banana;apple;orange;mango;apple;orange;mango;grape;apple\"\n",
    "s.strip(\"pple\")"
   ]
  },
  {
   "cell_type": "code",
   "execution_count": 21,
   "metadata": {},
   "outputs": [
    {
     "data": {
      "text/plain": [
       "';orange;apple;grape;orange;banana;apple;orange;mango;apple;orange;mango;grape;'"
      ]
     },
     "execution_count": 21,
     "metadata": {},
     "output_type": "execute_result"
    }
   ],
   "source": [
    "s=\"apple;orange;apple;grape;orange;banana;apple;orange;mango;apple;orange;mango;grape;apple\"\n",
    "s.strip(\"apple\")"
   ]
  },
  {
   "cell_type": "code",
   "execution_count": 22,
   "metadata": {},
   "outputs": [
    {
     "data": {
      "text/plain": [
       "'apple;orange;apple;grape;orange;banana;apple;orange;mango;apple;orange;mango;grape;apple'"
      ]
     },
     "execution_count": 22,
     "metadata": {},
     "output_type": "execute_result"
    }
   ],
   "source": [
    "s=\"apple;orange;apple;grape;orange;banana;apple;orange;mango;apple;orange;mango;grape;apple\"\n",
    "s.strip(\"p\")"
   ]
  },
  {
   "cell_type": "code",
   "execution_count": 24,
   "metadata": {},
   "outputs": [
    {
     "data": {
      "text/plain": [
       "' ;orange; ;grape;orange;banana; ;orange;mango; ;orange;mango;grape; '"
      ]
     },
     "execution_count": 24,
     "metadata": {},
     "output_type": "execute_result"
    }
   ],
   "source": [
    "s=\"apple;orange;apple;grape;orange;banana;apple;orange;mango;apple;orange;mango;grape;apple\"\n",
    "s.replace(\"apple\",\" \")"
   ]
  },
  {
   "cell_type": "code",
   "execution_count": 25,
   "metadata": {},
   "outputs": [
    {
     "data": {
      "text/plain": [
       "';orange;;grape;orange;banana;;orange;mango;;orange;mango;grape;'"
      ]
     },
     "execution_count": 25,
     "metadata": {},
     "output_type": "execute_result"
    }
   ],
   "source": [
    "s=\"apple;orange;apple;grape;orange;banana;apple;orange;mango;apple;orange;mango;grape;apple\"\n",
    "s.replace(\"apple\",\"\")"
   ]
  },
  {
   "cell_type": "code",
   "execution_count": 27,
   "metadata": {},
   "outputs": [
    {
     "data": {
      "text/plain": [
       "'appleorangeapplegrapeorangebananaappleorangemangoappleorangemangograpeapple'"
      ]
     },
     "execution_count": 27,
     "metadata": {},
     "output_type": "execute_result"
    }
   ],
   "source": [
    "s=\"apple;orange;apple;grape;orange;banana;apple;orange;mango;apple;orange;mango;grape;apple\"\n",
    "s.replace(\";\",\"\")"
   ]
  },
  {
   "cell_type": "code",
   "execution_count": 28,
   "metadata": {},
   "outputs": [
    {
     "data": {
      "text/plain": [
       "'appleorangeapple;grape;orange;banana;apple;orange;mango;apple;orange;mango;grape;apple'"
      ]
     },
     "execution_count": 28,
     "metadata": {},
     "output_type": "execute_result"
    }
   ],
   "source": [
    "s=\"apple;orange;apple;grape;orange;banana;apple;orange;mango;apple;orange;mango;grape;apple\"\n",
    "s.replace(\";\",\"\",2)"
   ]
  },
  {
   "cell_type": "code",
   "execution_count": 29,
   "metadata": {},
   "outputs": [
    {
     "name": "stdout",
     "output_type": "stream",
     "text": [
      "['apple', 'orange', 'apple', 'grape', 'orange', 'banana', 'apple', 'orange', 'mango', 'apple', 'orange', 'mango', 'grape', 'apple']\n",
      "['apple', 'orange', 'apple', 'grape', 'orange', 'banana', 'apple', 'orange', 'mango', 'apple', 'orange', 'mango', 'grape', 'apple']\n"
     ]
    }
   ],
   "source": [
    "s=\"apple;orange;apple;grape;orange;banana;apple;orange;mango;apple;orange;mango;grape;apple\"\n",
    "print(s.split(\";\"))\n",
    "print(s.rsplit(\";\"))"
   ]
  },
  {
   "cell_type": "code",
   "execution_count": 30,
   "metadata": {},
   "outputs": [
    {
     "name": "stdout",
     "output_type": "stream",
     "text": [
      "['', ';orange;', ';grape;orange;banana;', ';orange;mango;', ';orange;mango;grape;', '']\n",
      "['', ';orange;', ';grape;orange;banana;', ';orange;mango;', ';orange;mango;grape;', '']\n"
     ]
    }
   ],
   "source": [
    "s=\"apple;orange;apple;grape;orange;banana;apple;orange;mango;apple;orange;mango;grape;apple\"\n",
    "print(s.split(\"apple\"))\n",
    "print(s.rsplit(\"apple\"))"
   ]
  },
  {
   "cell_type": "code",
   "execution_count": 32,
   "metadata": {},
   "outputs": [
    {
     "name": "stdout",
     "output_type": "stream",
     "text": [
      "['apple', 'orange', 'apple', 'grape;orange;banana;apple;orange;mango;apple;orange;mango;grape;apple']\n",
      "['apple;orange;apple;grape;orange;banana;apple;orange;mango;apple;orange', 'mango', 'grape', 'apple']\n"
     ]
    }
   ],
   "source": [
    "s=\"apple;orange;apple;grape;orange;banana;apple;orange;mango;apple;orange;mango;grape;apple\"\n",
    "print(s.split(\";\",3))\n",
    "print(s.rsplit(\";\",3))"
   ]
  },
  {
   "cell_type": "code",
   "execution_count": 33,
   "metadata": {},
   "outputs": [
    {
     "data": {
      "text/plain": [
       "'apple;orange;apple;grape;orange;banana;apple;orange;mango;apple;orange;mango;grape;apple'"
      ]
     },
     "execution_count": 33,
     "metadata": {},
     "output_type": "execute_result"
    }
   ],
   "source": [
    "l=['apple', 'orange', 'apple', 'grape', 'orange', 'banana', 'apple', 'orange', \n",
    "   'mango', 'apple', 'orange', 'mango', 'grape', 'apple']\n",
    "\";\".join(l)\n"
   ]
  },
  {
   "cell_type": "code",
   "execution_count": 35,
   "metadata": {},
   "outputs": [
    {
     "data": {
      "text/plain": [
       "['230000', '330000', '430000', '530000']"
      ]
     },
     "execution_count": 35,
     "metadata": {},
     "output_type": "execute_result"
    }
   ],
   "source": [
    "salaries=\"230000;330000;430000;530000\"\n",
    "salaries.split(\";\")"
   ]
  },
  {
   "cell_type": "code",
   "execution_count": 37,
   "metadata": {},
   "outputs": [
    {
     "name": "stdout",
     "output_type": "stream",
     "text": [
      "['230000', '330000', '430000', '530000']\n"
     ]
    }
   ],
   "source": [
    "salaries=\"230000;330000;430000;530000\"\n",
    "l=salaries.split(\";\")\n",
    "print(l)"
   ]
  },
  {
   "cell_type": "code",
   "execution_count": 38,
   "metadata": {},
   "outputs": [
    {
     "name": "stdout",
     "output_type": "stream",
     "text": [
      "230000;330000;430000;530000\n"
     ]
    }
   ],
   "source": [
    "l=['230000', '330000', '430000', '530000']\n",
    "print(\";\".join(l))"
   ]
  },
  {
   "cell_type": "code",
   "execution_count": 39,
   "metadata": {},
   "outputs": [
    {
     "name": "stdout",
     "output_type": "stream",
     "text": [
      "230000;330000;430000;530000\n"
     ]
    }
   ],
   "source": [
    "salaries=\"230000;330000;430000;530000\"\n",
    "l=salaries.split(\";\")\n",
    "print(\";\".join(l))"
   ]
  },
  {
   "cell_type": "code",
   "execution_count": 40,
   "metadata": {},
   "outputs": [
    {
     "name": "stdout",
     "output_type": "stream",
     "text": [
      "230000330000430000530000\n"
     ]
    }
   ],
   "source": [
    "salaries=\"230000;330000;430000;530000\"\n",
    "l=salaries.split(\";\")\n",
    "print(\"\".join(l))"
   ]
  },
  {
   "cell_type": "code",
   "execution_count": 41,
   "metadata": {},
   "outputs": [
    {
     "name": "stdout",
     "output_type": "stream",
     "text": [
      "230000:330000:430000:530000\n"
     ]
    }
   ],
   "source": [
    "salaries=\"230000;330000;430000;530000\"\n",
    "l=salaries.split(\";\")\n",
    "print(\":\".join(l))"
   ]
  },
  {
   "cell_type": "code",
   "execution_count": 43,
   "metadata": {},
   "outputs": [
    {
     "name": "stdout",
     "output_type": "stream",
     "text": [
      "apple orange apple grape orange banana apple orange mango apple orange mango grape apple\n"
     ]
    }
   ],
   "source": [
    "s=\"apple;orange;apple;grape;orange;banana;apple;orange;mango;apple;orange;mango;grape;apple\"\n",
    "l=s.split(\";\")\n",
    "print(\" \".join(l))"
   ]
  },
  {
   "cell_type": "code",
   "execution_count": 44,
   "metadata": {},
   "outputs": [
    {
     "name": "stdout",
     "output_type": "stream",
     "text": [
      "apple orange apple;grape;orange;banana;apple;orange;mango;apple;orange;mango;grape;apple\n"
     ]
    }
   ],
   "source": [
    "s=\"apple;orange;apple;grape;orange;banana;apple;orange;mango;apple;orange;mango;grape;apple\"\n",
    "l=s.split(\";\",2)\n",
    "print(\" \".join(l))"
   ]
  },
  {
   "cell_type": "code",
   "execution_count": 45,
   "metadata": {},
   "outputs": [
    {
     "name": "stdout",
     "output_type": "stream",
     "text": [
      "apple;orange;apple;grape;orange;banana;apple;orange;mango;apple;orange;mango grape apple\n"
     ]
    }
   ],
   "source": [
    "s=\"apple;orange;apple;grape;orange;banana;apple;orange;mango;apple;orange;mango;grape;apple\"\n",
    "l=s.rsplit(\";\",2)\n",
    "print(\" \".join(l))"
   ]
  },
  {
   "cell_type": "code",
   "execution_count": 46,
   "metadata": {},
   "outputs": [
    {
     "name": "stdout",
     "output_type": "stream",
     "text": [
      "True\n",
      "False\n",
      "True\n",
      "False\n"
     ]
    }
   ],
   "source": [
    "s=\"abcd1234\"\n",
    "print(s.isalnum())# True\n",
    "print(s.isalpha())# False\n",
    "print(s.islower())# True\n",
    "print(s.isupper())# False"
   ]
  },
  {
   "cell_type": "code",
   "execution_count": 47,
   "metadata": {},
   "outputs": [
    {
     "name": "stdout",
     "output_type": "stream",
     "text": [
      "True\n",
      "True\n",
      "True\n",
      "False\n"
     ]
    }
   ],
   "source": [
    "s=\"abcd\"\n",
    "print(s.isalnum())# True\n",
    "print(s.isalpha())# False\n",
    "print(s.islower())# True\n",
    "print(s.isupper())# False"
   ]
  },
  {
   "cell_type": "code",
   "execution_count": 48,
   "metadata": {},
   "outputs": [
    {
     "name": "stdout",
     "output_type": "stream",
     "text": [
      "True\n",
      "False\n",
      "False\n",
      "False\n"
     ]
    }
   ],
   "source": [
    "s=\"1234\"\n",
    "print(s.isalnum())# True\n",
    "print(s.isalpha())# False\n",
    "print(s.islower())# True\n",
    "print(s.isupper())# False"
   ]
  },
  {
   "cell_type": "code",
   "execution_count": 49,
   "metadata": {},
   "outputs": [
    {
     "name": "stdout",
     "output_type": "stream",
     "text": [
      "True\n",
      "False\n",
      "True\n",
      "False\n"
     ]
    }
   ],
   "source": [
    "s=\"abcd1234\"\n",
    "print(s.isalnum())# True\n",
    "print(s.isalpha())# False\n",
    "print(s.islower())# True\n",
    "print(s.isupper())# False"
   ]
  },
  {
   "cell_type": "code",
   "execution_count": 50,
   "metadata": {},
   "outputs": [
    {
     "data": {
      "text/plain": [
       "False"
      ]
     },
     "execution_count": 50,
     "metadata": {},
     "output_type": "execute_result"
    }
   ],
   "source": [
    "s=\"#abcd1234\"\n",
    "s.isalnum()"
   ]
  },
  {
   "cell_type": "code",
   "execution_count": 51,
   "metadata": {},
   "outputs": [
    {
     "name": "stdout",
     "output_type": "stream",
     "text": [
      "False\n",
      "False\n",
      "True\n",
      "True\n"
     ]
    }
   ],
   "source": [
    "s=\"abcdABCD\"\n",
    "print(s.islower())\n",
    "print(s.isupper())\n",
    "print(s.isalpha())\n",
    "print(s.isalnum())"
   ]
  },
  {
   "cell_type": "code",
   "execution_count": 52,
   "metadata": {},
   "outputs": [
    {
     "name": "stdout",
     "output_type": "stream",
     "text": [
      "False\n",
      "False\n",
      "False\n",
      "False\n"
     ]
    }
   ],
   "source": [
    "s=\"abcd ABCD\"\n",
    "print(s.islower())\n",
    "print(s.isupper())\n",
    "print(s.isalpha())\n",
    "print(s.isalnum())"
   ]
  },
  {
   "cell_type": "code",
   "execution_count": 54,
   "metadata": {},
   "outputs": [
    {
     "name": "stdout",
     "output_type": "stream",
     "text": [
      "True\n",
      "True\n",
      "True\n"
     ]
    }
   ],
   "source": [
    "s=\"1234\"\n",
    "print(s.isnumeric())\n",
    "print(s.isdigit())\n",
    "print(s.isdecimal())"
   ]
  },
  {
   "cell_type": "code",
   "execution_count": 55,
   "metadata": {},
   "outputs": [
    {
     "name": "stdout",
     "output_type": "stream",
     "text": [
      "False\n",
      "False\n",
      "False\n"
     ]
    }
   ],
   "source": [
    "s=\"12.34\"\n",
    "print(s.isnumeric())\n",
    "print(s.isdigit())\n",
    "print(s.isdecimal())"
   ]
  },
  {
   "cell_type": "code",
   "execution_count": 56,
   "metadata": {},
   "outputs": [],
   "source": [
    "#small R and D. Tell me an input which gives different output for the above three functions."
   ]
  },
  {
   "cell_type": "code",
   "execution_count": 57,
   "metadata": {},
   "outputs": [
    {
     "name": "stdout",
     "output_type": "stream",
     "text": [
      "['__add__', '__class__', '__contains__', '__delattr__', '__dir__', '__doc__', '__eq__', '__format__', '__ge__', '__getattribute__', '__getitem__', '__getnewargs__', '__gt__', '__hash__', '__init__', '__init_subclass__', '__iter__', '__le__', '__len__', '__lt__', '__mod__', '__mul__', '__ne__', '__new__', '__reduce__', '__reduce_ex__', '__repr__', '__rmod__', '__rmul__', '__setattr__', '__sizeof__', '__str__', '__subclasshook__', 'capitalize', 'casefold', 'center', 'count', 'encode', 'endswith', 'expandtabs', 'find', 'format', 'format_map', 'index', 'isalnum', 'isalpha', 'isascii', 'isdecimal', 'isdigit', 'isidentifier', 'islower', 'isnumeric', 'isprintable', 'isspace', 'istitle', 'isupper', 'join', 'ljust', 'lower', 'lstrip', 'maketrans', 'partition', 'replace', 'rfind', 'rindex', 'rjust', 'rpartition', 'rsplit', 'rstrip', 'split', 'splitlines', 'startswith', 'strip', 'swapcase', 'title', 'translate', 'upper', 'zfill']\n"
     ]
    }
   ],
   "source": [
    "print(dir(s))"
   ]
  },
  {
   "cell_type": "code",
   "execution_count": 58,
   "metadata": {},
   "outputs": [
    {
     "name": "stdout",
     "output_type": "stream",
     "text": [
      "('apple', ';', 'orange;apple;grape;orange;banana;apple;orange;mango;apple;orange;mango;grape;apple')\n"
     ]
    }
   ],
   "source": [
    "s=\"apple;orange;apple;grape;orange;banana;apple;orange;mango;apple;orange;mango;grape;apple\"\n",
    "print(s.partition(\";\"))"
   ]
  },
  {
   "cell_type": "code",
   "execution_count": 59,
   "metadata": {},
   "outputs": [
    {
     "name": "stdout",
     "output_type": "stream",
     "text": [
      "('apple;', 'orange', ';apple;grape;orange;banana;apple;orange;mango;apple;orange;mango;grape;apple')\n"
     ]
    }
   ],
   "source": [
    "s=\"apple;orange;apple;grape;orange;banana;apple;orange;mango;apple;orange;mango;grape;apple\"\n",
    "print(s.partition(\"orange\"))"
   ]
  },
  {
   "cell_type": "code",
   "execution_count": 60,
   "metadata": {},
   "outputs": [
    {
     "name": "stdout",
     "output_type": "stream",
     "text": [
      "('apple;', 'orange', ';apple;grape;orange;banana;apple;orange;mango;apple;orange;mango;grape;apple')\n",
      "('apple;orange;apple;grape;orange;banana;apple;orange;mango;apple;', 'orange', ';mango;grape;apple')\n"
     ]
    }
   ],
   "source": [
    "s=\"apple;orange;apple;grape;orange;banana;apple;orange;mango;apple;orange;mango;grape;apple\"\n",
    "print(s.partition(\"orange\"))\n",
    "print(s.rpartition(\"orange\"))"
   ]
  },
  {
   "cell_type": "code",
   "execution_count": 61,
   "metadata": {},
   "outputs": [
    {
     "data": {
      "text/plain": [
       "'H@#$raba# got gol# min$s outsi#$ of t!$ cit@, n$ar to narsapur for$st.'"
      ]
     },
     "execution_count": 61,
     "metadata": {},
     "output_type": "execute_result"
    }
   ],
   "source": [
    "s=\"Hyderabad got gold mines outside of the city, near to narsapur forest.\"\n",
    "#h-!,y-@,d-#,e-$,r-^,a-&,b-*\n",
    "s.replace(\"h\",\"!\").replace(\"y\",\"@\").replace(\"d\",\"#\").replace(\"e\",\"$\")"
   ]
  },
  {
   "cell_type": "code",
   "execution_count": 66,
   "metadata": {},
   "outputs": [
    {
     "data": {
      "text/plain": [
       "'H@derabad got gold mines outside of t!e cit@, near to narsapur forest.'"
      ]
     },
     "execution_count": 66,
     "metadata": {},
     "output_type": "execute_result"
    }
   ],
   "source": [
    "s=\"Hyderabad got gold mines outside of the city, near to narsapur forest.\"\n",
    "#h-!,y-@,d-#,e-$,r-^,a-&,b-*\n",
    "s.translate({104:33,121:64})"
   ]
  },
  {
   "cell_type": "code",
   "execution_count": 64,
   "metadata": {},
   "outputs": [
    {
     "data": {
      "text/plain": [
       "121"
      ]
     },
     "execution_count": 64,
     "metadata": {},
     "output_type": "execute_result"
    }
   ],
   "source": [
    "ord(\"y\")"
   ]
  },
  {
   "cell_type": "code",
   "execution_count": 65,
   "metadata": {},
   "outputs": [
    {
     "data": {
      "text/plain": [
       "64"
      ]
     },
     "execution_count": 65,
     "metadata": {},
     "output_type": "execute_result"
    }
   ],
   "source": [
    "ord(\"@\")"
   ]
  },
  {
   "cell_type": "code",
   "execution_count": 67,
   "metadata": {},
   "outputs": [
    {
     "name": "stdout",
     "output_type": "stream",
     "text": [
      "{104: 33, 121: 64, 100: 35, 101: 36, 114: 37, 97: 94, 98: 38}\n"
     ]
    }
   ],
   "source": [
    "s=\"Hyderabad got gold mines outside of the city, near to narsapur forest.\"\n",
    "#h-!,y-@,d-#,e-$,r-^,a-&,b-*\n",
    "table = \"\".maketrans(\"hyderab\",\"!@#$%^&\")\n",
    "print(table)"
   ]
  },
  {
   "cell_type": "code",
   "execution_count": 68,
   "metadata": {},
   "outputs": [
    {
     "data": {
      "text/plain": [
       "'H@#$%^&^# got gol# min$s outsi#$ of t!$ cit@, n$^% to n^%s^pu% fo%$st.'"
      ]
     },
     "execution_count": 68,
     "metadata": {},
     "output_type": "execute_result"
    }
   ],
   "source": [
    "s=\"Hyderabad got gold mines outside of the city, near to narsapur forest.\"\n",
    "#h-!,y-@,d-#,e-$,r-^,a-&,b-*\n",
    "table = \"\".maketrans(\"hyderab\",\"!@#$%^&\")\n",
    "s.translate(table)"
   ]
  },
  {
   "cell_type": "code",
   "execution_count": 70,
   "metadata": {},
   "outputs": [
    {
     "name": "stdout",
     "output_type": "stream",
     "text": [
      "H@#$%^&^# got gol# min$s outsi#$ of t!$ cit@, n$^% to n^%s^pu% fo%$st.\n",
      "Hyderabad got gold mines outside of the city, near to narsapur forest.\n"
     ]
    }
   ],
   "source": [
    "s=\"Hyderabad got gold mines outside of the city, near to narsapur forest.\"\n",
    "#h-!,y-@,d-#,e-$,r-^,a-&,b-*\n",
    "table = \"\".maketrans(\"hyderab\",\"!@#$%^&\")\n",
    "enc = s.translate(table)\n",
    "print(enc)\n",
    "dec_table=\"\".maketrans(\"!@#$%^&\",\"hyderab\")\n",
    "dec=enc.translate(dec_table)\n",
    "print(dec)"
   ]
  },
  {
   "cell_type": "code",
   "execution_count": null,
   "metadata": {},
   "outputs": [],
   "source": []
  }
 ],
 "metadata": {
  "kernelspec": {
   "display_name": "Python 3",
   "language": "python",
   "name": "python3"
  },
  "language_info": {
   "codemirror_mode": {
    "name": "ipython",
    "version": 3
   },
   "file_extension": ".py",
   "mimetype": "text/x-python",
   "name": "python",
   "nbconvert_exporter": "python",
   "pygments_lexer": "ipython3",
   "version": "3.8.3"
  }
 },
 "nbformat": 4,
 "nbformat_minor": 4
}
