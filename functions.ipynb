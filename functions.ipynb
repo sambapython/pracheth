{
 "cells": [
  {
   "cell_type": "code",
   "execution_count": 1,
   "metadata": {},
   "outputs": [
    {
     "name": "stdout",
     "output_type": "stream",
     "text": [
      "started\n",
      "Hyderabad\n",
      "result= 30\n",
      "banglore\n",
      "chennai\n",
      "result= 300\n",
      "Pune\n",
      "result= 3000\n"
     ]
    }
   ],
   "source": [
    "print(\"started\")\n",
    "print(\"Hyderabad\")\n",
    "a=10\n",
    "b=20\n",
    "c=a+b\n",
    "print(\"result=\",c)\n",
    "print(\"banglore\")\n",
    "print(\"chennai\")\n",
    "a=100\n",
    "b=200\n",
    "c=a+b\n",
    "print(\"result=\",c)\n",
    "print(\"Pune\")\n",
    "a=1000\n",
    "b=2000\n",
    "c=a+b\n",
    "print(\"result=\",c)"
   ]
  },
  {
   "cell_type": "code",
   "execution_count": 2,
   "metadata": {},
   "outputs": [
    {
     "name": "stdout",
     "output_type": "stream",
     "text": [
      "started\n",
      "Hyderabad\n",
      "result= 30\n",
      "banglore\n",
      "chennai\n",
      "result= 300\n",
      "Pune\n",
      "result= 3000\n"
     ]
    }
   ],
   "source": [
    "def fun(a,b):\n",
    "    c=a+b\n",
    "    print(\"result=\",c)\n",
    "print(\"started\")\n",
    "print(\"Hyderabad\")\n",
    "fun(10,20)\n",
    "print(\"banglore\")\n",
    "print(\"chennai\")\n",
    "fun(100,200)\n",
    "print(\"Pune\")\n",
    "fun(1000,2000)"
   ]
  },
  {
   "cell_type": "code",
   "execution_count": 3,
   "metadata": {},
   "outputs": [
    {
     "name": "stdout",
     "output_type": "stream",
     "text": [
      "started\n",
      "Hyderabad\n",
      "summation= 30\n",
      "banglore\n",
      "chennai\n",
      "summation= 300\n",
      "Pune\n",
      "summation= 3000\n"
     ]
    }
   ],
   "source": [
    "print(\"started\")\n",
    "print(\"Hyderabad\")\n",
    "a=10\n",
    "b=20\n",
    "c=a+b\n",
    "print(\"summation=\",c)\n",
    "print(\"banglore\")\n",
    "print(\"chennai\")\n",
    "a=100\n",
    "b=200\n",
    "c=a+b\n",
    "print(\"summation=\",c)\n",
    "print(\"Pune\")\n",
    "a=1000\n",
    "b=2000\n",
    "c=a+b\n",
    "print(\"summation=\",c)"
   ]
  },
  {
   "cell_type": "code",
   "execution_count": 4,
   "metadata": {},
   "outputs": [
    {
     "name": "stdout",
     "output_type": "stream",
     "text": [
      "started\n",
      "Hyderabad\n",
      "summation= 30\n",
      "banglore\n",
      "chennai\n",
      "summation= 300\n",
      "Pune\n",
      "summation= 3000\n"
     ]
    }
   ],
   "source": [
    "def fun(a,b):\n",
    "    c=a+b\n",
    "    print(\"summation=\",c)\n",
    "print(\"started\")\n",
    "print(\"Hyderabad\")\n",
    "fun(10,20)\n",
    "print(\"banglore\")\n",
    "print(\"chennai\")\n",
    "fun(100,200)\n",
    "print(\"Pune\")\n",
    "fun(1000,2000)"
   ]
  },
  {
   "cell_type": "code",
   "execution_count": 5,
   "metadata": {},
   "outputs": [
    {
     "name": "stdout",
     "output_type": "stream",
     "text": [
      "started\n",
      "ended\n"
     ]
    }
   ],
   "source": [
    "print(\"started\")\n",
    "def fun():\n",
    "    print(\"hi\")\n",
    "    print(\"hello\")\n",
    "    print(\"hyderabad\")\n",
    "print(\"ended\")"
   ]
  },
  {
   "cell_type": "code",
   "execution_count": 6,
   "metadata": {},
   "outputs": [
    {
     "name": "stdout",
     "output_type": "stream",
     "text": [
      "started\n",
      "ended\n",
      "hi\n",
      "hello\n",
      "hyderabad\n"
     ]
    }
   ],
   "source": [
    "print(\"started\")\n",
    "def fun():\n",
    "    print(\"hi\")\n",
    "    print(\"hello\")\n",
    "    print(\"hyderabad\")\n",
    "print(\"ended\")\n",
    "fun()"
   ]
  },
  {
   "cell_type": "code",
   "execution_count": 7,
   "metadata": {},
   "outputs": [
    {
     "name": "stdout",
     "output_type": "stream",
     "text": [
      "started\n",
      "ended\n",
      "hi\n",
      "hello\n",
      "hyderabad\n",
      "1\n",
      "hi\n",
      "hello\n",
      "hyderabad\n",
      "2\n",
      "hi\n",
      "hello\n",
      "hyderabad\n"
     ]
    }
   ],
   "source": [
    "print(\"started\")\n",
    "def fun():\n",
    "    print(\"hi\")\n",
    "    print(\"hello\")\n",
    "    print(\"hyderabad\")\n",
    "print(\"ended\")\n",
    "fun()\n",
    "print(\"1\")\n",
    "fun()\n",
    "print(\"2\")\n",
    "fun()"
   ]
  },
  {
   "cell_type": "code",
   "execution_count": 8,
   "metadata": {},
   "outputs": [
    {
     "name": "stdout",
     "output_type": "stream",
     "text": [
      "x=10,y=20\n",
      "result= 30\n",
      "x=100,y=200\n",
      "result= 300\n",
      "x=1000,y=2000\n",
      "result= 3000\n",
      "x=10000,y=20000\n",
      "result= 30000\n"
     ]
    }
   ],
   "source": [
    "def add(x,y): # x,y are parameters\n",
    "    print(f\"x={x},y={y}\")\n",
    "    res=x+y\n",
    "    print(\"result=\",res)\n",
    "add(10,20) # 10,20 arguments\n",
    "add(100,200)\n",
    "add(1000,2000)\n",
    "add(10000,20000)"
   ]
  },
  {
   "cell_type": "code",
   "execution_count": 9,
   "metadata": {},
   "outputs": [
    {
     "name": "stdout",
     "output_type": "stream",
     "text": [
      "Enter number1:10\n",
      "Enter number2:20\n",
      "a=10.0,b=20.0\n",
      "result= -10.0\n",
      "a=10.0,b=20.0\n",
      "result= 200.0\n",
      "a=10.0,b=20.0\n",
      "result= 0.5\n"
     ]
    }
   ],
   "source": [
    "# write three functions1.sub 2.mul,3.div. Each function should have two parameters calculte corresponding operation.\n",
    "def sub(a,b):# a,b are parameters\n",
    "    print(f\"a={a},b={b}\")\n",
    "    c=a-b\n",
    "    print(\"result=\",c)\n",
    "def mul(a,b):\n",
    "    print(f\"a={a},b={b}\")\n",
    "    c=a*b\n",
    "    print(\"result=\",c)\n",
    "def div(a,b):\n",
    "    print(f\"a={a},b={b}\")\n",
    "    c=a/b\n",
    "    print(\"result=\",c)\n",
    "number1=float(input(\"Enter number1:\"))\n",
    "number2=float(input(\"Enter number2:\"))\n",
    "sub(number1, number2)# number1,number2 are arguments. a=number1, b=number2\n",
    "mul(number1, number2)\n",
    "div(number1, number2)"
   ]
  },
  {
   "cell_type": "code",
   "execution_count": 10,
   "metadata": {},
   "outputs": [
    {
     "name": "stdout",
     "output_type": "stream",
     "text": [
      "a=2,b=1,c=4,d=3,e=5\n"
     ]
    }
   ],
   "source": [
    "def fun(a,b,c,d,e):\n",
    "    print(f\"a={a},b={b},c={c},d={d},e={e}\")\n",
    "fun(2,1,4,3,5)#positional arguments.\n"
   ]
  },
  {
   "cell_type": "code",
   "execution_count": 11,
   "metadata": {},
   "outputs": [
    {
     "name": "stdout",
     "output_type": "stream",
     "text": [
      "a=2,b=1,c=4,d=3,e=5\n",
      "a=3,b=5,c=4,d=2,e=1\n"
     ]
    }
   ],
   "source": [
    "def fun(a,b,c,d,e):\n",
    "    print(f\"a={a},b={b},c={c},d={d},e={e}\")\n",
    "fun(2,1,4,3,5)#positional arguments.\n",
    "fun(c=4,d=2,e=1,a=3,b=5) #  keyword arguments"
   ]
  },
  {
   "cell_type": "code",
   "execution_count": 12,
   "metadata": {},
   "outputs": [
    {
     "name": "stdout",
     "output_type": "stream",
     "text": [
      "a=2,b=1,c=4,d=3,e=5\n",
      "a=3,b=5,c=4,d=2,e=1\n",
      "a=20,b=10,c=2,d=3,e=5\n"
     ]
    }
   ],
   "source": [
    "def fun(a,b,c,d,e):\n",
    "    print(f\"a={a},b={b},c={c},d={d},e={e}\")\n",
    "fun(2,1,4,3,5)#positional arguments.\n",
    "fun(c=4,d=2,e=1,a=3,b=5) #  keyword arguments\n",
    "fun(20,10,d=3,c=2,e=5)"
   ]
  },
  {
   "cell_type": "code",
   "execution_count": 13,
   "metadata": {},
   "outputs": [
    {
     "name": "stdout",
     "output_type": "stream",
     "text": [
      "a=2,b=1,c=4,d=3,e=5\n",
      "a=3,b=5,c=4,d=2,e=1\n",
      "a=20,b=10,c=2,d=3,e=5\n"
     ]
    },
    {
     "ename": "TypeError",
     "evalue": "fun() got multiple values for argument 'a'",
     "output_type": "error",
     "traceback": [
      "\u001b[1;31m---------------------------------------------------------------------------\u001b[0m",
      "\u001b[1;31mTypeError\u001b[0m                                 Traceback (most recent call last)",
      "\u001b[1;32m<ipython-input-13-a7354d48def2>\u001b[0m in \u001b[0;36m<module>\u001b[1;34m\u001b[0m\n\u001b[0;32m      4\u001b[0m \u001b[0mfun\u001b[0m\u001b[1;33m(\u001b[0m\u001b[0mc\u001b[0m\u001b[1;33m=\u001b[0m\u001b[1;36m4\u001b[0m\u001b[1;33m,\u001b[0m\u001b[0md\u001b[0m\u001b[1;33m=\u001b[0m\u001b[1;36m2\u001b[0m\u001b[1;33m,\u001b[0m\u001b[0me\u001b[0m\u001b[1;33m=\u001b[0m\u001b[1;36m1\u001b[0m\u001b[1;33m,\u001b[0m\u001b[0ma\u001b[0m\u001b[1;33m=\u001b[0m\u001b[1;36m3\u001b[0m\u001b[1;33m,\u001b[0m\u001b[0mb\u001b[0m\u001b[1;33m=\u001b[0m\u001b[1;36m5\u001b[0m\u001b[1;33m)\u001b[0m \u001b[1;31m#  keyword arguments\u001b[0m\u001b[1;33m\u001b[0m\u001b[1;33m\u001b[0m\u001b[0m\n\u001b[0;32m      5\u001b[0m \u001b[0mfun\u001b[0m\u001b[1;33m(\u001b[0m\u001b[1;36m20\u001b[0m\u001b[1;33m,\u001b[0m\u001b[1;36m10\u001b[0m\u001b[1;33m,\u001b[0m\u001b[0md\u001b[0m\u001b[1;33m=\u001b[0m\u001b[1;36m3\u001b[0m\u001b[1;33m,\u001b[0m\u001b[0mc\u001b[0m\u001b[1;33m=\u001b[0m\u001b[1;36m2\u001b[0m\u001b[1;33m,\u001b[0m\u001b[0me\u001b[0m\u001b[1;33m=\u001b[0m\u001b[1;36m5\u001b[0m\u001b[1;33m)\u001b[0m\u001b[1;33m\u001b[0m\u001b[1;33m\u001b[0m\u001b[0m\n\u001b[1;32m----> 6\u001b[1;33m \u001b[0mfun\u001b[0m\u001b[1;33m(\u001b[0m\u001b[1;36m20\u001b[0m\u001b[1;33m,\u001b[0m\u001b[1;36m10\u001b[0m\u001b[1;33m,\u001b[0m\u001b[0md\u001b[0m\u001b[1;33m=\u001b[0m\u001b[1;36m3\u001b[0m\u001b[1;33m,\u001b[0m\u001b[0mc\u001b[0m\u001b[1;33m=\u001b[0m\u001b[1;36m2\u001b[0m\u001b[1;33m,\u001b[0m\u001b[0me\u001b[0m\u001b[1;33m=\u001b[0m\u001b[1;36m5\u001b[0m\u001b[1;33m,\u001b[0m\u001b[0ma\u001b[0m\u001b[1;33m=\u001b[0m\u001b[1;36m200\u001b[0m\u001b[1;33m)\u001b[0m\u001b[1;31m#a=20,b-10,c=2,d==3,e=5\u001b[0m\u001b[1;33m\u001b[0m\u001b[1;33m\u001b[0m\u001b[0m\n\u001b[0m",
      "\u001b[1;31mTypeError\u001b[0m: fun() got multiple values for argument 'a'"
     ]
    }
   ],
   "source": [
    "def fun(a,b,c,d,e):\n",
    "    print(f\"a={a},b={b},c={c},d={d},e={e}\")\n",
    "fun(2,1,4,3,5)#positional arguments.\n",
    "fun(c=4,d=2,e=1,a=3,b=5) #  keyword arguments\n",
    "fun(20,10,d=3,c=2,e=5)\n",
    "fun(20,10,d=3,c=2,e=5,a=200)#a=20,b-10,c=2,d==3,e=5"
   ]
  },
  {
   "cell_type": "code",
   "execution_count": 14,
   "metadata": {},
   "outputs": [
    {
     "name": "stdout",
     "output_type": "stream",
     "text": [
      "60\n"
     ]
    },
    {
     "ename": "TypeError",
     "evalue": "fun() missing 1 required positional argument: 'z'",
     "output_type": "error",
     "traceback": [
      "\u001b[1;31m---------------------------------------------------------------------------\u001b[0m",
      "\u001b[1;31mTypeError\u001b[0m                                 Traceback (most recent call last)",
      "\u001b[1;32m<ipython-input-14-9ef58581ed60>\u001b[0m in \u001b[0;36m<module>\u001b[1;34m\u001b[0m\n\u001b[0;32m      3\u001b[0m     \u001b[0mprint\u001b[0m\u001b[1;33m(\u001b[0m\u001b[0mres\u001b[0m\u001b[1;33m)\u001b[0m\u001b[1;33m\u001b[0m\u001b[1;33m\u001b[0m\u001b[0m\n\u001b[0;32m      4\u001b[0m \u001b[0mfun\u001b[0m\u001b[1;33m(\u001b[0m\u001b[1;36m10\u001b[0m\u001b[1;33m,\u001b[0m\u001b[1;36m20\u001b[0m\u001b[1;33m,\u001b[0m\u001b[1;36m30\u001b[0m\u001b[1;33m)\u001b[0m\u001b[1;33m\u001b[0m\u001b[1;33m\u001b[0m\u001b[0m\n\u001b[1;32m----> 5\u001b[1;33m \u001b[0mfun\u001b[0m\u001b[1;33m(\u001b[0m\u001b[1;36m10\u001b[0m\u001b[1;33m,\u001b[0m\u001b[1;36m20\u001b[0m\u001b[1;33m)\u001b[0m\u001b[1;33m\u001b[0m\u001b[1;33m\u001b[0m\u001b[0m\n\u001b[0m",
      "\u001b[1;31mTypeError\u001b[0m: fun() missing 1 required positional argument: 'z'"
     ]
    }
   ],
   "source": [
    "def fun(x,y,z):\n",
    "    res = x+y+z\n",
    "    print(res)\n",
    "fun(10,20,30)\n",
    "fun(10,20)\n"
   ]
  },
  {
   "cell_type": "code",
   "execution_count": 15,
   "metadata": {},
   "outputs": [
    {
     "name": "stdout",
     "output_type": "stream",
     "text": [
      "60\n"
     ]
    },
    {
     "ename": "TypeError",
     "evalue": "fun() takes 3 positional arguments but 4 were given",
     "output_type": "error",
     "traceback": [
      "\u001b[1;31m---------------------------------------------------------------------------\u001b[0m",
      "\u001b[1;31mTypeError\u001b[0m                                 Traceback (most recent call last)",
      "\u001b[1;32m<ipython-input-15-14d16b199e29>\u001b[0m in \u001b[0;36m<module>\u001b[1;34m\u001b[0m\n\u001b[0;32m      3\u001b[0m     \u001b[0mprint\u001b[0m\u001b[1;33m(\u001b[0m\u001b[0mres\u001b[0m\u001b[1;33m)\u001b[0m\u001b[1;33m\u001b[0m\u001b[1;33m\u001b[0m\u001b[0m\n\u001b[0;32m      4\u001b[0m \u001b[0mfun\u001b[0m\u001b[1;33m(\u001b[0m\u001b[1;36m10\u001b[0m\u001b[1;33m,\u001b[0m\u001b[1;36m20\u001b[0m\u001b[1;33m,\u001b[0m\u001b[1;36m30\u001b[0m\u001b[1;33m)\u001b[0m\u001b[1;33m\u001b[0m\u001b[1;33m\u001b[0m\u001b[0m\n\u001b[1;32m----> 5\u001b[1;33m \u001b[0mfun\u001b[0m\u001b[1;33m(\u001b[0m\u001b[1;36m10\u001b[0m\u001b[1;33m,\u001b[0m\u001b[1;36m20\u001b[0m\u001b[1;33m,\u001b[0m\u001b[1;36m30\u001b[0m\u001b[1;33m,\u001b[0m\u001b[1;36m40\u001b[0m\u001b[1;33m)\u001b[0m\u001b[1;33m\u001b[0m\u001b[1;33m\u001b[0m\u001b[0m\n\u001b[0m",
      "\u001b[1;31mTypeError\u001b[0m: fun() takes 3 positional arguments but 4 were given"
     ]
    }
   ],
   "source": [
    "def fun(x,y,z):\n",
    "    res = x+y+z\n",
    "    print(res)\n",
    "fun(10,20,30)\n",
    "fun(10,20,30,40)\n"
   ]
  },
  {
   "cell_type": "code",
   "execution_count": 16,
   "metadata": {},
   "outputs": [
    {
     "name": "stdout",
     "output_type": "stream",
     "text": [
      "result= 15\n"
     ]
    },
    {
     "ename": "TypeError",
     "evalue": "add() missing 1 required positional argument: 'e'",
     "output_type": "error",
     "traceback": [
      "\u001b[1;31m---------------------------------------------------------------------------\u001b[0m",
      "\u001b[1;31mTypeError\u001b[0m                                 Traceback (most recent call last)",
      "\u001b[1;32m<ipython-input-16-b13bc3eccd45>\u001b[0m in \u001b[0;36m<module>\u001b[1;34m\u001b[0m\n\u001b[0;32m      3\u001b[0m     \u001b[0mprint\u001b[0m\u001b[1;33m(\u001b[0m\u001b[1;34m\"result=\"\u001b[0m\u001b[1;33m,\u001b[0m\u001b[0mres\u001b[0m\u001b[1;33m)\u001b[0m\u001b[1;33m\u001b[0m\u001b[1;33m\u001b[0m\u001b[0m\n\u001b[0;32m      4\u001b[0m \u001b[0madd\u001b[0m\u001b[1;33m(\u001b[0m\u001b[1;36m1\u001b[0m\u001b[1;33m,\u001b[0m\u001b[1;36m2\u001b[0m\u001b[1;33m,\u001b[0m\u001b[1;36m3\u001b[0m\u001b[1;33m,\u001b[0m\u001b[1;36m4\u001b[0m\u001b[1;33m,\u001b[0m\u001b[1;36m5\u001b[0m\u001b[1;33m)\u001b[0m\u001b[1;33m\u001b[0m\u001b[1;33m\u001b[0m\u001b[0m\n\u001b[1;32m----> 5\u001b[1;33m \u001b[0madd\u001b[0m\u001b[1;33m(\u001b[0m\u001b[1;36m1\u001b[0m\u001b[1;33m,\u001b[0m\u001b[1;36m2\u001b[0m\u001b[1;33m,\u001b[0m\u001b[1;36m3\u001b[0m\u001b[1;33m,\u001b[0m\u001b[1;36m4\u001b[0m\u001b[1;33m)\u001b[0m\u001b[1;33m\u001b[0m\u001b[1;33m\u001b[0m\u001b[0m\n\u001b[0m\u001b[0;32m      6\u001b[0m \u001b[0madd\u001b[0m\u001b[1;33m(\u001b[0m\u001b[1;36m1\u001b[0m\u001b[1;33m,\u001b[0m\u001b[1;36m2\u001b[0m\u001b[1;33m,\u001b[0m\u001b[1;36m3\u001b[0m\u001b[1;33m)\u001b[0m\u001b[1;33m\u001b[0m\u001b[1;33m\u001b[0m\u001b[0m\n\u001b[0;32m      7\u001b[0m \u001b[0madd\u001b[0m\u001b[1;33m(\u001b[0m\u001b[1;36m1\u001b[0m\u001b[1;33m,\u001b[0m\u001b[1;36m2\u001b[0m\u001b[1;33m)\u001b[0m\u001b[1;33m\u001b[0m\u001b[1;33m\u001b[0m\u001b[0m\n",
      "\u001b[1;31mTypeError\u001b[0m: add() missing 1 required positional argument: 'e'"
     ]
    }
   ],
   "source": [
    "def add(a,b,c,d,e):\n",
    "    res=a+b+c+d+e\n",
    "    print(\"result=\",res)\n",
    "add(1,2,3,4,5)\n",
    "add(1,2,3,4)\n",
    "add(1,2,3)\n",
    "add(1,2)"
   ]
  },
  {
   "cell_type": "code",
   "execution_count": 17,
   "metadata": {},
   "outputs": [
    {
     "name": "stdout",
     "output_type": "stream",
     "text": [
      "a=1,b=2,c=3,d=4,e=5\n",
      "result= 15\n",
      "a=1,b=2,c=3,d=4,e=0\n",
      "result= 10\n",
      "a=1,b=2,c=3,d=0,e=0\n",
      "result= 6\n",
      "a=1,b=2,c=0,d=0,e=0\n",
      "result= 3\n"
     ]
    }
   ],
   "source": [
    "def add(a,b,c=0,d=0,e=0):#default argument\n",
    "    print(f\"a={a},b={b},c={c},d={d},e={e}\")\n",
    "    res=a+b+c+d+e\n",
    "    print(\"result=\",res)\n",
    "add(1,2,3,4,5)\n",
    "add(1,2,3,4)\n",
    "add(1,2,3)\n",
    "add(1,2)"
   ]
  },
  {
   "cell_type": "code",
   "execution_count": 19,
   "metadata": {},
   "outputs": [
    {
     "name": "stdout",
     "output_type": "stream",
     "text": [
      "a=1,b=2,c=3,d=4,e=5\n",
      "result= 15\n",
      "a=1,b=2,c=3,d=4,e=0\n",
      "result= 10\n",
      "a=1,b=2,c=3,d=0,e=0\n",
      "result= 6\n",
      "a=1,b=2,c=0,d=0,e=0\n",
      "result= 3\n",
      "a=10,b=0,c=0,d=0,e=0\n",
      "result= 10\n",
      "a=0,b=0,c=0,d=0,e=0\n",
      "result= 0\n"
     ]
    }
   ],
   "source": [
    "def add(a=0,b=0,c=0,d=0,e=0):#default argument\n",
    "    print(f\"a={a},b={b},c={c},d={d},e={e}\")\n",
    "    res=a+b+c+d+e\n",
    "    print(\"result=\",res)\n",
    "add(1,2,3,4,5)\n",
    "add(1,2,3,4)\n",
    "add(1,2,3)\n",
    "add(1,2)\n",
    "add(10)\n",
    "add()"
   ]
  },
  {
   "cell_type": "code",
   "execution_count": 20,
   "metadata": {},
   "outputs": [
    {
     "name": "stdout",
     "output_type": "stream",
     "text": [
      "a=1,b=2,c=3,d=4,e=5\n",
      "result= 15\n",
      "a=1,b=2,c=3,d=4,e=0\n",
      "result= 10\n",
      "a=1,b=2,c=3,d=0,e=0\n",
      "result= 6\n",
      "a=1,b=2,c=0,d=0,e=0\n",
      "result= 3\n",
      "a=10,b=0,c=0,d=0,e=0\n",
      "result= 10\n",
      "a=0,b=0,c=0,d=0,e=0\n",
      "result= 0\n"
     ]
    },
    {
     "ename": "TypeError",
     "evalue": "add() takes from 0 to 5 positional arguments but 6 were given",
     "output_type": "error",
     "traceback": [
      "\u001b[1;31m---------------------------------------------------------------------------\u001b[0m",
      "\u001b[1;31mTypeError\u001b[0m                                 Traceback (most recent call last)",
      "\u001b[1;32m<ipython-input-20-3e0d5e1ea9d9>\u001b[0m in \u001b[0;36m<module>\u001b[1;34m\u001b[0m\n\u001b[0;32m      9\u001b[0m \u001b[0madd\u001b[0m\u001b[1;33m(\u001b[0m\u001b[1;36m10\u001b[0m\u001b[1;33m)\u001b[0m\u001b[1;33m\u001b[0m\u001b[1;33m\u001b[0m\u001b[0m\n\u001b[0;32m     10\u001b[0m \u001b[0madd\u001b[0m\u001b[1;33m(\u001b[0m\u001b[1;33m)\u001b[0m\u001b[1;33m\u001b[0m\u001b[1;33m\u001b[0m\u001b[0m\n\u001b[1;32m---> 11\u001b[1;33m \u001b[0madd\u001b[0m\u001b[1;33m(\u001b[0m\u001b[1;36m1\u001b[0m\u001b[1;33m,\u001b[0m\u001b[1;36m2\u001b[0m\u001b[1;33m,\u001b[0m\u001b[1;36m3\u001b[0m\u001b[1;33m,\u001b[0m\u001b[1;36m4\u001b[0m\u001b[1;33m,\u001b[0m\u001b[1;36m5\u001b[0m\u001b[1;33m,\u001b[0m\u001b[1;36m6\u001b[0m\u001b[1;33m)\u001b[0m\u001b[1;33m\u001b[0m\u001b[1;33m\u001b[0m\u001b[0m\n\u001b[0m",
      "\u001b[1;31mTypeError\u001b[0m: add() takes from 0 to 5 positional arguments but 6 were given"
     ]
    }
   ],
   "source": [
    "def add(a=0,b=0,c=0,d=0,e=0):#default argument\n",
    "    print(f\"a={a},b={b},c={c},d={d},e={e}\")\n",
    "    res=a+b+c+d+e\n",
    "    print(\"result=\",res)\n",
    "add(1,2,3,4,5)\n",
    "add(1,2,3,4)\n",
    "add(1,2,3)\n",
    "add(1,2)\n",
    "add(10)\n",
    "add()\n",
    "add(1,2,3,4,5,6)"
   ]
  },
  {
   "cell_type": "code",
   "execution_count": 21,
   "metadata": {},
   "outputs": [
    {
     "name": "stdout",
     "output_type": "stream",
     "text": [
      "(1, 2, 3, 4, 5, 6, 7, 8, 9, 10, 23, 24, 5, 678, 89, 97, 64) <class 'tuple'>\n",
      "(10, 20) <class 'tuple'>\n",
      "(1000, 200, 300, 400, 500, 600, 7000, 8000) <class 'tuple'>\n",
      "(101,) <class 'tuple'>\n",
      "() <class 'tuple'>\n"
     ]
    }
   ],
   "source": [
    "def add(*x): #*args, *arguments.\n",
    "    print(x, type(x))\n",
    "add(1,2,3,4,5,6,7,8,9,10,23,24,5,678,89,97,64)\n",
    "add(10,20)\n",
    "add(1000,200,300,400,500,600,7000,8000)\n",
    "add(101)\n",
    "add()"
   ]
  },
  {
   "cell_type": "code",
   "execution_count": 22,
   "metadata": {},
   "outputs": [
    {
     "name": "stdout",
     "output_type": "stream",
     "text": [
      "(1, 2, 3, 4, 5, 6, 7, 8, 9, 10, 23, 24, 5, 678, 89, 97, 64) <class 'tuple'>\n",
      "(10, 20) <class 'tuple'>\n",
      "(1000, 200, 300, 400, 500, 600, 7000, 8000) <class 'tuple'>\n",
      "(101,) <class 'tuple'>\n",
      "() <class 'tuple'>\n"
     ]
    }
   ],
   "source": [
    "def add(*numbers): #*args, *arguments.\n",
    "    print(numbers, type(numbers))\n",
    "add(1,2,3,4,5,6,7,8,9,10,23,24,5,678,89,97,64)\n",
    "add(10,20)\n",
    "add(1000,200,300,400,500,600,7000,8000)\n",
    "add(101)\n",
    "add()"
   ]
  },
  {
   "cell_type": "code",
   "execution_count": 1,
   "metadata": {},
   "outputs": [
    {
     "name": "stdout",
     "output_type": "stream",
     "text": [
      "{'x': 10, 'y': 20, 'z': 30, 'a': 3, 'b': 2, 'c': 4} <class 'dict'>\n"
     ]
    }
   ],
   "source": [
    "def add(**k): #Keyword arguments.\n",
    "    print(k, type(k))\n",
    "add(x=10,y=20,z=30,a=3,b=2,c=4)"
   ]
  },
  {
   "cell_type": "code",
   "execution_count": 2,
   "metadata": {},
   "outputs": [
    {
     "name": "stdout",
     "output_type": "stream",
     "text": [
      "{'x': 10, 'y': 20, 'z': 30, 'a': 3, 'b': 2, 'c': 4} <class 'dict'>\n",
      "{'p': 10} <class 'dict'>\n"
     ]
    }
   ],
   "source": [
    "def add(**k): #Keyword arguments.\n",
    "    print(k, type(k))\n",
    "add(x=10,y=20,z=30,a=3,b=2,c=4)\n",
    "add(p=10)"
   ]
  },
  {
   "cell_type": "code",
   "execution_count": 3,
   "metadata": {},
   "outputs": [
    {
     "name": "stdout",
     "output_type": "stream",
     "text": [
      "{'x': 10, 'y': 20, 'z': 30, 'a': 3, 'b': 2, 'c': 4} <class 'dict'>\n",
      "{'p': 10} <class 'dict'>\n",
      "{} <class 'dict'>\n"
     ]
    }
   ],
   "source": [
    "def add(**k): #Keyword arguments.\n",
    "    print(k, type(k))\n",
    "add(x=10,y=20,z=30,a=3,b=2,c=4)\n",
    "add(p=10)\n",
    "add()"
   ]
  },
  {
   "cell_type": "code",
   "execution_count": 4,
   "metadata": {},
   "outputs": [
    {
     "name": "stdout",
     "output_type": "stream",
     "text": [
      "name=jay,age=4,pan=None,email=None\n",
      "args=()\n",
      "kwargs={'height': 2.8, 'weight': 17}\n"
     ]
    }
   ],
   "source": [
    "def person(name,age,pan=None,email=None,*args,**kwargs):\n",
    "    print(f\"name={name},age={age},pan={pan},email={email}\")\n",
    "    print(f\"args={args}\")\n",
    "    print(f\"kwargs={kwargs}\")\n",
    "\n",
    "person(\"jay\",\"4\",height=2.8,weight=17)"
   ]
  },
  {
   "cell_type": "code",
   "execution_count": 5,
   "metadata": {},
   "outputs": [
    {
     "name": "stdout",
     "output_type": "stream",
     "text": [
      "name=samba,age=32,pan=PAN1234,email=sambaodoo@gmail.com\n",
      "args=('adhar1', 'passport1')\n",
      "kwargs={}\n"
     ]
    }
   ],
   "source": [
    "def person(name,age,pan=None,email=None,*args,**kwargs):\n",
    "    print(f\"name={name},age={age},pan={pan},email={email}\")\n",
    "    print(f\"args={args}\")\n",
    "    print(f\"kwargs={kwargs}\")\n",
    "\n",
    "person(\"samba\",\"32\",\"PAN1234\",\"sambaodoo@gmail.com\",\"adhar1\",\"passport1\")"
   ]
  },
  {
   "cell_type": "code",
   "execution_count": 6,
   "metadata": {},
   "outputs": [
    {
     "name": "stdout",
     "output_type": "stream",
     "text": [
      "name=samba,age=32,pan=PAN1234,email=sambaodoo@gmail.com\n",
      "args=()\n",
      "kwargs={'adhar': 'adhar1', 'passport': 'passport1'}\n"
     ]
    }
   ],
   "source": [
    "def person(name,age,pan=None,email=None,*args,**kwargs):\n",
    "    print(f\"name={name},age={age},pan={pan},email={email}\")\n",
    "    print(f\"args={args}\")\n",
    "    print(f\"kwargs={kwargs}\")\n",
    "\n",
    "person(adhar=\"adhar1\",passport=\"passport1\",name=\"samba\",email=\"sambaodoo@gmail.com\",age=\"32\",pan=\"PAN1234\")"
   ]
  },
  {
   "cell_type": "code",
   "execution_count": 7,
   "metadata": {},
   "outputs": [
    {
     "name": "stdout",
     "output_type": "stream",
     "text": [
      "name=samba,age=32,pan=PAN1234,email=sambaodoo@gmail.com\n",
      "args=('adhar1', 'passport1')\n",
      "kwargs={'height': 5.6, 'weight': 72}\n"
     ]
    }
   ],
   "source": [
    "def person(name,age,pan=None,email=None,*args,**kwargs):\n",
    "    print(f\"name={name},age={age},pan={pan},email={email}\")\n",
    "    print(f\"args={args}\")\n",
    "    print(f\"kwargs={kwargs}\")\n",
    "\n",
    "person(\"samba\",\"32\",\"PAN1234\",\"sambaodoo@gmail.com\",\"adhar1\",\"passport1\", height=5.6,weight=72)"
   ]
  },
  {
   "cell_type": "code",
   "execution_count": 8,
   "metadata": {},
   "outputs": [
    {
     "ename": "TypeError",
     "evalue": "person() missing 1 required positional argument: 'age'",
     "output_type": "error",
     "traceback": [
      "\u001b[1;31m---------------------------------------------------------------------------\u001b[0m",
      "\u001b[1;31mTypeError\u001b[0m                                 Traceback (most recent call last)",
      "\u001b[1;32m<ipython-input-8-8d4895ad8bcc>\u001b[0m in \u001b[0;36m<module>\u001b[1;34m\u001b[0m\n\u001b[0;32m      4\u001b[0m     \u001b[0mprint\u001b[0m\u001b[1;33m(\u001b[0m\u001b[1;34mf\"args={args}\"\u001b[0m\u001b[1;33m)\u001b[0m\u001b[1;33m\u001b[0m\u001b[1;33m\u001b[0m\u001b[0m\n\u001b[0;32m      5\u001b[0m     \u001b[0mprint\u001b[0m\u001b[1;33m(\u001b[0m\u001b[1;34mf\"kwargs={kwargs}\"\u001b[0m\u001b[1;33m)\u001b[0m\u001b[1;33m\u001b[0m\u001b[1;33m\u001b[0m\u001b[0m\n\u001b[1;32m----> 6\u001b[1;33m \u001b[0mperson\u001b[0m\u001b[1;33m(\u001b[0m\u001b[0ml\u001b[0m\u001b[1;33m)\u001b[0m\u001b[1;33m\u001b[0m\u001b[1;33m\u001b[0m\u001b[0m\n\u001b[0m",
      "\u001b[1;31mTypeError\u001b[0m: person() missing 1 required positional argument: 'age'"
     ]
    }
   ],
   "source": [
    "l=[\"samba\",\"32\",\"PAN1234\",\"sambaodoo@gmail.com\",\"adhar1\",\"passport1\"]\n",
    "def person(name,age,pan=None,email=None,*args,**kwargs):\n",
    "    print(f\"name={name},age={age},pan={pan},email={email}\")\n",
    "    print(f\"args={args}\")\n",
    "    print(f\"kwargs={kwargs}\")\n",
    "person(l)"
   ]
  },
  {
   "cell_type": "code",
   "execution_count": 9,
   "metadata": {},
   "outputs": [
    {
     "name": "stdout",
     "output_type": "stream",
     "text": [
      "name=['samba', '32', 'PAN1234', 'sambaodoo@gmail.com', 'adhar1', 'passport1'],age=10,pan=None,email=None\n",
      "args=()\n",
      "kwargs={}\n"
     ]
    }
   ],
   "source": [
    "l=[\"samba\",\"32\",\"PAN1234\",\"sambaodoo@gmail.com\",\"adhar1\",\"passport1\"]\n",
    "def person(name,age,pan=None,email=None,*args,**kwargs):\n",
    "    print(f\"name={name},age={age},pan={pan},email={email}\")\n",
    "    print(f\"args={args}\")\n",
    "    print(f\"kwargs={kwargs}\")\n",
    "person(l,10)"
   ]
  },
  {
   "cell_type": "code",
   "execution_count": 10,
   "metadata": {},
   "outputs": [
    {
     "name": "stdout",
     "output_type": "stream",
     "text": [
      "name=samba,age=32,pan=PAN1234,email=sambaodoo@gmail.com\n",
      "args=('adhar1', 'passport1')\n",
      "kwargs={}\n"
     ]
    }
   ],
   "source": [
    "l=[\"samba\",\"32\",\"PAN1234\",\"sambaodoo@gmail.com\",\"adhar1\",\"passport1\"]\n",
    "def person(name,age,pan=None,email=None,*args,**kwargs):\n",
    "    print(f\"name={name},age={age},pan={pan},email={email}\")\n",
    "    print(f\"args={args}\")\n",
    "    print(f\"kwargs={kwargs}\")\n",
    "person(l[0],l[1],l[2],l[3],l[4],l[5])"
   ]
  },
  {
   "cell_type": "code",
   "execution_count": 12,
   "metadata": {},
   "outputs": [
    {
     "name": "stdout",
     "output_type": "stream",
     "text": [
      "name=samba,age=32,pan=PAN1234,email=sambaodoo@gmail.com\n",
      "args=('adhar1', 'passport1')\n",
      "kwargs={}\n",
      "***********************************\n",
      "name=samba,age=32,pan=PAN1234,email=sambaodoo@gmail.com\n",
      "args=('adhar1', 'passport1')\n",
      "kwargs={}\n"
     ]
    }
   ],
   "source": [
    "l=[\"samba\",\"32\",\"PAN1234\",\"sambaodoo@gmail.com\",\"adhar1\",\"passport1\"]\n",
    "def person(name,age,pan=None,email=None,*args,**kwargs):\n",
    "    print(f\"name={name},age={age},pan={pan},email={email}\")\n",
    "    print(f\"args={args}\")\n",
    "    print(f\"kwargs={kwargs}\")\n",
    "person(l[0],l[1],l[2],l[3],l[4],l[5])\n",
    "print(\"*\"*35)\n",
    "person(*l)"
   ]
  },
  {
   "cell_type": "code",
   "execution_count": 14,
   "metadata": {},
   "outputs": [
    {
     "name": "stdout",
     "output_type": "stream",
     "text": [
      "name=samba,age=32,pan=PAN1234,email=sambaodoo@gmail.com\n",
      "args=('adhar1', 'passport1')\n",
      "kwargs={}\n",
      "***********************************\n",
      "name=samba,age=32,pan=PAN1234,email=sambaodoo@gmail.com\n",
      "args=('adhar1', 'passport1')\n",
      "kwargs={}\n",
      "********************\n",
      "name=['samba', '32', 'PAN1234', 'sambaodoo@gmail.com', 'adhar1', 'passport1'],age=10,pan=None,email=None\n",
      "args=()\n",
      "kwargs={}\n"
     ]
    }
   ],
   "source": [
    "l=[\"samba\",\"32\",\"PAN1234\",\"sambaodoo@gmail.com\",\"adhar1\",\"passport1\"]\n",
    "def person(name,age,pan=None,email=None,*args,**kwargs):\n",
    "    print(f\"name={name},age={age},pan={pan},email={email}\")\n",
    "    print(f\"args={args}\")\n",
    "    print(f\"kwargs={kwargs}\")\n",
    "person(l[0],l[1],l[2],l[3],l[4],l[5])\n",
    "print(\"*\"*35)\n",
    "person(*l)\n",
    "print(\"*\"*20)\n",
    "person(l,10)"
   ]
  },
  {
   "cell_type": "code",
   "execution_count": 15,
   "metadata": {},
   "outputs": [
    {
     "name": "stdout",
     "output_type": "stream",
     "text": [
      "name={'name': 'samba', 'age': 32, 'pan': 'pan1234', 'adhar': 'adhar1234', 'mobile': 9676622023},age=10,pan=None,email=None\n",
      "args=()\n",
      "kwargs={}\n"
     ]
    }
   ],
   "source": [
    "d={\"name\":\"samba\",\"age\":32,\"pan\":\"pan1234\",\"adhar\":\"adhar1234\",\"mobile\":9676622023}\n",
    "def person(name,age,pan=None,email=None,*args,**kwargs):\n",
    "    print(f\"name={name},age={age},pan={pan},email={email}\")\n",
    "    print(f\"args={args}\")\n",
    "    print(f\"kwargs={kwargs}\")\n",
    "person(d,10)"
   ]
  },
  {
   "cell_type": "code",
   "execution_count": 16,
   "metadata": {},
   "outputs": [
    {
     "name": "stdout",
     "output_type": "stream",
     "text": [
      "name={'name': 'samba', 'age': 32, 'pan': 'pan1234', 'adhar': 'adhar1234', 'mobile': 9676622023},age=10,pan=None,email=None\n",
      "args=()\n",
      "kwargs={}\n",
      "********************\n",
      "name=samba,age=32,pan=pan1234,email=None\n",
      "args=()\n",
      "kwargs={'adhar': 'adhar1234', 'mobile': 9676622023}\n"
     ]
    }
   ],
   "source": [
    "d={\"name\":\"samba\",\"age\":32,\"pan\":\"pan1234\",\"adhar\":\"adhar1234\",\"mobile\":9676622023}\n",
    "def person(name,age,pan=None,email=None,*args,**kwargs):\n",
    "    print(f\"name={name},age={age},pan={pan},email={email}\")\n",
    "    print(f\"args={args}\")\n",
    "    print(f\"kwargs={kwargs}\")\n",
    "person(d,10)\n",
    "print(\"*\"*20)\n",
    "person(**d)#perosn(name=\"samba\",age=32,pan=\"pan1234\",adhar=\"adhar1234\",mobile=9676622023)"
   ]
  },
  {
   "cell_type": "code",
   "execution_count": 17,
   "metadata": {},
   "outputs": [
    {
     "name": "stdout",
     "output_type": "stream",
     "text": [
      "before fun def: l= [10, 20, 30, 40]\n",
      "after def fun: l= [10, 20, 30, 40]\n",
      "inside fun: l= [1, 2, 3, 4]\n",
      "after fun call: l= [10, 20, 30, 40]\n"
     ]
    }
   ],
   "source": [
    "#scope\n",
    "l=[10,20,30,40]\n",
    "print(\"before fun def: l=\",l)\n",
    "def fun():\n",
    "    l=[1,2,3,4]\n",
    "    print(\"inside fun: l=\",l)\n",
    "print(\"after def fun: l=\",l)\n",
    "fun()\n",
    "print(\"after fun call: l=\",l)"
   ]
  },
  {
   "cell_type": "code",
   "execution_count": 18,
   "metadata": {},
   "outputs": [
    {
     "name": "stdout",
     "output_type": "stream",
     "text": [
      "before fun def: l= [10, 20, 30, 40]\n",
      "before fun def: k= [50, 60, 70, 80]\n",
      "after def fun: l= [10, 20, 30, 40]\n",
      "after def fun: k= [50, 60, 70, 80]\n",
      "inside fun: l= [1, 2, 3, 4]\n",
      "inside fun: k= [50, 60, 70, 80]\n",
      "after fun call: l= [10, 20, 30, 40]\n",
      "after fun call: k= [50, 60, 70, 80]\n"
     ]
    }
   ],
   "source": [
    "#scope\n",
    "l=[10,20,30,40]\n",
    "k=[50,60,70,80]\n",
    "print(\"before fun def: l=\",l)\n",
    "print(\"before fun def: k=\",k)\n",
    "def fun():\n",
    "    l=[1,2,3,4]\n",
    "    print(\"inside fun: l=\",l)\n",
    "    print(\"inside fun: k=\",k)\n",
    "print(\"after def fun: l=\",l)\n",
    "print(\"after def fun: k=\",k)\n",
    "fun()\n",
    "print(\"after fun call: l=\",l)\n",
    "print(\"after fun call: k=\",k)"
   ]
  },
  {
   "cell_type": "code",
   "execution_count": null,
   "metadata": {},
   "outputs": [],
   "source": [
    "#scope\n",
    "l=[10,20,30,40]\n",
    "k=[50,60,70,80]\n",
    "print(\"before fun def: l=\",l)\n",
    "print(\"before fun def: k=\",k)\n",
    "def fun(m):\n",
    "    m[0]=100\n",
    "    print(\"inside fun: l=\",l)\n",
    "    print(\"inside fun: k=\",k)\n",
    "print(\"after def fun: l=\",l)\n",
    "print(\"after def fun: k=\",k)\n",
    "fun(l)\n",
    "print(\"after fun call: l=\",l)\n",
    "print(\"after fun call: k=\",k)"
   ]
  },
  {
   "cell_type": "code",
   "execution_count": 19,
   "metadata": {},
   "outputs": [
    {
     "name": "stdout",
     "output_type": "stream",
     "text": [
      "before fun def: l= 10\n",
      "before fun def: k= 20\n",
      "after def fun: l= 10\n",
      "after def fun: k= 20\n",
      "inside fun: l= 30\n",
      "inside fun: k= 20\n",
      "after fun call: l= 10\n",
      "after fun call: k= 20\n"
     ]
    }
   ],
   "source": [
    "#scope\n",
    "l=10\n",
    "k=20\n",
    "print(\"before fun def: l=\",l)\n",
    "print(\"before fun def: k=\",k)\n",
    "def fun():\n",
    "    l=30\n",
    "    print(\"inside fun: l=\",l)\n",
    "    print(\"inside fun: k=\",k)\n",
    "print(\"after def fun: l=\",l)\n",
    "print(\"after def fun: k=\",k)\n",
    "fun()\n",
    "print(\"after fun call: l=\",l)\n",
    "print(\"after fun call: k=\",k)"
   ]
  },
  {
   "cell_type": "code",
   "execution_count": 20,
   "metadata": {},
   "outputs": [
    {
     "name": "stdout",
     "output_type": "stream",
     "text": [
      "before fun def: l= 10\n",
      "before fun def: k= 20\n",
      "before fun def: m= 30\n",
      "after def fun: l= 10\n",
      "after def fun: k= 20\n",
      "after def fun: m= 30\n",
      "inside fun: l= 30\n",
      "inside fun: k= 20\n",
      "inside fun: m= 3000\n",
      "after fun call: l= 10\n",
      "after fun call: k= 20\n",
      "after fun call: m= 3000\n"
     ]
    }
   ],
   "source": [
    "#scope\n",
    "l=10\n",
    "k=20\n",
    "m=30\n",
    "print(\"before fun def: l=\",l)\n",
    "print(\"before fun def: k=\",k)\n",
    "print(\"before fun def: m=\",m)\n",
    "def fun():\n",
    "    global m\n",
    "    l=30\n",
    "    m=3000\n",
    "    print(\"inside fun: l=\",l)\n",
    "    print(\"inside fun: k=\",k)\n",
    "    print(\"inside fun: m=\",m)\n",
    "print(\"after def fun: l=\",l)\n",
    "print(\"after def fun: k=\",k)\n",
    "print(\"after def fun: m=\",m)\n",
    "fun()\n",
    "print(\"after fun call: l=\",l)\n",
    "print(\"after fun call: k=\",k)\n",
    "print(\"after fun call: m=\",m)"
   ]
  },
  {
   "cell_type": "code",
   "execution_count": 21,
   "metadata": {},
   "outputs": [
    {
     "name": "stdout",
     "output_type": "stream",
     "text": [
      "result= None\n"
     ]
    }
   ],
   "source": [
    "def fun(x,y):\n",
    "    z=x+y\n",
    "res=fun(10,20)\n",
    "print(\"result=\",res)"
   ]
  },
  {
   "cell_type": "code",
   "execution_count": 22,
   "metadata": {},
   "outputs": [
    {
     "name": "stdout",
     "output_type": "stream",
     "text": [
      "result= None\n"
     ]
    }
   ],
   "source": [
    "def fun(x,y):\n",
    "    a=x+y\n",
    "    b=x-y\n",
    "    c=x*y\n",
    "    d=x/y\n",
    "res=fun(10,20)\n",
    "print(\"result=\",res)"
   ]
  },
  {
   "cell_type": "code",
   "execution_count": 23,
   "metadata": {},
   "outputs": [
    {
     "name": "stdout",
     "output_type": "stream",
     "text": [
      "result= None\n"
     ]
    }
   ],
   "source": [
    "def fun(x,y):\n",
    "    a=x+y\n",
    "    b=x-y\n",
    "    c=x*y\n",
    "    d=x/y\n",
    "    #return None\n",
    "res=fun(10,20)\n",
    "print(\"result=\",res)"
   ]
  },
  {
   "cell_type": "code",
   "execution_count": 24,
   "metadata": {},
   "outputs": [
    {
     "name": "stdout",
     "output_type": "stream",
     "text": [
      "result= hello\n"
     ]
    }
   ],
   "source": [
    "def fun(x,y):\n",
    "    a=x+y\n",
    "    b=x-y\n",
    "    c=x*y\n",
    "    d=x/y\n",
    "    return \"hello\"\n",
    "r1=fun(10,20)\n",
    "print(\"result=\",r1)"
   ]
  },
  {
   "cell_type": "code",
   "execution_count": 25,
   "metadata": {},
   "outputs": [
    {
     "name": "stdout",
     "output_type": "stream",
     "text": [
      "result= 30\n"
     ]
    }
   ],
   "source": [
    "def fun(x,y):\n",
    "    a=x+y\n",
    "    b=x-y\n",
    "    c=x*y\n",
    "    d=x/y\n",
    "    return a\n",
    "r1=fun(10,20)\n",
    "print(\"result=\",r1)"
   ]
  },
  {
   "cell_type": "code",
   "execution_count": 26,
   "metadata": {},
   "outputs": [
    {
     "name": "stdout",
     "output_type": "stream",
     "text": [
      "result= (30, -10, 200, 0.5)\n"
     ]
    }
   ],
   "source": [
    "def fun(x,y):\n",
    "    a=x+y\n",
    "    b=x-y\n",
    "    c=x*y\n",
    "    d=x/y\n",
    "    return a,b,c,d\n",
    "r1=fun(10,20)\n",
    "print(\"result=\",r1)"
   ]
  },
  {
   "cell_type": "code",
   "execution_count": 27,
   "metadata": {},
   "outputs": [
    {
     "name": "stdout",
     "output_type": "stream",
     "text": [
      "result= 30\n"
     ]
    }
   ],
   "source": [
    "def add(x,y):\n",
    "    return x+y\n",
    "r1=add(10,20)\n",
    "print(\"result=\",r1)"
   ]
  },
  {
   "cell_type": "code",
   "execution_count": null,
   "metadata": {},
   "outputs": [],
   "source": [
    "def fun():\n",
    "    print(\"hyderabad\")\n",
    "    return 10\n",
    "    print(\"banglore\")\n",
    "    return 20\n",
    "    print(\"chennai\")\n",
    "    return 30\n",
    "res=fun()\n",
    "print(\"result=\",res)\n",
    "    "
   ]
  },
  {
   "cell_type": "code",
   "execution_count": 28,
   "metadata": {},
   "outputs": [
    {
     "name": "stdout",
     "output_type": "stream",
     "text": [
      "z= 30\n",
      "result= None\n"
     ]
    }
   ],
   "source": [
    "def fun(x,y):\n",
    "    z=x+y\n",
    "    print(\"z=\",z)\n",
    "res=fun(10,20)\n",
    "print(\"result=\",res)"
   ]
  },
  {
   "cell_type": "code",
   "execution_count": 29,
   "metadata": {},
   "outputs": [
    {
     "name": "stdout",
     "output_type": "stream",
     "text": [
      "z= 30\n",
      "result= hello\n"
     ]
    }
   ],
   "source": [
    "def fun(x,y):\n",
    "    z=x+y\n",
    "    print(\"z=\",z)\n",
    "    return \"hello\"\n",
    "res=fun(10,20)\n",
    "print(\"result=\",res)"
   ]
  },
  {
   "cell_type": "code",
   "execution_count": 30,
   "metadata": {},
   "outputs": [
    {
     "name": "stdout",
     "output_type": "stream",
     "text": [
      "z= 30\n",
      "result= 30\n"
     ]
    }
   ],
   "source": [
    "def fun(x,y):\n",
    "    z=x+y\n",
    "    print(\"z=\",z)\n",
    "    return z\n",
    "res=fun(10,20)\n",
    "print(\"result=\",res)"
   ]
  },
  {
   "cell_type": "code",
   "execution_count": 31,
   "metadata": {},
   "outputs": [
    {
     "name": "stdout",
     "output_type": "stream",
     "text": [
      "result= 30\n"
     ]
    }
   ],
   "source": [
    "def fun(x,y):\n",
    "    z=x+y\n",
    "    return z\n",
    "res=fun(10,20)\n",
    "print(\"result=\",res)"
   ]
  },
  {
   "cell_type": "code",
   "execution_count": 32,
   "metadata": {},
   "outputs": [
    {
     "name": "stdout",
     "output_type": "stream",
     "text": [
      "hyderabad\n",
      "result= 10\n"
     ]
    }
   ],
   "source": [
    "def fun():\n",
    "    print(\"hyderabad\")\n",
    "    return 10\n",
    "    print(\"banglore\")\n",
    "    return 20\n",
    "    print(\"chennai\")\n",
    "    return 30\n",
    "res=fun()\n",
    "print(\"result=\",res)"
   ]
  },
  {
   "cell_type": "code",
   "execution_count": 33,
   "metadata": {},
   "outputs": [
    {
     "name": "stdout",
     "output_type": "stream",
     "text": [
      "hyderabad\n",
      "result= 10\n",
      "hyderabad\n",
      "result= 10\n",
      "hyderabad\n",
      "result= 10\n",
      "hyderabad\n",
      "result= 10\n"
     ]
    }
   ],
   "source": [
    "def fun():\n",
    "    print(\"hyderabad\")\n",
    "    return 10\n",
    "    print(\"banglore\")\n",
    "    return 20\n",
    "    print(\"chennai\")\n",
    "    return 30\n",
    "res=fun()\n",
    "print(\"result=\",res)\n",
    "res=fun()\n",
    "print(\"result=\",res)\n",
    "res=fun()\n",
    "print(\"result=\",res)\n",
    "res=fun()\n",
    "print(\"result=\",res)"
   ]
  },
  {
   "cell_type": "code",
   "execution_count": 35,
   "metadata": {},
   "outputs": [
    {
     "name": "stdout",
     "output_type": "stream",
     "text": [
      "result= <function fun at 0x000001F2EDCD89D0>\n"
     ]
    }
   ],
   "source": [
    "def fun(x,y):\n",
    "    print(f\"x={x},y={y}\")\n",
    "    return x+y\n",
    "res=fun\n",
    "print(\"result=\",res)"
   ]
  },
  {
   "cell_type": "code",
   "execution_count": null,
   "metadata": {},
   "outputs": [],
   "source": [
    "a=120\n",
    "b=a\n",
    "print(b)"
   ]
  },
  {
   "cell_type": "code",
   "execution_count": 36,
   "metadata": {},
   "outputs": [
    {
     "name": "stdout",
     "output_type": "stream",
     "text": [
      "<function fun at 0x000001F2EDCD8280>\n"
     ]
    }
   ],
   "source": [
    "def fun(x,y):\n",
    "    print(f\"x={x},y={y}\")\n",
    "    return x+y\n",
    "print(fun)"
   ]
  },
  {
   "cell_type": "code",
   "execution_count": 37,
   "metadata": {},
   "outputs": [
    {
     "name": "stdout",
     "output_type": "stream",
     "text": [
      "<function fun at 0x000001F2EDCD8670>\n"
     ]
    },
    {
     "ename": "TypeError",
     "evalue": "fun() missing 2 required positional arguments: 'x' and 'y'",
     "output_type": "error",
     "traceback": [
      "\u001b[1;31m---------------------------------------------------------------------------\u001b[0m",
      "\u001b[1;31mTypeError\u001b[0m                                 Traceback (most recent call last)",
      "\u001b[1;32m<ipython-input-37-2b50d3c52e68>\u001b[0m in \u001b[0;36m<module>\u001b[1;34m\u001b[0m\n\u001b[0;32m      3\u001b[0m     \u001b[1;32mreturn\u001b[0m \u001b[0mx\u001b[0m\u001b[1;33m+\u001b[0m\u001b[0my\u001b[0m\u001b[1;33m\u001b[0m\u001b[1;33m\u001b[0m\u001b[0m\n\u001b[0;32m      4\u001b[0m \u001b[0mprint\u001b[0m\u001b[1;33m(\u001b[0m\u001b[0mfun\u001b[0m\u001b[1;33m)\u001b[0m\u001b[1;33m\u001b[0m\u001b[1;33m\u001b[0m\u001b[0m\n\u001b[1;32m----> 5\u001b[1;33m \u001b[0mprint\u001b[0m\u001b[1;33m(\u001b[0m\u001b[0mfun\u001b[0m\u001b[1;33m(\u001b[0m\u001b[1;33m)\u001b[0m\u001b[1;33m)\u001b[0m\u001b[1;33m\u001b[0m\u001b[1;33m\u001b[0m\u001b[0m\n\u001b[0m",
      "\u001b[1;31mTypeError\u001b[0m: fun() missing 2 required positional arguments: 'x' and 'y'"
     ]
    }
   ],
   "source": [
    "def fun(x,y):\n",
    "    print(f\"x={x},y={y}\")\n",
    "    return x+y\n",
    "print(fun)# printing the reference\n",
    "print(fun())# this is the function call"
   ]
  },
  {
   "cell_type": "code",
   "execution_count": 39,
   "metadata": {},
   "outputs": [
    {
     "name": "stdout",
     "output_type": "stream",
     "text": [
      "<function fun at 0x000001F2EDCD8160>\n",
      "<function fun at 0x000001F2EDCD8160>\n"
     ]
    }
   ],
   "source": [
    "def fun(x,y):\n",
    "    print(f\"x={x},y={y}\")\n",
    "    return x+y\n",
    "res=fun# assigned a function reference to some other reference.\n",
    "print(res)\n",
    "print(fun)"
   ]
  },
  {
   "cell_type": "code",
   "execution_count": 40,
   "metadata": {},
   "outputs": [
    {
     "name": "stdout",
     "output_type": "stream",
     "text": [
      "<function fun at 0x000001F2EDCD8940>\n",
      "<function fun at 0x000001F2EDCD8940>\n",
      "x=10,y=20\n",
      "x=10,y=20\n",
      "r1=30,r2=30\n"
     ]
    }
   ],
   "source": [
    "def fun(x,y):\n",
    "    print(f\"x={x},y={y}\")\n",
    "    return x+y\n",
    "res=fun# assigned a function reference to some other reference.\n",
    "print(res)\n",
    "print(fun)\n",
    "r1=res(10,20)\n",
    "r2=fun(10,20)\n",
    "print(f\"r1={r1},r2={r2}\")"
   ]
  },
  {
   "cell_type": "code",
   "execution_count": null,
   "metadata": {},
   "outputs": [],
   "source": []
  }
 ],
 "metadata": {
  "kernelspec": {
   "display_name": "Python 3",
   "language": "python",
   "name": "python3"
  },
  "language_info": {
   "codemirror_mode": {
    "name": "ipython",
    "version": 3
   },
   "file_extension": ".py",
   "mimetype": "text/x-python",
   "name": "python",
   "nbconvert_exporter": "python",
   "pygments_lexer": "ipython3",
   "version": "3.8.3"
  }
 },
 "nbformat": 4,
 "nbformat_minor": 4
}
