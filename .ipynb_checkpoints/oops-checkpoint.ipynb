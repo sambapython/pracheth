{
 "cells": [
  {
   "cell_type": "code",
   "execution_count": 1,
   "metadata": {},
   "outputs": [],
   "source": [
    "# object oriented programing"
   ]
  },
  {
   "cell_type": "code",
   "execution_count": 1,
   "metadata": {},
   "outputs": [],
   "source": [
    "a=10\n",
    "# it will create 10 integer object\n",
    "s=\"python\"\n",
    "# it will create string object\n",
    "l=[10,20,30,40]\n",
    "# it will create list object"
   ]
  },
  {
   "cell_type": "code",
   "execution_count": 2,
   "metadata": {},
   "outputs": [
    {
     "name": "stdout",
     "output_type": "stream",
     "text": [
      "<class 'type'>\n"
     ]
    }
   ],
   "source": [
    "class User:\n",
    "    pass\n",
    "print(type(User))"
   ]
  },
  {
   "cell_type": "code",
   "execution_count": 4,
   "metadata": {},
   "outputs": [
    {
     "name": "stdout",
     "output_type": "stream",
     "text": [
      "<class 'int'>\n"
     ]
    }
   ],
   "source": [
    "a=10\n",
    "print(type(a))"
   ]
  },
  {
   "cell_type": "code",
   "execution_count": 5,
   "metadata": {},
   "outputs": [
    {
     "name": "stdout",
     "output_type": "stream",
     "text": [
      "<class '__main__.User'>\n"
     ]
    }
   ],
   "source": [
    "class User:\n",
    "    pass\n",
    "samba=User()a\n",
    "print(type(samba))"
   ]
  },
  {
   "cell_type": "code",
   "execution_count": 7,
   "metadata": {},
   "outputs": [
    {
     "name": "stdout",
     "output_type": "stream",
     "text": [
      "Sambasiva password 1\n"
     ]
    }
   ],
   "source": [
    "class User:\n",
    "    pass\n",
    "samba=User()\n",
    "#samba is the reference of user object.\n",
    "# User() is the user object\n",
    "samba.id=1\n",
    "samba.username=\"Sambasiva\"\n",
    "samba.password=\"password\"\n",
    "pracheth=User()\n",
    "pracheth.id=2\n",
    "pracheth.username=\"pracheth\"\n",
    "pracheth.password=\"password\"\n",
    "\n",
    "print(samba.username,samba.password,samba.id)"
   ]
  },
  {
   "cell_type": "code",
   "execution_count": 1,
   "metadata": {},
   "outputs": [
    {
     "name": "stdout",
     "output_type": "stream",
     "text": [
      "The name of the product:MI note 11, Cost:50000\n"
     ]
    }
   ],
   "source": [
    "class Product:\n",
    "    def set_product(obj, p_name, p_cost):\n",
    "        obj.name=p_name\n",
    "        obj.cost=p_cost\n",
    "    def get_product(obj):\n",
    "        print(f\"The name of the product:{obj.name}, Cost:{obj.cost}\")\n",
    "\n",
    "mi_phone = Product()\n",
    "Product.set_product(mi_phone, \"MI note 11\",50000)\n",
    "Product.get_product(mi_phone)"
   ]
  },
  {
   "cell_type": "code",
   "execution_count": 2,
   "metadata": {},
   "outputs": [
    {
     "name": "stdout",
     "output_type": "stream",
     "text": [
      "The name of the product:MI note 11, Cost:50000\n"
     ]
    },
    {
     "ename": "AttributeError",
     "evalue": "'Product' object has no attribute 'name'",
     "output_type": "error",
     "traceback": [
      "\u001b[1;31m---------------------------------------------------------------------------\u001b[0m",
      "\u001b[1;31mAttributeError\u001b[0m                            Traceback (most recent call last)",
      "\u001b[1;32m<ipython-input-2-20d0729e1b12>\u001b[0m in \u001b[0;36m<module>\u001b[1;34m\u001b[0m\n\u001b[0;32m     10\u001b[0m \u001b[0mProduct\u001b[0m\u001b[1;33m.\u001b[0m\u001b[0mget_product\u001b[0m\u001b[1;33m(\u001b[0m\u001b[0mmi_phone\u001b[0m\u001b[1;33m)\u001b[0m\u001b[1;33m\u001b[0m\u001b[1;33m\u001b[0m\u001b[0m\n\u001b[0;32m     11\u001b[0m \u001b[0msamsung_phone\u001b[0m \u001b[1;33m=\u001b[0m \u001b[0mProduct\u001b[0m\u001b[1;33m(\u001b[0m\u001b[1;33m)\u001b[0m\u001b[1;33m\u001b[0m\u001b[1;33m\u001b[0m\u001b[0m\n\u001b[1;32m---> 12\u001b[1;33m \u001b[0msamsung_phone\u001b[0m\u001b[1;33m.\u001b[0m\u001b[0mget_product\u001b[0m\u001b[1;33m(\u001b[0m\u001b[1;33m)\u001b[0m\u001b[1;33m\u001b[0m\u001b[1;33m\u001b[0m\u001b[0m\n\u001b[0m",
      "\u001b[1;32m<ipython-input-2-20d0729e1b12>\u001b[0m in \u001b[0;36mget_product\u001b[1;34m(obj)\u001b[0m\n\u001b[0;32m      4\u001b[0m         \u001b[0mobj\u001b[0m\u001b[1;33m.\u001b[0m\u001b[0mcost\u001b[0m\u001b[1;33m=\u001b[0m\u001b[0mp_cost\u001b[0m\u001b[1;33m\u001b[0m\u001b[1;33m\u001b[0m\u001b[0m\n\u001b[0;32m      5\u001b[0m     \u001b[1;32mdef\u001b[0m \u001b[0mget_product\u001b[0m\u001b[1;33m(\u001b[0m\u001b[0mobj\u001b[0m\u001b[1;33m)\u001b[0m\u001b[1;33m:\u001b[0m\u001b[1;33m\u001b[0m\u001b[1;33m\u001b[0m\u001b[0m\n\u001b[1;32m----> 6\u001b[1;33m         \u001b[0mprint\u001b[0m\u001b[1;33m(\u001b[0m\u001b[1;34mf\"The name of the product:{obj.name}, Cost:{obj.cost}\"\u001b[0m\u001b[1;33m)\u001b[0m\u001b[1;33m\u001b[0m\u001b[1;33m\u001b[0m\u001b[0m\n\u001b[0m\u001b[0;32m      7\u001b[0m \u001b[1;33m\u001b[0m\u001b[0m\n\u001b[0;32m      8\u001b[0m \u001b[0mmi_phone\u001b[0m \u001b[1;33m=\u001b[0m \u001b[0mProduct\u001b[0m\u001b[1;33m(\u001b[0m\u001b[1;33m)\u001b[0m\u001b[1;33m\u001b[0m\u001b[1;33m\u001b[0m\u001b[0m\n",
      "\u001b[1;31mAttributeError\u001b[0m: 'Product' object has no attribute 'name'"
     ]
    }
   ],
   "source": [
    "class Product:\n",
    "    def set_product(obj, p_name, p_cost):\n",
    "        obj.name=p_name\n",
    "        obj.cost=p_cost\n",
    "    def get_product(obj):\n",
    "        print(f\"The name of the product:{obj.name}, Cost:{obj.cost}\")\n",
    "\n",
    "mi_phone = Product()\n",
    "Product.set_product(mi_phone, \"MI note 11\",50000)\n",
    "Product.get_product(mi_phone)\n",
    "samsung_phone = Product()\n",
    "samsung_phone.get_product()"
   ]
  },
  {
   "cell_type": "code",
   "execution_count": 4,
   "metadata": {},
   "outputs": [
    {
     "name": "stdout",
     "output_type": "stream",
     "text": [
      "The name of the product:MI note 11, Cost:50000\n"
     ]
    },
    {
     "ename": "AttributeError",
     "evalue": "'Product' object has no attribute 'name'",
     "output_type": "error",
     "traceback": [
      "\u001b[1;31m---------------------------------------------------------------------------\u001b[0m",
      "\u001b[1;31mAttributeError\u001b[0m                            Traceback (most recent call last)",
      "\u001b[1;32m<ipython-input-4-ea814622e79e>\u001b[0m in \u001b[0;36m<module>\u001b[1;34m\u001b[0m\n\u001b[0;32m     11\u001b[0m \u001b[0mProduct\u001b[0m\u001b[1;33m.\u001b[0m\u001b[0mget_product\u001b[0m\u001b[1;33m(\u001b[0m\u001b[0mmi_phone\u001b[0m\u001b[1;33m)\u001b[0m\u001b[1;33m\u001b[0m\u001b[1;33m\u001b[0m\u001b[0m\n\u001b[0;32m     12\u001b[0m \u001b[0msamsung_phone\u001b[0m \u001b[1;33m=\u001b[0m \u001b[0mProduct\u001b[0m\u001b[1;33m(\u001b[0m\u001b[1;33m)\u001b[0m\u001b[1;33m\u001b[0m\u001b[1;33m\u001b[0m\u001b[0m\n\u001b[1;32m---> 13\u001b[1;33m \u001b[0msamsung_phone\u001b[0m\u001b[1;33m.\u001b[0m\u001b[0mget_product\u001b[0m\u001b[1;33m(\u001b[0m\u001b[1;33m)\u001b[0m\u001b[1;33m\u001b[0m\u001b[1;33m\u001b[0m\u001b[0m\n\u001b[0m",
      "\u001b[1;32m<ipython-input-4-ea814622e79e>\u001b[0m in \u001b[0;36mget_product\u001b[1;34m(obj)\u001b[0m\n\u001b[0;32m      4\u001b[0m         \u001b[0mobj\u001b[0m\u001b[1;33m.\u001b[0m\u001b[0mcost\u001b[0m\u001b[1;33m=\u001b[0m\u001b[0mp_cost\u001b[0m\u001b[1;33m\u001b[0m\u001b[1;33m\u001b[0m\u001b[0m\n\u001b[0;32m      5\u001b[0m     \u001b[1;32mdef\u001b[0m \u001b[0mget_product\u001b[0m\u001b[1;33m(\u001b[0m\u001b[0mobj\u001b[0m\u001b[1;33m)\u001b[0m\u001b[1;33m:\u001b[0m\u001b[1;33m\u001b[0m\u001b[1;33m\u001b[0m\u001b[0m\n\u001b[1;32m----> 6\u001b[1;33m         \u001b[0mprint\u001b[0m\u001b[1;33m(\u001b[0m\u001b[1;34mf\"The name of the product:{obj.name}, Cost:{obj.cost}\"\u001b[0m\u001b[1;33m)\u001b[0m\u001b[1;33m\u001b[0m\u001b[1;33m\u001b[0m\u001b[0m\n\u001b[0m\u001b[0;32m      7\u001b[0m \u001b[1;33m\u001b[0m\u001b[0m\n\u001b[0;32m      8\u001b[0m \u001b[0mmi_phone\u001b[0m \u001b[1;33m=\u001b[0m \u001b[0mProduct\u001b[0m\u001b[1;33m(\u001b[0m\u001b[1;33m)\u001b[0m\u001b[1;33m\u001b[0m\u001b[1;33m\u001b[0m\u001b[0m\n",
      "\u001b[1;31mAttributeError\u001b[0m: 'Product' object has no attribute 'name'"
     ]
    }
   ],
   "source": [
    "class Product:\n",
    "    def set_product(obj, p_name, p_cost):\n",
    "        obj.name=p_name\n",
    "        obj.cost=p_cost\n",
    "    def get_product(obj):\n",
    "        print(f\"The name of the product:{obj.name}, Cost:{obj.cost}\")\n",
    "\n",
    "mi_phone = Product()\n",
    "#Product.set_product(mi_phone, \"MI note 11\",50000)\n",
    "mi_phone.set_product(\"MI note 11\",50000)\n",
    "Product.get_product(mi_phone)\n",
    "samsung_phone = Product()\n",
    "samsung_phone.get_product()"
   ]
  },
  {
   "cell_type": "code",
   "execution_count": 3,
   "metadata": {},
   "outputs": [
    {
     "ename": "TypeError",
     "evalue": "fun() missing 1 required positional argument: 'c'",
     "output_type": "error",
     "traceback": [
      "\u001b[1;31m---------------------------------------------------------------------------\u001b[0m",
      "\u001b[1;31mTypeError\u001b[0m                                 Traceback (most recent call last)",
      "\u001b[1;32m<ipython-input-3-316b85c256fb>\u001b[0m in \u001b[0;36m<module>\u001b[1;34m\u001b[0m\n\u001b[0;32m      1\u001b[0m \u001b[1;32mdef\u001b[0m \u001b[0mfun\u001b[0m\u001b[1;33m(\u001b[0m\u001b[0ma\u001b[0m\u001b[1;33m,\u001b[0m\u001b[0mb\u001b[0m\u001b[1;33m,\u001b[0m\u001b[0mc\u001b[0m\u001b[1;33m)\u001b[0m\u001b[1;33m:\u001b[0m\u001b[1;33m\u001b[0m\u001b[1;33m\u001b[0m\u001b[0m\n\u001b[0;32m      2\u001b[0m     \u001b[0mprint\u001b[0m\u001b[1;33m(\u001b[0m\u001b[0ma\u001b[0m\u001b[1;33m,\u001b[0m\u001b[0mb\u001b[0m\u001b[1;33m,\u001b[0m\u001b[0mc\u001b[0m\u001b[1;33m)\u001b[0m\u001b[1;33m\u001b[0m\u001b[1;33m\u001b[0m\u001b[0m\n\u001b[1;32m----> 3\u001b[1;33m \u001b[0mfun\u001b[0m\u001b[1;33m(\u001b[0m\u001b[1;36m10\u001b[0m\u001b[1;33m,\u001b[0m\u001b[1;36m20\u001b[0m\u001b[1;33m)\u001b[0m\u001b[1;33m\u001b[0m\u001b[1;33m\u001b[0m\u001b[0m\n\u001b[0m",
      "\u001b[1;31mTypeError\u001b[0m: fun() missing 1 required positional argument: 'c'"
     ]
    }
   ],
   "source": [
    "def fun(a,b,c):\n",
    "    print(a,b,c)\n",
    "fun(10,20)"
   ]
  },
  {
   "cell_type": "code",
   "execution_count": 5,
   "metadata": {},
   "outputs": [
    {
     "name": "stdout",
     "output_type": "stream",
     "text": [
      "The name of the product:MI note 11, Cost:50000\n"
     ]
    }
   ],
   "source": [
    "class Product:\n",
    "    def set_product(obj, p_name, p_cost):\n",
    "        obj.name=p_name\n",
    "        obj.cost=p_cost\n",
    "    def get_product(obj):\n",
    "        print(f\"The name of the product:{obj.name}, Cost:{obj.cost}\")\n",
    "\n",
    "mi_phone = Product()\n",
    "#Product.set_product(mi_phone, \"MI note 11\",50000)\n",
    "mi_phone.set_product(\"MI note 11\",50000)\n",
    "Product.get_product(mi_phone)\n",
    "samsung_phone = Product()\n",
    "#samsung_phone.get_product()"
   ]
  },
  {
   "cell_type": "code",
   "execution_count": 6,
   "metadata": {},
   "outputs": [
    {
     "name": "stdout",
     "output_type": "stream",
     "text": [
      "The name of the product:MI note 11, Cost:50000\n"
     ]
    }
   ],
   "source": [
    "class Product:\n",
    "    def set_product(obj, p_name, p_cost):\n",
    "        obj.name=p_name\n",
    "        obj.cost=p_cost\n",
    "    def get_product(obj):\n",
    "        print(f\"The name of the product:{obj.name}, Cost:{obj.cost}\")\n",
    "\n",
    "mi_phone = Product()\n",
    "mi_phone.set_product(\"MI note 11\",50000)\n",
    "mi_phone.get_product()# Product.get_procut(mi_phone)"
   ]
  },
  {
   "cell_type": "code",
   "execution_count": 8,
   "metadata": {},
   "outputs": [
    {
     "name": "stdout",
     "output_type": "stream",
     "text": [
      "The name of the product:MI note 11, Cost:50000\n"
     ]
    }
   ],
   "source": [
    "class Product:\n",
    "    def set_product(self, p_name, p_cost):\n",
    "        self.name=p_name\n",
    "        self.cost=p_cost\n",
    "    def get_product(self):\n",
    "        print(f\"The name of the product:{self.name}, Cost:{self.cost}\")\n",
    "\n",
    "mi_phone = Product()\n",
    "mi_phone.set_product(\"MI note 11\",50000)\n",
    "mi_phone.get_product()# Product.get_product(mi_phone)"
   ]
  },
  {
   "cell_type": "code",
   "execution_count": 9,
   "metadata": {},
   "outputs": [
    {
     "name": "stdout",
     "output_type": "stream",
     "text": [
      "The name of the product:MI note 11, Cost:50000\n"
     ]
    },
    {
     "ename": "AttributeError",
     "evalue": "'Product' object has no attribute 'name'",
     "output_type": "error",
     "traceback": [
      "\u001b[1;31m---------------------------------------------------------------------------\u001b[0m",
      "\u001b[1;31mAttributeError\u001b[0m                            Traceback (most recent call last)",
      "\u001b[1;32m<ipython-input-9-01c7beaeb92c>\u001b[0m in \u001b[0;36m<module>\u001b[1;34m\u001b[0m\n\u001b[0;32m     10\u001b[0m \u001b[0mmi_phone\u001b[0m\u001b[1;33m.\u001b[0m\u001b[0mget_product\u001b[0m\u001b[1;33m(\u001b[0m\u001b[1;33m)\u001b[0m\u001b[1;31m# Product.get_product(mi_phone)\u001b[0m\u001b[1;33m\u001b[0m\u001b[1;33m\u001b[0m\u001b[0m\n\u001b[0;32m     11\u001b[0m \u001b[0miphone\u001b[0m \u001b[1;33m=\u001b[0m \u001b[0mProduct\u001b[0m\u001b[1;33m(\u001b[0m\u001b[1;33m)\u001b[0m\u001b[1;33m\u001b[0m\u001b[1;33m\u001b[0m\u001b[0m\n\u001b[1;32m---> 12\u001b[1;33m \u001b[0miphone\u001b[0m\u001b[1;33m.\u001b[0m\u001b[0mget_product\u001b[0m\u001b[1;33m(\u001b[0m\u001b[1;33m)\u001b[0m\u001b[1;33m\u001b[0m\u001b[1;33m\u001b[0m\u001b[0m\n\u001b[0m",
      "\u001b[1;32m<ipython-input-9-01c7beaeb92c>\u001b[0m in \u001b[0;36mget_product\u001b[1;34m(self)\u001b[0m\n\u001b[0;32m      4\u001b[0m         \u001b[0mself\u001b[0m\u001b[1;33m.\u001b[0m\u001b[0mcost\u001b[0m\u001b[1;33m=\u001b[0m\u001b[0mp_cost\u001b[0m\u001b[1;33m\u001b[0m\u001b[1;33m\u001b[0m\u001b[0m\n\u001b[0;32m      5\u001b[0m     \u001b[1;32mdef\u001b[0m \u001b[0mget_product\u001b[0m\u001b[1;33m(\u001b[0m\u001b[0mself\u001b[0m\u001b[1;33m)\u001b[0m\u001b[1;33m:\u001b[0m\u001b[1;33m\u001b[0m\u001b[1;33m\u001b[0m\u001b[0m\n\u001b[1;32m----> 6\u001b[1;33m         \u001b[0mprint\u001b[0m\u001b[1;33m(\u001b[0m\u001b[1;34mf\"The name of the product:{self.name}, Cost:{self.cost}\"\u001b[0m\u001b[1;33m)\u001b[0m\u001b[1;33m\u001b[0m\u001b[1;33m\u001b[0m\u001b[0m\n\u001b[0m\u001b[0;32m      7\u001b[0m \u001b[1;33m\u001b[0m\u001b[0m\n\u001b[0;32m      8\u001b[0m \u001b[0mmi_phone\u001b[0m \u001b[1;33m=\u001b[0m \u001b[0mProduct\u001b[0m\u001b[1;33m(\u001b[0m\u001b[1;33m)\u001b[0m\u001b[1;33m\u001b[0m\u001b[1;33m\u001b[0m\u001b[0m\n",
      "\u001b[1;31mAttributeError\u001b[0m: 'Product' object has no attribute 'name'"
     ]
    }
   ],
   "source": [
    "class Product:\n",
    "    def set_product(self, p_name, p_cost):\n",
    "        self.name=p_name\n",
    "        self.cost=p_cost\n",
    "    def get_product(self):\n",
    "        print(f\"The name of the product:{self.name}, Cost:{self.cost}\")\n",
    "\n",
    "mi_phone = Product()\n",
    "mi_phone.set_product(\"MI note 11\",50000)\n",
    "mi_phone.get_product()# Product.get_product(mi_phone)\n",
    "iphone = Product()\n",
    "iphone.get_product()"
   ]
  },
  {
   "cell_type": "code",
   "execution_count": 10,
   "metadata": {},
   "outputs": [
    {
     "name": "stdout",
     "output_type": "stream",
     "text": [
      "this is class\n"
     ]
    }
   ],
   "source": [
    "class Product:\n",
    "    print(\"this is class\")\n"
   ]
  },
  {
   "cell_type": "code",
   "execution_count": 11,
   "metadata": {},
   "outputs": [
    {
     "name": "stdout",
     "output_type": "stream",
     "text": [
      "this is class\n"
     ]
    }
   ],
   "source": [
    "class Product:\n",
    "    print(\"this is class\")\n",
    "    \n",
    "    def get(self):\n",
    "        print(\"this is get\")\n"
   ]
  },
  {
   "cell_type": "code",
   "execution_count": 12,
   "metadata": {},
   "outputs": [
    {
     "name": "stdout",
     "output_type": "stream",
     "text": [
      "this is class\n"
     ]
    }
   ],
   "source": [
    "class Product:\n",
    "    print(\"this is class\")\n",
    "    \n",
    "    def get(self):\n",
    "        print(\"this is get\")\n",
    "obj1 = Product()\n",
    "obj2 = Product()"
   ]
  },
  {
   "cell_type": "code",
   "execution_count": 13,
   "metadata": {},
   "outputs": [
    {
     "name": "stdout",
     "output_type": "stream",
     "text": [
      "this is class\n",
      "this is get\n",
      "this is get\n"
     ]
    }
   ],
   "source": [
    "class Product:\n",
    "    print(\"this is class\")\n",
    "    \n",
    "    def get(self):\n",
    "        print(\"this is get\")\n",
    "obj1 = Product()\n",
    "obj2 = Product()\n",
    "obj1.get()\n",
    "obj2.get()"
   ]
  },
  {
   "cell_type": "code",
   "execution_count": 14,
   "metadata": {},
   "outputs": [
    {
     "name": "stdout",
     "output_type": "stream",
     "text": [
      "this is class\n"
     ]
    }
   ],
   "source": [
    "class Product:\n",
    "    print(\"this is class\")\n",
    "    \n",
    "    def __init__(self):\n",
    "        print(\"this is init\")\n",
    "        \n",
    "    def get(self):\n",
    "        print(\"this is get\")"
   ]
  },
  {
   "cell_type": "code",
   "execution_count": 15,
   "metadata": {},
   "outputs": [
    {
     "name": "stdout",
     "output_type": "stream",
     "text": [
      "this is class\n",
      "this is init\n",
      "this is init\n"
     ]
    }
   ],
   "source": [
    "class Product:\n",
    "    print(\"this is class\")\n",
    "    \n",
    "    def __init__(self):\n",
    "        print(\"this is init\")\n",
    "        \n",
    "    def get(self):\n",
    "        print(\"this is get\")\n",
    "        \n",
    "obj1 = Product()# when you create an object, it will call __init__ method.\n",
    "obj2 = Product()"
   ]
  },
  {
   "cell_type": "code",
   "execution_count": 16,
   "metadata": {},
   "outputs": [
    {
     "name": "stdout",
     "output_type": "stream",
     "text": [
      "this is class\n",
      "this is init\n",
      "this is init\n",
      "this is init\n",
      "this is init\n"
     ]
    }
   ],
   "source": [
    "class Product:\n",
    "    print(\"this is class\")\n",
    "    \n",
    "    def __init__(self):\n",
    "        print(\"this is init\")\n",
    "        \n",
    "    def get(self):\n",
    "        print(\"this is get\")\n",
    "        \n",
    "obj1 = Product()# when you create an object, it will call __init__ method.\n",
    "obj2 = Product()\n",
    "obj3 = Product()\n",
    "obj4 = Product()"
   ]
  },
  {
   "cell_type": "code",
   "execution_count": 17,
   "metadata": {},
   "outputs": [
    {
     "name": "stdout",
     "output_type": "stream",
     "text": [
      "this is class\n",
      "this is init\n",
      "this is init\n",
      "this is init\n",
      "this is init\n"
     ]
    }
   ],
   "source": [
    "class Product:\n",
    "    print(\"this is class\")\n",
    "    \n",
    "    def __init__(self, p_name, p_cost):\n",
    "        print(\"this is init\")\n",
    "        self.name=p_name\n",
    "        self.cost=p_cost\n",
    "        \n",
    "    def get(self):\n",
    "        print(\"this is get\")\n",
    "        \n",
    "obj1 = Product(\"product1\", 1000)# when you create an object, it will call __init__ method.\n",
    "obj2 = Product(\"product2\", 2000)\n",
    "obj3 = Product(\"product3\", 3000)\n",
    "obj4 = Product(\"product4\", 4000)"
   ]
  },
  {
   "cell_type": "code",
   "execution_count": 18,
   "metadata": {},
   "outputs": [
    {
     "name": "stdout",
     "output_type": "stream",
     "text": [
      "this is class\n",
      "this is init\n",
      "this is init\n",
      "this is init\n",
      "this is init\n",
      "The product details: Name: product1, Cost:1000\n",
      "The product details: Name: product2, Cost:2000\n",
      "The product details: Name: product3, Cost:3000\n",
      "The product details: Name: product4, Cost:4000\n"
     ]
    }
   ],
   "source": [
    "class Product:\n",
    "    print(\"this is class\")\n",
    "    \n",
    "    def __init__(self, p_name, p_cost):\n",
    "        print(\"this is init\")\n",
    "        self.name=p_name\n",
    "        self.cost=p_cost\n",
    "        \n",
    "    def get(self):\n",
    "        print(f\"The product details: Name: {self.name}, Cost:{self.cost}\")\n",
    "        \n",
    "obj1 = Product(\"product1\", 1000)# when you create an object, it will call __init__ method.\n",
    "obj2 = Product(\"product2\", 2000)\n",
    "obj3 = Product(\"product3\", 3000)\n",
    "obj4 = Product(\"product4\", 4000)\n",
    "obj1.get()\n",
    "obj2.get()\n",
    "obj3.get()\n",
    "obj4.get()"
   ]
  },
  {
   "cell_type": "code",
   "execution_count": 19,
   "metadata": {},
   "outputs": [
    {
     "name": "stdout",
     "output_type": "stream",
     "text": [
      "1197\n"
     ]
    }
   ],
   "source": [
    "class Product:\n",
    "    def __init__(self, p_name, p_cost_price,deliverycharges,discount=0):\n",
    "        self.name=p_name\n",
    "        self.cost_price=p_cost_price\n",
    "        self.deliverycharges = deliverycharges\n",
    "        self.discount = discount\n",
    "        \n",
    "    def get(self):\n",
    "        return f\"The product details: Name: {self.name}, Cost:{self.cost}\"\n",
    "        \n",
    "    def get_sales_price(self):\n",
    "        # costprice+delivery-discount\n",
    "        return self.cost_price+self.deliverycharges-self.discount\n",
    "        \n",
    "obj1 = Product(\"product1\", 1000,200, 3)# when you create an object, it will call __init__ method.\n",
    "obj2 = Product(\"product2\", 2000, 400)\n",
    "print(obj1.get_sales_price())#Product.get_sales_price(obj1)\n"
   ]
  },
  {
   "cell_type": "code",
   "execution_count": 20,
   "metadata": {},
   "outputs": [
    {
     "name": "stdout",
     "output_type": "stream",
     "text": [
      "1197\n",
      "2400\n"
     ]
    }
   ],
   "source": [
    "class Product:\n",
    "    def __init__(self, p_name, p_cost_price,deliverycharges,discount=0):\n",
    "        self.name=p_name\n",
    "        self.cost_price=p_cost_price\n",
    "        self.deliverycharges = deliverycharges\n",
    "        self.discount = discount\n",
    "        \n",
    "    def get(self):\n",
    "        return f\"The product details: Name: {self.name}, Cost:{self.cost}\"\n",
    "        \n",
    "    def get_sales_price(self):\n",
    "        # costprice+delivery-discount\n",
    "        return self.cost_price+self.deliverycharges-self.discount\n",
    "        \n",
    "obj1 = Product(\"product1\", 1000,200, 3)# when you create an object, it will call __init__ method.\n",
    "obj2 = Product(\"product2\", 2000, 400)\n",
    "print(obj1.get_sales_price())#Product.get_sales_price(obj1)\n",
    "print(obj2.get_sales_price())"
   ]
  },
  {
   "cell_type": "code",
   "execution_count": 21,
   "metadata": {},
   "outputs": [
    {
     "name": "stdout",
     "output_type": "stream",
     "text": [
      "1197\n",
      "2400\n"
     ]
    }
   ],
   "source": [
    "class Product:\n",
    "    warehouse = \"Hyderbad west zone\"\n",
    "    def __init__(self, p_name, p_cost_price,deliverycharges,discount=0):\n",
    "        self.name=p_name\n",
    "        self.cost_price=p_cost_price\n",
    "        self.deliverycharges = deliverycharges\n",
    "        self.discount = discount\n",
    "        \n",
    "    def get(self):\n",
    "        return f\"The product details: Name: {self.name}, Cost:{self.cost}, warehouse:{self.warehouse}\"\n",
    "        \n",
    "    def get_sales_price(self):\n",
    "        # costprice+delivery-discount\n",
    "        return self.cost_price+self.deliverycharges-self.discount\n",
    "        \n",
    "obj1 = Product(\"product1\", 1000,200, 3)# when you create an object, it will call __init__ method.\n",
    "obj2 = Product(\"product2\", 2000, 400)\n",
    "print(obj1.get_sales_price())#Product.get_sales_price(obj1)\n",
    "print(obj2.get_sales_price())"
   ]
  },
  {
   "cell_type": "code",
   "execution_count": 23,
   "metadata": {},
   "outputs": [
    {
     "name": "stdout",
     "output_type": "stream",
     "text": [
      "1197\n",
      "2400\n",
      "The product details: Name: product1, Cost:1000, warehouse:Hyderbad west zone\n",
      "The product details: Name: product2, Cost:2000, warehouse:Hyderbad west zone\n"
     ]
    }
   ],
   "source": [
    "class Product:\n",
    "    warehouse = \"Hyderbad west zone\"\n",
    "    def __init__(self, p_name, p_cost_price,deliverycharges,discount=0):\n",
    "        self.name=p_name\n",
    "        self.cost_price=p_cost_price\n",
    "        self.deliverycharges = deliverycharges\n",
    "        self.discount = discount\n",
    "        \n",
    "    def get(self):\n",
    "        return f\"The product details: Name: {self.name}, Cost:{self.cost_price}, warehouse:{self.warehouse}\"\n",
    "        \n",
    "    def get_sales_price(self):\n",
    "        # costprice+delivery-discount\n",
    "        return self.cost_price+self.deliverycharges-self.discount\n",
    "        \n",
    "obj1 = Product(\"product1\", 1000,200, 3)# when you create an object, it will call __init__ method.\n",
    "obj2 = Product(\"product2\", 2000, 400)\n",
    "print(obj1.get_sales_price())#Product.get_sales_price(obj1)\n",
    "print(obj2.get_sales_price())\n",
    "print(obj1.get())\n",
    "print(obj2.get())"
   ]
  },
  {
   "cell_type": "code",
   "execution_count": null,
   "metadata": {},
   "outputs": [],
   "source": [
    "class CategoryDB:\n",
    "    category_table = \"category\" \n",
    "    def __init__(self,name):\n",
    "        self.name = name\n",
    "\n",
    "    def create_table():\n",
    "        #query to create table and exeuted  it\n",
    "    def add_rwo(self):\n",
    "        # write an insert query and execute and commit\n",
    "        \n",
    "    def update_row(self):\n",
    "        # write an update query and execute and commit\n",
    "    def delete_rwo(self):\n",
    "        #write an selete query and execute and commit\n",
    "        \n",
    "    def get_row(self):\n",
    "        #write an select query and execute and fetch the information from cursor object.\n",
    "        "
   ]
  }
 ],
 "metadata": {
  "kernelspec": {
   "display_name": "Python 3",
   "language": "python",
   "name": "python3"
  },
  "language_info": {
   "codemirror_mode": {
    "name": "ipython",
    "version": 3
   },
   "file_extension": ".py",
   "mimetype": "text/x-python",
   "name": "python",
   "nbconvert_exporter": "python",
   "pygments_lexer": "ipython3",
   "version": "3.8.3"
  }
 },
 "nbformat": 4,
 "nbformat_minor": 4
}
