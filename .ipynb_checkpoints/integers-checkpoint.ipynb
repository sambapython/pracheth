{
 "cells": [
  {
   "cell_type": "code",
   "execution_count": 3,
   "metadata": {},
   "outputs": [
    {
     "name": "stdout",
     "output_type": "stream",
     "text": [
      "decimal: 1000 <class 'int'>\n",
      "binary: 21 <class 'int'>\n",
      "hexadeciaml: 1062 <class 'int'>\n",
      "octal: 165 <class 'int'>\n"
     ]
    }
   ],
   "source": [
    "\"\"\"\n",
    "what are the number systems we have\n",
    "binary # 2(0,1)\n",
    "octal # 8(0,1,2,3,4,5,6,7)\n",
    "decimal #10(0,1,2,3,4,5,6,7,8,9)\n",
    "hexadeciaml#16(0,1,2,3,4,5,6,7,8,9,a,b,c,d,e,f)\n",
    "\"\"\"\n",
    "cost=1000 # Decimal\n",
    "print(\"decimal:\",cost, type(cost))\n",
    "price=0b10101 # binary\n",
    "print(\"binary:\",price, type(price))\n",
    "sell_price=0x426 #hexa decimal\n",
    "print(\"hexadeciaml:\",sell_price, type(sell_price))\n",
    "cost12 = 0o245 # octal\n",
    "print(\"octal:\",cost12, type(cost12))"
   ]
  },
  {
   "cell_type": "code",
   "execution_count": 4,
   "metadata": {},
   "outputs": [
    {
     "name": "stdout",
     "output_type": "stream",
     "text": [
      "decimal: 1000 <class 'int'>\n",
      "binary: 21 <class 'int'>\n",
      "21\n",
      "hexadeciaml: 1062 <class 'int'>\n",
      "1062\n",
      "octal: 165 <class 'int'>\n",
      "165\n"
     ]
    }
   ],
   "source": [
    "\"\"\"\n",
    "what are the number systems we have\n",
    "binary # 2(0,1)\n",
    "octal # 8(0,1,2,3,4,5,6,7)\n",
    "decimal #10(0,1,2,3,4,5,6,7,8,9)\n",
    "hexadeciaml#16(0,1,2,3,4,5,6,7,8,9,a,b,c,d,e,f)\n",
    "\"\"\"\n",
    "cost=1000 # Decimal\n",
    "print(\"decimal:\",cost, type(cost))\n",
    "price=0b10101 # binary\n",
    "print(\"binary:\",price, type(price))\n",
    "print(1*2**0+0*2**1+1*2**2+0*2**3+1*2**4)\n",
    "sell_price=0x426 #hexa decimal\n",
    "print(\"hexadeciaml:\",sell_price, type(sell_price))\n",
    "print(6*16**0+2*16**1+4*16**2)\n",
    "cost12 = 0o245 # octal\n",
    "print(\"octal:\",cost12, type(cost12))\n",
    "print(5*8**0+4*8**1+2*8**2)"
   ]
  },
  {
   "cell_type": "code",
   "execution_count": 5,
   "metadata": {},
   "outputs": [
    {
     "ename": "SyntaxError",
     "evalue": "leading zeros in decimal integer literals are not permitted; use an 0o prefix for octal integers (<ipython-input-5-d1df40395f4d>, line 1)",
     "output_type": "error",
     "traceback": [
      "\u001b[1;36m  File \u001b[1;32m\"<ipython-input-5-d1df40395f4d>\"\u001b[1;36m, line \u001b[1;32m1\u001b[0m\n\u001b[1;33m    a=0123\u001b[0m\n\u001b[1;37m         ^\u001b[0m\n\u001b[1;31mSyntaxError\u001b[0m\u001b[1;31m:\u001b[0m leading zeros in decimal integer literals are not permitted; use an 0o prefix for octal integers\n"
     ]
    }
   ],
   "source": [
    "a=0123\n",
    "print(a)"
   ]
  },
  {
   "cell_type": "code",
   "execution_count": 6,
   "metadata": {},
   "outputs": [
    {
     "ename": "SyntaxError",
     "evalue": "invalid digit '2' in binary literal (<ipython-input-6-cb393ae645fe>, line 1)",
     "output_type": "error",
     "traceback": [
      "\u001b[1;36m  File \u001b[1;32m\"<ipython-input-6-cb393ae645fe>\"\u001b[1;36m, line \u001b[1;32m1\u001b[0m\n\u001b[1;33m    a=0b102\u001b[0m\n\u001b[1;37m          ^\u001b[0m\n\u001b[1;31mSyntaxError\u001b[0m\u001b[1;31m:\u001b[0m invalid digit '2' in binary literal\n"
     ]
    }
   ],
   "source": [
    "a=0b102\n",
    "print(a)"
   ]
  },
  {
   "cell_type": "code",
   "execution_count": 7,
   "metadata": {},
   "outputs": [
    {
     "name": "stdout",
     "output_type": "stream",
     "text": [
      "190\n"
     ]
    }
   ],
   "source": [
    "a=0o276\n",
    "print(a)"
   ]
  },
  {
   "cell_type": "code",
   "execution_count": 8,
   "metadata": {},
   "outputs": [
    {
     "ename": "SyntaxError",
     "evalue": "invalid digit '9' in octal literal (<ipython-input-8-474fe06a5261>, line 1)",
     "output_type": "error",
     "traceback": [
      "\u001b[1;36m  File \u001b[1;32m\"<ipython-input-8-474fe06a5261>\"\u001b[1;36m, line \u001b[1;32m1\u001b[0m\n\u001b[1;33m    a=0o2769\u001b[0m\n\u001b[1;37m           ^\u001b[0m\n\u001b[1;31mSyntaxError\u001b[0m\u001b[1;31m:\u001b[0m invalid digit '9' in octal literal\n"
     ]
    }
   ],
   "source": [
    "a=0o2769\n",
    "print(a)"
   ]
  },
  {
   "cell_type": "code",
   "execution_count": 9,
   "metadata": {},
   "outputs": [
    {
     "name": "stdout",
     "output_type": "stream",
     "text": [
      "10\n"
     ]
    }
   ],
   "source": [
    "a=0xa\n",
    "print(a)"
   ]
  },
  {
   "cell_type": "code",
   "execution_count": 10,
   "metadata": {},
   "outputs": [
    {
     "name": "stdout",
     "output_type": "stream",
     "text": [
      "41547\n"
     ]
    }
   ],
   "source": [
    "a=0xa24b\n",
    "print(a)"
   ]
  },
  {
   "cell_type": "code",
   "execution_count": 11,
   "metadata": {},
   "outputs": [
    {
     "ename": "SyntaxError",
     "evalue": "invalid syntax (<ipython-input-11-081ad63dc5ee>, line 1)",
     "output_type": "error",
     "traceback": [
      "\u001b[1;36m  File \u001b[1;32m\"<ipython-input-11-081ad63dc5ee>\"\u001b[1;36m, line \u001b[1;32m1\u001b[0m\n\u001b[1;33m    a=0xa24bg\u001b[0m\n\u001b[1;37m            ^\u001b[0m\n\u001b[1;31mSyntaxError\u001b[0m\u001b[1;31m:\u001b[0m invalid syntax\n"
     ]
    }
   ],
   "source": [
    "a=0xa24bg\n",
    "print(a)"
   ]
  },
  {
   "cell_type": "code",
   "execution_count": 12,
   "metadata": {},
   "outputs": [],
   "source": [
    "#operators\n",
    "#arithmetic: +,-,*,/,**,//,%\n",
    "#booleanoperators: >,<,<=,>=,==,!=,is,in,not\n",
    "#composit boolean operators: and, or\n",
    "#binary operators: &,|,^,>>,<<"
   ]
  },
  {
   "cell_type": "code",
   "execution_count": 13,
   "metadata": {},
   "outputs": [
    {
     "name": "stdout",
     "output_type": "stream",
     "text": [
      "0\n"
     ]
    }
   ],
   "source": [
    "a=10\n",
    "b=5\n",
    "print(a%b)"
   ]
  },
  {
   "cell_type": "code",
   "execution_count": 14,
   "metadata": {},
   "outputs": [
    {
     "name": "stdout",
     "output_type": "stream",
     "text": [
      "1\n"
     ]
    }
   ],
   "source": [
    "a=10\n",
    "b=3\n",
    "print(a%b)"
   ]
  },
  {
   "cell_type": "code",
   "execution_count": 15,
   "metadata": {},
   "outputs": [
    {
     "name": "stdout",
     "output_type": "stream",
     "text": [
      "3.3333333333333335\n"
     ]
    }
   ],
   "source": [
    "a=10\n",
    "b=3\n",
    "print(a/b)"
   ]
  },
  {
   "cell_type": "code",
   "execution_count": 16,
   "metadata": {},
   "outputs": [
    {
     "name": "stdout",
     "output_type": "stream",
     "text": [
      "3\n"
     ]
    }
   ],
   "source": [
    "a=10\n",
    "b=3\n",
    "print(a//b)"
   ]
  },
  {
   "cell_type": "code",
   "execution_count": 17,
   "metadata": {},
   "outputs": [
    {
     "name": "stdout",
     "output_type": "stream",
     "text": [
      "False\n",
      "True\n"
     ]
    }
   ],
   "source": [
    "a=10\n",
    "b=20\n",
    "print(a>b)# False\n",
    "print(a<b)# True"
   ]
  },
  {
   "cell_type": "code",
   "execution_count": null,
   "metadata": {},
   "outputs": [],
   "source": [
    "a=10\n",
    "b=20\n",
    "print(a>b)\n",
    "print(a<b)"
   ]
  },
  {
   "cell_type": "code",
   "execution_count": 18,
   "metadata": {},
   "outputs": [],
   "source": [
    "# how you are saying 10 is lesser than 20?\n",
    "# how you are saying 10 is greater than 9?\n",
    "# how you are saying 1 is lesser than 2?\n",
    "# based on the number scale and Ascending order"
   ]
  },
  {
   "cell_type": "code",
   "execution_count": 20,
   "metadata": {},
   "outputs": [
    {
     "name": "stdout",
     "output_type": "stream",
     "text": [
      "False\n",
      "True\n",
      "False\n",
      "True\n",
      "False\n",
      "True\n",
      "False\n",
      "True\n"
     ]
    }
   ],
   "source": [
    "a=10\n",
    "b=20\n",
    "print(a>b)\n",
    "print(a<b)\n",
    "print(a==b)\n",
    "print(a!=b)\n",
    "print(a>=b)\n",
    "print(a<=b)\n",
    "print(a is b)\n",
    "print(a is not b)"
   ]
  },
  {
   "cell_type": "code",
   "execution_count": 21,
   "metadata": {},
   "outputs": [
    {
     "name": "stdout",
     "output_type": "stream",
     "text": [
      "False False\n"
     ]
    }
   ],
   "source": [
    "a=10\n",
    "b=20\n",
    "c=30\n",
    "print(a>b, a>c)"
   ]
  },
  {
   "cell_type": "code",
   "execution_count": 22,
   "metadata": {},
   "outputs": [
    {
     "name": "stdout",
     "output_type": "stream",
     "text": [
      "False\n"
     ]
    }
   ],
   "source": [
    "a=10\n",
    "b=20\n",
    "c=30\n",
    "print(a>b and a>c)"
   ]
  },
  {
   "cell_type": "code",
   "execution_count": null,
   "metadata": {},
   "outputs": [],
   "source": [
    "\"\"\"\n",
    "T and T=> T\n",
    "T and F=> F\n",
    "F and T=>F\n",
    "F and F=> F\n",
    ".............\n",
    "T or T=>T\n",
    "T or F=>T\n",
    "F or T=>T\n",
    "F or F=>F\n",
    "\"\"\""
   ]
  },
  {
   "cell_type": "code",
   "execution_count": 23,
   "metadata": {},
   "outputs": [
    {
     "name": "stdout",
     "output_type": "stream",
     "text": [
      "False\n"
     ]
    }
   ],
   "source": [
    "a=10\n",
    "b=20\n",
    "c=30\n",
    "print(a<b and a>c) # T and F"
   ]
  },
  {
   "cell_type": "code",
   "execution_count": 24,
   "metadata": {},
   "outputs": [
    {
     "name": "stdout",
     "output_type": "stream",
     "text": [
      "True\n"
     ]
    }
   ],
   "source": [
    "a=10\n",
    "b=20\n",
    "c=30\n",
    "print(a<b or a>c) # T or F"
   ]
  },
  {
   "cell_type": "code",
   "execution_count": 25,
   "metadata": {},
   "outputs": [
    {
     "name": "stdout",
     "output_type": "stream",
     "text": [
      "0\n"
     ]
    }
   ],
   "source": [
    "a=10\n",
    "b=20\n",
    "print(a & b) # binary operator will works on binary values\n",
    "# internally converts 10 to binary value and 20 to binary value, it will do & on these two binary values"
   ]
  },
  {
   "cell_type": "code",
   "execution_count": 26,
   "metadata": {},
   "outputs": [
    {
     "name": "stdout",
     "output_type": "stream",
     "text": [
      "30\n"
     ]
    }
   ],
   "source": [
    "a=10\n",
    "b=20\n",
    "print(a | b) # binary operator will works on binary values"
   ]
  },
  {
   "cell_type": "code",
   "execution_count": 27,
   "metadata": {},
   "outputs": [
    {
     "name": "stdout",
     "output_type": "stream",
     "text": [
      "0b1010\n",
      "0b10100\n"
     ]
    }
   ],
   "source": [
    "print(bin(a))\n",
    "print(bin(b))"
   ]
  },
  {
   "cell_type": "code",
   "execution_count": 28,
   "metadata": {},
   "outputs": [
    {
     "name": "stdout",
     "output_type": "stream",
     "text": [
      "0\n"
     ]
    }
   ],
   "source": [
    "a=10\n",
    "b=20\n",
    "print(a & b) # binary operator will works on binary values\n",
    "# internally converts 10 to binary value and 20 to binary value, it will do & on these two binary values \n",
    "# True-->1\n",
    "# False -->0\n",
    "# 0b1010\n",
    "#0b10100\n",
    "#Result:0000"
   ]
  },
  {
   "cell_type": "code",
   "execution_count": 30,
   "metadata": {},
   "outputs": [
    {
     "name": "stdout",
     "output_type": "stream",
     "text": [
      "30\n",
      "30\n"
     ]
    }
   ],
   "source": [
    "a=10\n",
    "b=20\n",
    "print(a | b) # binary operator will works on binary values\n",
    "# internally converts 10 to binary value and 20 to binary value, it will do & on these two binary values \n",
    "# True-->1\n",
    "# False -->0\n",
    "# 0b1010\n",
    "#0b10100\n",
    "#Result:11110\n",
    "print(0*2**0+1*2**1+1*2**2+1*2**3+1*2**4)"
   ]
  },
  {
   "cell_type": "code",
   "execution_count": null,
   "metadata": {},
   "outputs": [],
   "source": [
    "number1=1000\n",
    "number2=2000\n",
    "number3=number1\n",
    "res=number1+number2"
   ]
  },
  {
   "cell_type": "code",
   "execution_count": null,
   "metadata": {},
   "outputs": [],
   "source": [
    "# our ram size is 4GB, 1GB ocupied by OS. we have 3 GB free memory.\n",
    "# we are writng a code to read a data from collection of files.  consider the size of each file is 1GB. There are 10files to read.\n",
    "#data = read first file(1 GB) file-- free memory: 2GB \n",
    "#data1 = read second (1GB) fiel -- free memory: 1GB\n",
    "#data2 = read thrid (1GB) file -- free memory: 0GB;;; system start stuck..\n",
    "#data3  =read fourth (1GB) file"
   ]
  },
  {
   "cell_type": "code",
   "execution_count": null,
   "metadata": {},
   "outputs": [],
   "source": [
    "# our ram size is 4GB, 1GB ocupied by OS. we have 3 GB free memory.\n",
    "# we are writng a code to read a data from collection of files.  consider the size of each file is 1GB. There are 10files to read.\n",
    "#data = read first file(1 GB) file-- free memory: 2GB \n",
    "#data = read second (1GB) fiel -- free memory: 1GB(file1 object does not have any reference, so it's removed by GC, RAM size:2GB)\n",
    "#data = read thrid (1GB) file -- free memory: 1GB(file2 object does not have any reference, so it's removed by GC, RAM size:2GB)\n",
    "#data  =read fourth (1GB) file"
   ]
  }
 ],
 "metadata": {
  "kernelspec": {
   "display_name": "Python 3",
   "language": "python",
   "name": "python3"
  },
  "language_info": {
   "codemirror_mode": {
    "name": "ipython",
    "version": 3
   },
   "file_extension": ".py",
   "mimetype": "text/x-python",
   "name": "python",
   "nbconvert_exporter": "python",
   "pygments_lexer": "ipython3",
   "version": "3.8.3"
  }
 },
 "nbformat": 4,
 "nbformat_minor": 4
}
