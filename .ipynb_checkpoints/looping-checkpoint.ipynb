{
 "cells": [
  {
   "cell_type": "code",
   "execution_count": 1,
   "metadata": {},
   "outputs": [
    {
     "name": "stdout",
     "output_type": "stream",
     "text": [
      "started\n",
      "0\n",
      "Ended\n"
     ]
    }
   ],
   "source": [
    "print(\"started\")\n",
    "i=0\n",
    "if i<10:\n",
    "    print(i)\n",
    "    i=i+1\n",
    "print(\"Ended\")"
   ]
  },
  {
   "cell_type": "code",
   "execution_count": 2,
   "metadata": {},
   "outputs": [
    {
     "name": "stdout",
     "output_type": "stream",
     "text": [
      "started\n",
      "1\n",
      "Ended\n"
     ]
    }
   ],
   "source": [
    "print(\"started\")\n",
    "i=0\n",
    "if i<10:\n",
    "    i=i+1\n",
    "    print(i)\n",
    "print(\"Ended\")"
   ]
  },
  {
   "cell_type": "code",
   "execution_count": 3,
   "metadata": {},
   "outputs": [
    {
     "name": "stdout",
     "output_type": "stream",
     "text": [
      "started\n",
      "0\n",
      "1\n",
      "2\n",
      "Ended\n"
     ]
    }
   ],
   "source": [
    "print(\"started\")\n",
    "i=0\n",
    "while i<3:#0<3:True|| 1<3: True || 2<3: True || 3<3: False(It will not execute the block.)\n",
    "    print(i)#0 # 1 #2\n",
    "    i=i+1#i=0+1, i value 1 || i=1+1, i value 2 || i=2+1, i value 3\n",
    "print(\"Ended\")"
   ]
  },
  {
   "cell_type": "code",
   "execution_count": 4,
   "metadata": {},
   "outputs": [
    {
     "name": "stdout",
     "output_type": "stream",
     "text": [
      "started\n",
      "Ended\n"
     ]
    }
   ],
   "source": [
    "print(\"started\")\n",
    "i=0\n",
    "while False:\n",
    "    print(i)\n",
    "    i=i+1\n",
    "print(\"Ended\")"
   ]
  },
  {
   "cell_type": "code",
   "execution_count": null,
   "metadata": {},
   "outputs": [],
   "source": [
    "print(\"started\")\n",
    "i=0\n",
    "while True:\n",
    "    print(i)#0\n",
    "    i=i+1#i=1\n",
    "print(\"Ended\")\n",
    "# It's an infinite loop."
   ]
  },
  {
   "cell_type": "code",
   "execution_count": null,
   "metadata": {},
   "outputs": [],
   "source": [
    "print(\"started\")\n",
    "i=0\n",
    "while i<3:\n",
    "    print(i)#0\n",
    "    i=i-1# i=-1\n",
    "print(\"Ended\")\n",
    "# It's an infinite loop."
   ]
  },
  {
   "cell_type": "code",
   "execution_count": 5,
   "metadata": {},
   "outputs": [
    {
     "name": "stdout",
     "output_type": "stream",
     "text": [
      "p\n",
      "y\n"
     ]
    }
   ],
   "source": [
    "s=\"python\"\n",
    "print(s[0])\n",
    "print(s[1])"
   ]
  },
  {
   "cell_type": "code",
   "execution_count": 7,
   "metadata": {},
   "outputs": [
    {
     "name": "stdout",
     "output_type": "stream",
     "text": [
      "p\n",
      "y\n",
      "t\n",
      "h\n",
      "o\n",
      "n\n"
     ]
    }
   ],
   "source": [
    "s=\"python\"\n",
    "print(s[0])\n",
    "print(s[1])\n",
    "print(s[2])\n",
    "print(s[3])\n",
    "print(s[4])\n",
    "print(s[5])"
   ]
  },
  {
   "cell_type": "code",
   "execution_count": 8,
   "metadata": {},
   "outputs": [
    {
     "name": "stdout",
     "output_type": "stream",
     "text": [
      "0\n",
      "1\n",
      "2\n",
      "3\n",
      "4\n",
      "5\n"
     ]
    }
   ],
   "source": [
    "i=0\n",
    "while i<6:\n",
    "    print(i)\n",
    "    i=i+1"
   ]
  },
  {
   "cell_type": "code",
   "execution_count": 9,
   "metadata": {},
   "outputs": [
    {
     "name": "stdout",
     "output_type": "stream",
     "text": [
      "p\n",
      "y\n",
      "t\n",
      "h\n",
      "o\n",
      "n\n"
     ]
    }
   ],
   "source": [
    "s=\"python\"\n",
    "i=0\n",
    "while i<6:\n",
    "    print(s[i])\n",
    "    i=i+1\n"
   ]
  },
  {
   "cell_type": "code",
   "execution_count": 10,
   "metadata": {},
   "outputs": [
    {
     "name": "stdout",
     "output_type": "stream",
     "text": [
      "p\n",
      "y\n",
      "t\n",
      "h\n",
      "o\n",
      "n\n"
     ]
    }
   ],
   "source": [
    "s=\"python\"\n",
    "for i in s:\n",
    "    print(i)"
   ]
  },
  {
   "cell_type": "code",
   "execution_count": 11,
   "metadata": {},
   "outputs": [
    {
     "name": "stdout",
     "output_type": "stream",
     "text": [
      "p\n",
      "y\n",
      "t\n",
      "h\n",
      "o\n",
      "n\n"
     ]
    }
   ],
   "source": [
    "for i in \"python\":\n",
    "    print(i)"
   ]
  },
  {
   "cell_type": "code",
   "execution_count": 12,
   "metadata": {},
   "outputs": [
    {
     "name": "stdout",
     "output_type": "stream",
     "text": [
      "10\n",
      "3\n",
      "4\n",
      "5\n",
      "12\n",
      "34\n"
     ]
    }
   ],
   "source": [
    "for i in [10,3,4,5,12,34]:\n",
    "    print(i)"
   ]
  },
  {
   "cell_type": "code",
   "execution_count": 13,
   "metadata": {},
   "outputs": [
    {
     "name": "stdout",
     "output_type": "stream",
     "text": [
      "Eevn\n"
     ]
    }
   ],
   "source": [
    "n=10\n",
    "if n%2==0:\n",
    "    print(\"Eevn\")\n",
    "else:\n",
    "    print(\"Odd\")"
   ]
  },
  {
   "cell_type": "code",
   "execution_count": 14,
   "metadata": {},
   "outputs": [
    {
     "name": "stdout",
     "output_type": "stream",
     "text": [
      "Eevn\n",
      "Odd\n",
      "Eevn\n",
      "Odd\n"
     ]
    }
   ],
   "source": [
    "numbers=[10,3,2,5,46,36,34,28]\n",
    "if numbers[0]%2==0:\n",
    "    print(\"Eevn\")\n",
    "else:\n",
    "    print(\"Odd\")\n",
    "if numbers[1]%2==0:\n",
    "    print(\"Eevn\")\n",
    "else:\n",
    "    print(\"Odd\")\n",
    "if numbers[2]%2==0:\n",
    "    print(\"Eevn\")\n",
    "else:\n",
    "    print(\"Odd\")\n",
    "if numbers[3]%2==0:\n",
    "    print(\"Eevn\")\n",
    "else:\n",
    "    print(\"Odd\")"
   ]
  },
  {
   "cell_type": "code",
   "execution_count": 15,
   "metadata": {},
   "outputs": [
    {
     "name": "stdout",
     "output_type": "stream",
     "text": [
      "Eevn\n",
      "Odd\n",
      "Eevn\n",
      "Odd\n",
      "Eevn\n",
      "Eevn\n",
      "Eevn\n",
      "Eevn\n"
     ]
    }
   ],
   "source": [
    "numbers=[10,3,2,5,46,36,34,28]\n",
    "for i in numbers:\n",
    "    if i%2==0:\n",
    "        print(\"Eevn\")\n",
    "    else:\n",
    "        print(\"Odd\")\n"
   ]
  },
  {
   "cell_type": "code",
   "execution_count": 16,
   "metadata": {},
   "outputs": [
    {
     "name": "stdout",
     "output_type": "stream",
     "text": [
      "EVEN\n",
      "ODD\n",
      "EVEN\n",
      "ODD\n",
      "EVEN\n",
      "EVEN\n",
      "EVEN\n",
      "EVEN\n"
     ]
    }
   ],
   "source": [
    "numbers=[10,3,2,5,46,36,34,28]\n",
    "for i in numbers:\n",
    "    print(\"EVEN\" if i%2==0 else \"ODD\")"
   ]
  },
  {
   "cell_type": "code",
   "execution_count": null,
   "metadata": {},
   "outputs": [],
   "source": [
    "# write a code to check the numbers are positive or negative.\n",
    "numbers=(10,-3,2,5,-46,36,34,-28)\n"
   ]
  },
  {
   "cell_type": "code",
   "execution_count": 17,
   "metadata": {},
   "outputs": [
    {
     "name": "stdout",
     "output_type": "stream",
     "text": [
      "Positive numbers: 5\n",
      "Negative numbers: 3\n"
     ]
    }
   ],
   "source": [
    "# write a code to print how many positive numbers are there, how many negative numbers are there.\n",
    "numbers=(10,-3,2,5,-46,36,34,-28)\n",
    "number_positive=0\n",
    "number_negative=0\n",
    "for i in numbers:\n",
    "    if i>0:\n",
    "        number_positive = number_positive+1\n",
    "    else:\n",
    "        number_negative = number_negative+1\n",
    "print(\"Positive numbers:\",number_positive)\n",
    "print(\"Negative numbers:\",number_negative)       "
   ]
  },
  {
   "cell_type": "code",
   "execution_count": 1,
   "metadata": {},
   "outputs": [],
   "source": [
    "# write a code to print how many Even numbers are there, how many ODD numbers are there.\n",
    "numbers=(10,3,2,5,46,36,34,28)"
   ]
  },
  {
   "cell_type": "code",
   "execution_count": 2,
   "metadata": {},
   "outputs": [
    {
     "name": "stdout",
     "output_type": "stream",
     "text": [
      "it contains evens\n"
     ]
    }
   ],
   "source": [
    "# does the given list contains atleast one even number or not.\n",
    "numbers=(10,3,2,5,46,36,34,28)\n",
    "evemn_count = 0\n",
    "for number in numbers:\n",
    "    if number%2==0:\n",
    "        evemn_count = evemn_count+1\n",
    "        \n",
    "if evemn_count == 0:\n",
    "    print(\"it does not contains evens\")\n",
    "else:\n",
    "    print(\"it contains evens\")\n",
    "    "
   ]
  },
  {
   "cell_type": "code",
   "execution_count": 3,
   "metadata": {},
   "outputs": [
    {
     "name": "stdout",
     "output_type": "stream",
     "text": [
      "it does not contains evens\n"
     ]
    }
   ],
   "source": [
    "# does the given list contains atleast one even number or not.\n",
    "numbers=(13,15,17,19,21)\n",
    "evemn_count = 0\n",
    "for number in numbers:\n",
    "    if number%2==0:\n",
    "        evemn_count = evemn_count+1\n",
    "        \n",
    "if evemn_count == 0:\n",
    "    print(\"it does not contains evens\")\n",
    "else:\n",
    "    print(\"it contains evens\")\n",
    "    "
   ]
  },
  {
   "cell_type": "code",
   "execution_count": 4,
   "metadata": {},
   "outputs": [
    {
     "name": "stdout",
     "output_type": "stream",
     "text": [
      "10\n",
      "3\n",
      "2\n",
      "5\n",
      "46\n",
      "36\n",
      "34\n",
      "28\n",
      "it contains evens\n"
     ]
    }
   ],
   "source": [
    "# does the given list contains atleast one even number or not.\n",
    "numbers=(10,3,2,5,46,36,34,28)\n",
    "evemn_count = 0\n",
    "for number in numbers:\n",
    "    print(number)\n",
    "    if number%2==0:\n",
    "        evemn_count = evemn_count+1\n",
    "        \n",
    "if evemn_count == 0:\n",
    "    print(\"it does not contains evens\")\n",
    "else:\n",
    "    print(\"it contains evens\")\n",
    "    "
   ]
  },
  {
   "cell_type": "code",
   "execution_count": 5,
   "metadata": {},
   "outputs": [
    {
     "name": "stdout",
     "output_type": "stream",
     "text": [
      "1\n",
      "3\n",
      "2\n",
      "5\n",
      "46\n",
      "36\n",
      "34\n",
      "28\n",
      "it contains evens\n"
     ]
    }
   ],
   "source": [
    "# does the given list contains atleast one even number or not.\n",
    "numbers=(1,3,2,5,46,36,34,28)\n",
    "evemn_count = 0\n",
    "for number in numbers:\n",
    "    print(number)\n",
    "    if number%2==0:\n",
    "        evemn_count = evemn_count+1\n",
    "        \n",
    "if evemn_count == 0:\n",
    "    print(\"it does not contains evens\")\n",
    "else:\n",
    "    print(\"it contains evens\")\n",
    "    "
   ]
  },
  {
   "cell_type": "code",
   "execution_count": 6,
   "metadata": {},
   "outputs": [
    {
     "name": "stdout",
     "output_type": "stream",
     "text": [
      "1\n",
      "3\n",
      "2\n",
      "it contains evens\n"
     ]
    }
   ],
   "source": [
    "# does the given list contains atleast one even number or not.\n",
    "numbers=(1,3,2,5,46,36,34,28)\n",
    "evemn_count = 0\n",
    "for number in numbers:\n",
    "    print(number)\n",
    "    if number%2==0:\n",
    "        evemn_count = evemn_count+1\n",
    "        break\n",
    "if evemn_count == 0:\n",
    "    print(\"it does not contains evens\")\n",
    "else:\n",
    "    print(\"it contains evens\")\n",
    "    "
   ]
  },
  {
   "cell_type": "code",
   "execution_count": 7,
   "metadata": {},
   "outputs": [
    {
     "name": "stdout",
     "output_type": "stream",
     "text": [
      "p\n",
      "y\n",
      "t\n",
      "h\n",
      "o\n",
      "n\n"
     ]
    }
   ],
   "source": [
    "for i in \"python\":\n",
    "    print(i)"
   ]
  },
  {
   "cell_type": "code",
   "execution_count": 8,
   "metadata": {},
   "outputs": [
    {
     "name": "stdout",
     "output_type": "stream",
     "text": [
      "p\n"
     ]
    }
   ],
   "source": [
    "for i in \"python\":\n",
    "    print(i)\n",
    "    break"
   ]
  },
  {
   "cell_type": "code",
   "execution_count": 9,
   "metadata": {},
   "outputs": [
    {
     "name": "stdout",
     "output_type": "stream",
     "text": [
      "started\n",
      "p\n",
      "main1\n",
      "main2\n"
     ]
    }
   ],
   "source": [
    "print(\"started\")\n",
    "for i in \"python\":\n",
    "    print(i)\n",
    "    break\n",
    "print(\"main1\")\n",
    "print(\"main2\")"
   ]
  },
  {
   "cell_type": "code",
   "execution_count": 10,
   "metadata": {},
   "outputs": [
    {
     "name": "stdout",
     "output_type": "stream",
     "text": [
      "started\n",
      "p\n",
      "y\n",
      "t\n",
      "main1\n",
      "main2\n"
     ]
    }
   ],
   "source": [
    "print(\"started\")\n",
    "for i in \"python\": #i=p\n",
    "    if i==\"h\":#p==h:false\n",
    "        break\n",
    "    print(i)#p\n",
    "print(\"main1\")\n",
    "print(\"main2\")"
   ]
  },
  {
   "cell_type": "code",
   "execution_count": null,
   "metadata": {},
   "outputs": [],
   "source": []
  },
  {
   "cell_type": "code",
   "execution_count": 11,
   "metadata": {},
   "outputs": [
    {
     "name": "stdout",
     "output_type": "stream",
     "text": [
      "satrted\n",
      "iteration started\n",
      "i= 1\n",
      "hello\n",
      "iteration ended\n",
      "iteration started\n",
      "i= 2\n",
      "hello\n",
      "iteration ended\n",
      "iteration started\n",
      "i= 3\n",
      "hello\n",
      "iteration ended\n",
      "main1\n",
      "main2\n",
      "ended\n"
     ]
    }
   ],
   "source": [
    "print(\"satrted\")\n",
    "for i in \"123\":#i=3\n",
    "    print(\"iteration started\")\n",
    "    print(\"i=\",i)\n",
    "    print(\"hello\")\n",
    "    print(\"iteration ended\")\n",
    "print(\"main1\")\n",
    "print(\"main2\")\n",
    "print(\"ended\")"
   ]
  },
  {
   "cell_type": "code",
   "execution_count": 12,
   "metadata": {},
   "outputs": [
    {
     "name": "stdout",
     "output_type": "stream",
     "text": [
      "started\n",
      "hi\n",
      "fruit= apple\n",
      "hi\n",
      "fruit= orange\n",
      "hi\n",
      "fruit= grape\n",
      "hi\n",
      "fruit= mango\n",
      "banglore\n",
      "ended\n"
     ]
    }
   ],
   "source": [
    "print(\"started\")\n",
    "for fruit in [\"apple\",\"orange\",\"grape\",\"mango\"]:\n",
    "    print(\"hi\")\n",
    "    print(\"fruit=\", fruit)\n",
    "print(\"banglore\")\n",
    "print(\"ended\")"
   ]
  },
  {
   "cell_type": "code",
   "execution_count": 13,
   "metadata": {},
   "outputs": [
    {
     "name": "stdout",
     "output_type": "stream",
     "text": [
      "it contains evens\n"
     ]
    }
   ],
   "source": [
    "# does the given list contains atleast one even number or not.\n",
    "numbers=(1,3,2,5,46,36,34,28)\n",
    "even_count = 0\n",
    "for number in numbers:#number:2\n",
    "    if number%2==0:#True\n",
    "        even_count = even_count+1 #1\n",
    "        break\n",
    "if evemn_count == 0:#1==0\n",
    "    print(\"it does not contains evens\")\n",
    "else:\n",
    "    print(\"it contains evens\")"
   ]
  },
  {
   "cell_type": "code",
   "execution_count": 14,
   "metadata": {},
   "outputs": [
    {
     "name": "stdout",
     "output_type": "stream",
     "text": [
      "it does not contains evens\n"
     ]
    }
   ],
   "source": [
    "# does the given list contains atleast one even number or not.\n",
    "numbers=(1,3,5,7)\n",
    "even_count = 0\n",
    "for number in numbers:#number:\n",
    "    if number%2==0:#False\n",
    "        even_count = even_count+1 #\n",
    "        break\n",
    "if even_count == 0:#0==0\n",
    "    print(\"it does not contains evens\")\n",
    "else:\n",
    "    print(\"it contains evens\")"
   ]
  },
  {
   "cell_type": "code",
   "execution_count": 15,
   "metadata": {},
   "outputs": [
    {
     "name": "stdout",
     "output_type": "stream",
     "text": [
      "started\n",
      "hello\n",
      "hello\n",
      "hello\n",
      "hello\n",
      "hello\n",
      "hello\n",
      "i= n\n"
     ]
    }
   ],
   "source": [
    "print(\"started\")\n",
    "for i in \"python\":\n",
    "    print(\"hello\")\n",
    "print(\"i=\",i)"
   ]
  },
  {
   "cell_type": "code",
   "execution_count": 16,
   "metadata": {},
   "outputs": [
    {
     "name": "stdout",
     "output_type": "stream",
     "text": [
      "started\n",
      "hello\n",
      "hello\n",
      "hello\n",
      "i= t\n"
     ]
    }
   ],
   "source": [
    "print(\"started\")\n",
    "c=0\n",
    "for i in \"python\":#i=t\n",
    "    print(\"hello\")#\n",
    "    if c==2:#2==2:True\n",
    "        break\n",
    "    c=c+1#2\n",
    "print(\"i=\",i)"
   ]
  },
  {
   "cell_type": "code",
   "execution_count": 17,
   "metadata": {},
   "outputs": [
    {
     "name": "stdout",
     "output_type": "stream",
     "text": [
      "started\n",
      "p\n",
      "main1\n",
      "main2\n",
      "ended\n"
     ]
    }
   ],
   "source": [
    "print(\"started\")\n",
    "for i in \"python\":\n",
    "    print(i)\n",
    "    break\n",
    "else:\n",
    "    print(\"this is else block\")\n",
    "print(\"main1\")\n",
    "print(\"main2\")\n",
    "print(\"ended\")"
   ]
  },
  {
   "cell_type": "code",
   "execution_count": 18,
   "metadata": {},
   "outputs": [
    {
     "name": "stdout",
     "output_type": "stream",
     "text": [
      "started\n",
      "1\n",
      "2\n",
      "3\n",
      "this is else block\n",
      "main1\n",
      "main2\n",
      "ended\n"
     ]
    }
   ],
   "source": [
    "print(\"started\")\n",
    "for i in \"123\":\n",
    "    print(i)\n",
    "else:\n",
    "    print(\"this is else block\")\n",
    "print(\"main1\")\n",
    "print(\"main2\")\n",
    "print(\"ended\")"
   ]
  },
  {
   "cell_type": "code",
   "execution_count": 19,
   "metadata": {},
   "outputs": [
    {
     "name": "stdout",
     "output_type": "stream",
     "text": [
      "started\n",
      "1\n",
      "2\n",
      "3\n",
      "this is else block\n",
      "main1\n",
      "main2\n",
      "ended\n"
     ]
    }
   ],
   "source": [
    "print(\"started\")\n",
    "for i in \"123\":\n",
    "    print(i)\n",
    "# controller come out from the loop in two sictuations\n",
    "# 1. there is no element to pickup. End of all the elements. [else block will be executed.]\n",
    "# 2. break executed.[else block will not execute.]\n",
    "else:\n",
    "    print(\"this is else block\")\n",
    "print(\"main1\")\n",
    "print(\"main2\")\n",
    "print(\"ended\")"
   ]
  },
  {
   "cell_type": "code",
   "execution_count": 20,
   "metadata": {},
   "outputs": [
    {
     "name": "stdout",
     "output_type": "stream",
     "text": [
      "started\n",
      "2\n",
      "ended\n"
     ]
    }
   ],
   "source": [
    "print(\"started\")\n",
    "for i in \"234\":\n",
    "    if i==\"3\":\n",
    "        break\n",
    "    print(i)\n",
    "else:\n",
    "    print(\"else block executed\")\n",
    "print(\"ended\")"
   ]
  },
  {
   "cell_type": "code",
   "execution_count": 21,
   "metadata": {},
   "outputs": [
    {
     "name": "stdout",
     "output_type": "stream",
     "text": [
      "started\n",
      "2\n",
      "3\n",
      "4\n",
      "else block executed\n",
      "ended\n"
     ]
    }
   ],
   "source": [
    "print(\"started\")\n",
    "for i in \"234\":\n",
    "    if i==\"5\":\n",
    "        break\n",
    "    print(i)\n",
    "else:\n",
    "    print(\"else block executed\")\n",
    "print(\"ended\")"
   ]
  },
  {
   "cell_type": "code",
   "execution_count": 22,
   "metadata": {},
   "outputs": [
    {
     "name": "stdout",
     "output_type": "stream",
     "text": [
      "started\n",
      "2\n",
      "3\n",
      "4\n",
      "ended\n"
     ]
    }
   ],
   "source": [
    "print(\"started\")\n",
    "for i in \"234\":\n",
    "    print(i)\n",
    "    if i==\"4\":\n",
    "        break\n",
    "else:\n",
    "    print(\"else block executed\")\n",
    "print(\"ended\")"
   ]
  },
  {
   "cell_type": "code",
   "execution_count": 23,
   "metadata": {},
   "outputs": [
    {
     "name": "stdout",
     "output_type": "stream",
     "text": [
      "started\n",
      "2\n",
      "3\n",
      "4\n",
      "else block executed\n",
      "ended\n"
     ]
    }
   ],
   "source": [
    "print(\"started\")\n",
    "for i in \"234\":\n",
    "    print(i)\n",
    "    if i==\"1\":\n",
    "        break\n",
    "else:\n",
    "    print(\"else block executed\")\n",
    "print(\"ended\")"
   ]
  },
  {
   "cell_type": "code",
   "execution_count": 24,
   "metadata": {},
   "outputs": [
    {
     "name": "stdout",
     "output_type": "stream",
     "text": [
      "it does not contains even numbers\n"
     ]
    }
   ],
   "source": [
    "# does the given list contains atleast one even number or not.\n",
    "numbers=(1,3,5,7)\n",
    "for number in numbers:\n",
    "    if number%2==0:\n",
    "        print(\"it contains even numbers\")\n",
    "        break\n",
    "else:\n",
    "    print(\"it does not contains even numbers\")"
   ]
  },
  {
   "cell_type": "code",
   "execution_count": 25,
   "metadata": {},
   "outputs": [
    {
     "name": "stdout",
     "output_type": "stream",
     "text": [
      "it contains even numbers\n"
     ]
    }
   ],
   "source": [
    "# does the given list contains atleast one even number or not.\n",
    "numbers=(1,3,5,10,7)\n",
    "for number in numbers:\n",
    "    if number%2==0:\n",
    "        print(\"it contains even numbers\")\n",
    "        break\n",
    "else:\n",
    "    print(\"it does not contains even numbers\")"
   ]
  },
  {
   "cell_type": "code",
   "execution_count": 27,
   "metadata": {},
   "outputs": [
    {
     "name": "stdout",
     "output_type": "stream",
     "text": [
      "10\n",
      "hello\n",
      "20\n",
      "hello\n",
      "31\n",
      "hello\n",
      "hi\n",
      "iteration ended\n",
      "40\n",
      "hello\n",
      "51\n",
      "hello\n",
      "hi\n",
      "iteration ended\n",
      "60\n",
      "hello\n",
      "main1\n",
      "ended\n"
     ]
    }
   ],
   "source": [
    "# continue.this controller will be used to skip the part of code in side the loop per iteration.\n",
    "for i in [10,20,31,40,51,60]:\n",
    "    print(i)\n",
    "    print(\"hello\")\n",
    "    if i%2==0:#i=20\n",
    "        continue\n",
    "    print(\"hi\")\n",
    "    print(\"iteration ended\")\n",
    "print(\"main1\")\n",
    "print(\"ended\")"
   ]
  },
  {
   "cell_type": "code",
   "execution_count": 28,
   "metadata": {},
   "outputs": [
    {
     "name": "stdout",
     "output_type": "stream",
     "text": [
      "ended\n"
     ]
    }
   ],
   "source": [
    "for i in \"python\":\n",
    "    continue\n",
    "    print(i)\n",
    "print(\"ended\")"
   ]
  },
  {
   "cell_type": "code",
   "execution_count": 29,
   "metadata": {},
   "outputs": [
    {
     "name": "stdout",
     "output_type": "stream",
     "text": [
      "ended\n"
     ]
    }
   ],
   "source": [
    "for i in \"python\":\n",
    "    break\n",
    "    print(i)\n",
    "print(\"ended\")"
   ]
  },
  {
   "cell_type": "code",
   "execution_count": 30,
   "metadata": {},
   "outputs": [
    {
     "name": "stdout",
     "output_type": "stream",
     "text": [
      "i= n\n",
      "ended\n"
     ]
    }
   ],
   "source": [
    "for i in \"python\":#i=\n",
    "    continue\n",
    "    print(i)\n",
    "print(\"i=\",i)\n",
    "print(\"ended\")"
   ]
  },
  {
   "cell_type": "code",
   "execution_count": 31,
   "metadata": {},
   "outputs": [
    {
     "name": "stdout",
     "output_type": "stream",
     "text": [
      "i= p\n",
      "ended\n"
     ]
    }
   ],
   "source": [
    "for i in \"python\":#i=p\n",
    "    break\n",
    "    print(i)\n",
    "print(\"i=\",i)\n",
    "print(\"ended\")"
   ]
  },
  {
   "cell_type": "code",
   "execution_count": null,
   "metadata": {},
   "outputs": [],
   "source": []
  }
 ],
 "metadata": {
  "kernelspec": {
   "display_name": "Python 3",
   "language": "python",
   "name": "python3"
  },
  "language_info": {
   "codemirror_mode": {
    "name": "ipython",
    "version": 3
   },
   "file_extension": ".py",
   "mimetype": "text/x-python",
   "name": "python",
   "nbconvert_exporter": "python",
   "pygments_lexer": "ipython3",
   "version": "3.8.3"
  }
 },
 "nbformat": 4,
 "nbformat_minor": 4
}
