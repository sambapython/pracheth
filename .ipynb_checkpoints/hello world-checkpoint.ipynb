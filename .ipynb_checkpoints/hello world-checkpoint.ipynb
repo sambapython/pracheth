{
 "cells": [
  {
   "cell_type": "code",
   "execution_count": 1,
   "metadata": {},
   "outputs": [],
   "source": [
    "\"\"\"\n",
    "int c; # declaration, the memory allocation happened here, 4 bytes\n",
    "c=100; # assignment..\n",
    "c=12.34 # float type, this is not possible. because system allocated only 4 butes for c. float exepcted 8 bytes.\n",
    "s char[10] # you can store only 10 chars\n",
    "s=\"1234567890\"\n",
    "s=\"sdfsdfds ds fsd fsdfwf\" # it's not possible because it's a bigger than the memory allocated.\n",
    "\"\"\"\n",
    "a=1000 # there is no declation in python, direct assignement. This we call it as dynamic type.\n",
    "a=\"python\"\n",
    "a=[1,2,3,4]\n",
    "a=12.34\n",
    "a=None\n",
    "\"\"\"\n",
    "scalability: by using python can develop various scales of applications. like we can develop a small app to restart the router,\n",
    "also we can develop a very big app like amazon.in\n",
    "\"\"\""
   ]
  },
  {
   "cell_type": "code",
   "execution_count": null,
   "metadata": {},
   "outputs": [],
   "source": [
    "# do some R & D on what python could not do?"
   ]
  }
 ],
 "metadata": {
  "kernelspec": {
   "display_name": "Python 3",
   "language": "python",
   "name": "python3"
  },
  "language_info": {
   "codemirror_mode": {
    "name": "ipython",
    "version": 3
   },
   "file_extension": ".py",
   "mimetype": "text/x-python",
   "name": "python",
   "nbconvert_exporter": "python",
   "pygments_lexer": "ipython3",
   "version": "3.8.3"
  }
 },
 "nbformat": 4,
 "nbformat_minor": 4
}
