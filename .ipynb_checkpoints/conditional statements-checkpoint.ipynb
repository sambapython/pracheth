{
 "cells": [
  {
   "cell_type": "code",
   "execution_count": 1,
   "metadata": {},
   "outputs": [
    {
     "name": "stdout",
     "output_type": "stream",
     "text": [
      "b is big\n"
     ]
    }
   ],
   "source": [
    "a=10\n",
    "b=20\n",
    "print(\"b is big\")"
   ]
  },
  {
   "cell_type": "code",
   "execution_count": 2,
   "metadata": {},
   "outputs": [
    {
     "name": "stdout",
     "output_type": "stream",
     "text": [
      "a is big\n"
     ]
    }
   ],
   "source": [
    "a=100\n",
    "b=20\n",
    "print(\"a is big\")"
   ]
  },
  {
   "cell_type": "code",
   "execution_count": 3,
   "metadata": {},
   "outputs": [
    {
     "name": "stdout",
     "output_type": "stream",
     "text": [
      "enter a value:10\n",
      "Enter a value:20\n",
      "a is big\n",
      "b is big\n"
     ]
    }
   ],
   "source": [
    "a=float(input(\"enter a value:\"))\n",
    "b=float(input(\"Enter a value:\"))\n",
    "print(\"a is big\")\n",
    "print(\"b is big\")"
   ]
  },
  {
   "cell_type": "code",
   "execution_count": 4,
   "metadata": {},
   "outputs": [
    {
     "name": "stdout",
     "output_type": "stream",
     "text": [
      "enter a value:100\n",
      "Enter a value:20\n",
      "a is big\n",
      "b is big\n"
     ]
    }
   ],
   "source": [
    "a=float(input(\"enter a value:\"))\n",
    "b=float(input(\"Enter a value:\"))\n",
    "print(\"a is big\")\n",
    "print(\"b is big\")"
   ]
  },
  {
   "cell_type": "code",
   "execution_count": 5,
   "metadata": {},
   "outputs": [
    {
     "name": "stdout",
     "output_type": "stream",
     "text": [
      "started\n",
      "hyderabad\n",
      "ended\n"
     ]
    }
   ],
   "source": [
    "print(\"started\")# main block\n",
    "if True:\n",
    "    print(\"hyderabad\") # if block statement\n",
    "else:\n",
    "    print(\"banglore\")# else block statement\n",
    "print(\"ended\")# main block statement"
   ]
  },
  {
   "cell_type": "code",
   "execution_count": 6,
   "metadata": {},
   "outputs": [
    {
     "name": "stdout",
     "output_type": "stream",
     "text": [
      "started\n",
      "banglore\n",
      "ended\n"
     ]
    }
   ],
   "source": [
    "print(\"started\")# main block\n",
    "if False:\n",
    "    print(\"hyderabad\") # if block statement\n",
    "else:\n",
    "    print(\"banglore\")# else block statement\n",
    "print(\"ended\")# main block statement"
   ]
  },
  {
   "cell_type": "code",
   "execution_count": 7,
   "metadata": {},
   "outputs": [
    {
     "name": "stdout",
     "output_type": "stream",
     "text": [
      "False\n",
      "b is big\n"
     ]
    }
   ],
   "source": [
    "a=10\n",
    "b=20\n",
    "print(a>b) # True: a is big: False: b is big \n",
    "if a>b:\n",
    "    print(\"a is big\")\n",
    "else:\n",
    "    print(\"b is big\")"
   ]
  },
  {
   "cell_type": "code",
   "execution_count": 8,
   "metadata": {},
   "outputs": [
    {
     "name": "stdout",
     "output_type": "stream",
     "text": [
      "True\n",
      "a is big\n"
     ]
    }
   ],
   "source": [
    "a=100\n",
    "b=20\n",
    "print(a>b) # True: a is big: False: b is big \n",
    "if a>b:\n",
    "    print(\"a is big\")\n",
    "else:\n",
    "    print(\"b is big\")"
   ]
  },
  {
   "cell_type": "code",
   "execution_count": null,
   "metadata": {},
   "outputs": [],
   "source": []
  }
 ],
 "metadata": {
  "kernelspec": {
   "display_name": "Python 3",
   "language": "python",
   "name": "python3"
  },
  "language_info": {
   "codemirror_mode": {
    "name": "ipython",
    "version": 3
   },
   "file_extension": ".py",
   "mimetype": "text/x-python",
   "name": "python",
   "nbconvert_exporter": "python",
   "pygments_lexer": "ipython3",
   "version": "3.8.3"
  }
 },
 "nbformat": 4,
 "nbformat_minor": 4
}
