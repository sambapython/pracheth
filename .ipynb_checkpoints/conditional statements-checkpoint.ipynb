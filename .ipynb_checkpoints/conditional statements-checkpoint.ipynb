{
 "cells": [
  {
   "cell_type": "code",
   "execution_count": 1,
   "metadata": {},
   "outputs": [
    {
     "name": "stdout",
     "output_type": "stream",
     "text": [
      "b is big\n"
     ]
    }
   ],
   "source": [
    "a=10\n",
    "b=20\n",
    "print(\"b is big\")"
   ]
  },
  {
   "cell_type": "code",
   "execution_count": 2,
   "metadata": {},
   "outputs": [
    {
     "name": "stdout",
     "output_type": "stream",
     "text": [
      "a is big\n"
     ]
    }
   ],
   "source": [
    "a=100\n",
    "b=20\n",
    "print(\"a is big\")"
   ]
  },
  {
   "cell_type": "code",
   "execution_count": 3,
   "metadata": {},
   "outputs": [
    {
     "name": "stdout",
     "output_type": "stream",
     "text": [
      "enter a value:10\n",
      "Enter a value:20\n",
      "a is big\n",
      "b is big\n"
     ]
    }
   ],
   "source": [
    "a=float(input(\"enter a value:\"))\n",
    "b=float(input(\"Enter a value:\"))\n",
    "print(\"a is big\")\n",
    "print(\"b is big\")"
   ]
  },
  {
   "cell_type": "code",
   "execution_count": 4,
   "metadata": {},
   "outputs": [
    {
     "name": "stdout",
     "output_type": "stream",
     "text": [
      "enter a value:100\n",
      "Enter a value:20\n",
      "a is big\n",
      "b is big\n"
     ]
    }
   ],
   "source": [
    "a=float(input(\"enter a value:\"))\n",
    "b=float(input(\"Enter a value:\"))\n",
    "print(\"a is big\")\n",
    "print(\"b is big\")"
   ]
  },
  {
   "cell_type": "code",
   "execution_count": 5,
   "metadata": {},
   "outputs": [
    {
     "name": "stdout",
     "output_type": "stream",
     "text": [
      "started\n",
      "hyderabad\n",
      "ended\n"
     ]
    }
   ],
   "source": [
    "print(\"started\")# main block\n",
    "if True:\n",
    "    print(\"hyderabad\") # if block statement\n",
    "else:\n",
    "    print(\"banglore\")# else block statement\n",
    "print(\"ended\")# main block statement"
   ]
  },
  {
   "cell_type": "code",
   "execution_count": 6,
   "metadata": {},
   "outputs": [
    {
     "name": "stdout",
     "output_type": "stream",
     "text": [
      "started\n",
      "banglore\n",
      "ended\n"
     ]
    }
   ],
   "source": [
    "print(\"started\")# main block\n",
    "if False:\n",
    "    print(\"hyderabad\") # if block statement\n",
    "else:\n",
    "    print(\"banglore\")# else block statement\n",
    "print(\"ended\")# main block statement"
   ]
  },
  {
   "cell_type": "code",
   "execution_count": 7,
   "metadata": {},
   "outputs": [
    {
     "name": "stdout",
     "output_type": "stream",
     "text": [
      "False\n",
      "b is big\n"
     ]
    }
   ],
   "source": [
    "a=10\n",
    "b=20\n",
    "print(a>b) # True: a is big: False: b is big \n",
    "if a>b:\n",
    "    print(\"a is big\")\n",
    "else:\n",
    "    print(\"b is big\")"
   ]
  },
  {
   "cell_type": "code",
   "execution_count": 8,
   "metadata": {},
   "outputs": [
    {
     "name": "stdout",
     "output_type": "stream",
     "text": [
      "True\n",
      "a is big\n"
     ]
    }
   ],
   "source": [
    "a=100\n",
    "b=20\n",
    "print(a>b) # True: a is big: False: b is big \n",
    "if a>b:\n",
    "    print(\"a is big\")\n",
    "else:\n",
    "    print(\"b is big\")"
   ]
  },
  {
   "cell_type": "code",
   "execution_count": 9,
   "metadata": {},
   "outputs": [],
   "source": [
    "# take a string from the user, print: Invalid string if it's an empty. otherwise print the length of the string."
   ]
  },
  {
   "cell_type": "code",
   "execution_count": 10,
   "metadata": {},
   "outputs": [
    {
     "name": "stdout",
     "output_type": "stream",
     "text": [
      "Enter a string:sdfksdfjweoir\n",
      "13\n"
     ]
    }
   ],
   "source": [
    "s=input(\"Enter a string:\")\n",
    "print(len(s))"
   ]
  },
  {
   "cell_type": "code",
   "execution_count": 11,
   "metadata": {},
   "outputs": [
    {
     "name": "stdout",
     "output_type": "stream",
     "text": [
      "Enter a string:\n",
      "0\n"
     ]
    }
   ],
   "source": [
    "s=input(\"Enter a string:\")\n",
    "print(len(s))"
   ]
  },
  {
   "cell_type": "code",
   "execution_count": 12,
   "metadata": {},
   "outputs": [
    {
     "data": {
      "text/plain": [
       "True"
      ]
     },
     "execution_count": 12,
     "metadata": {},
     "output_type": "execute_result"
    }
   ],
   "source": [
    "\"python\" in\"we are learning python programing language\""
   ]
  },
  {
   "cell_type": "code",
   "execution_count": 13,
   "metadata": {},
   "outputs": [
    {
     "data": {
      "text/plain": [
       "False"
      ]
     },
     "execution_count": 13,
     "metadata": {},
     "output_type": "execute_result"
    }
   ],
   "source": [
    "\"python\" in \"we are learning programing language\""
   ]
  },
  {
   "cell_type": "code",
   "execution_count": 1,
   "metadata": {},
   "outputs": [
    {
     "name": "stdout",
     "output_type": "stream",
     "text": [
      "Enter string:werewrt\n",
      "7\n"
     ]
    }
   ],
   "source": [
    "s=input(\"Enter string:\")\n",
    "if len(s)==0:\n",
    "    print(\"Invlaid\")\n",
    "else:\n",
    "    print(len(s))"
   ]
  },
  {
   "cell_type": "code",
   "execution_count": 2,
   "metadata": {},
   "outputs": [
    {
     "name": "stdout",
     "output_type": "stream",
     "text": [
      "Enter string:\n",
      "Invlaid\n"
     ]
    }
   ],
   "source": [
    "s=input(\"Enter string:\")\n",
    "if len(s)==0:\n",
    "    print(\"Invlaid\")\n",
    "else:\n",
    "    print(len(s))"
   ]
  },
  {
   "cell_type": "code",
   "execution_count": 3,
   "metadata": {},
   "outputs": [
    {
     "data": {
      "text/plain": [
       "True"
      ]
     },
     "execution_count": 3,
     "metadata": {},
     "output_type": "execute_result"
    }
   ],
   "source": [
    "bool(\"pytohnsdfsdf\")"
   ]
  },
  {
   "cell_type": "code",
   "execution_count": 4,
   "metadata": {},
   "outputs": [
    {
     "data": {
      "text/plain": [
       "False"
      ]
     },
     "execution_count": 4,
     "metadata": {},
     "output_type": "execute_result"
    }
   ],
   "source": [
    "bool(\"\")"
   ]
  },
  {
   "cell_type": "code",
   "execution_count": 5,
   "metadata": {},
   "outputs": [
    {
     "name": "stdout",
     "output_type": "stream",
     "text": [
      "Enter string:\n",
      "Invlaid\n"
     ]
    }
   ],
   "source": [
    "s=input(\"Enter string:\")\n",
    "if bool(s):\n",
    "    print(len(s))\n",
    "else:\n",
    "    print(\"Invlaid\")\n",
    "    "
   ]
  },
  {
   "cell_type": "code",
   "execution_count": 6,
   "metadata": {},
   "outputs": [
    {
     "name": "stdout",
     "output_type": "stream",
     "text": [
      "Enter string:\n",
      "Invlaid\n"
     ]
    }
   ],
   "source": [
    "s=input(\"Enter string:\")\n",
    "if s==\"\":\n",
    "    print(\"Invlaid\")\n",
    "else:\n",
    "    print(len(s))\n",
    "    \n",
    "    "
   ]
  },
  {
   "cell_type": "code",
   "execution_count": 7,
   "metadata": {},
   "outputs": [
    {
     "name": "stdout",
     "output_type": "stream",
     "text": [
      "Enter:sdfsd\n",
      "sdfsd\n"
     ]
    }
   ],
   "source": [
    "s=input(\"Enter:\")\n",
    "print(s)"
   ]
  },
  {
   "cell_type": "code",
   "execution_count": 8,
   "metadata": {},
   "outputs": [
    {
     "name": "stdout",
     "output_type": "stream",
     "text": [
      "Enter:\n",
      "\n"
     ]
    }
   ],
   "source": [
    "s=input(\"Enter:\")\n",
    "print(s)"
   ]
  },
  {
   "cell_type": "code",
   "execution_count": null,
   "metadata": {},
   "outputs": [],
   "source": [
    "s=\" \" # it's not an empty\n",
    "s=\"\"# it's an empty\n",
    "s='' # it's an empty\n",
    "s=' '# it's not an empty\n"
   ]
  },
  {
   "cell_type": "code",
   "execution_count": 9,
   "metadata": {},
   "outputs": [
    {
     "name": "stdout",
     "output_type": "stream",
     "text": [
      "Enter string:\n",
      "Invlaid\n"
     ]
    }
   ],
   "source": [
    "s=input(\"Enter string:\")\n",
    "if s=='':\n",
    "    print(\"Invlaid\")\n",
    "else:\n",
    "    print(len(s))\n",
    "    \n",
    "    "
   ]
  },
  {
   "cell_type": "code",
   "execution_count": 10,
   "metadata": {},
   "outputs": [
    {
     "data": {
      "text/plain": [
       "False"
      ]
     },
     "execution_count": 10,
     "metadata": {},
     "output_type": "execute_result"
    }
   ],
   "source": [
    "bool([])"
   ]
  },
  {
   "cell_type": "code",
   "execution_count": 11,
   "metadata": {},
   "outputs": [
    {
     "data": {
      "text/plain": [
       "False"
      ]
     },
     "execution_count": 11,
     "metadata": {},
     "output_type": "execute_result"
    }
   ],
   "source": [
    "bool({})"
   ]
  },
  {
   "cell_type": "code",
   "execution_count": 12,
   "metadata": {},
   "outputs": [
    {
     "data": {
      "text/plain": [
       "False"
      ]
     },
     "execution_count": 12,
     "metadata": {},
     "output_type": "execute_result"
    }
   ],
   "source": [
    "bool(())"
   ]
  },
  {
   "cell_type": "code",
   "execution_count": 13,
   "metadata": {},
   "outputs": [
    {
     "data": {
      "text/plain": [
       "False"
      ]
     },
     "execution_count": 13,
     "metadata": {},
     "output_type": "execute_result"
    }
   ],
   "source": [
    "bool(0)"
   ]
  },
  {
   "cell_type": "code",
   "execution_count": 14,
   "metadata": {},
   "outputs": [
    {
     "data": {
      "text/plain": [
       "False"
      ]
     },
     "execution_count": 14,
     "metadata": {},
     "output_type": "execute_result"
    }
   ],
   "source": [
    "bool(0.00)"
   ]
  },
  {
   "cell_type": "code",
   "execution_count": 15,
   "metadata": {},
   "outputs": [
    {
     "data": {
      "text/plain": [
       "False"
      ]
     },
     "execution_count": 15,
     "metadata": {},
     "output_type": "execute_result"
    }
   ],
   "source": [
    "bool(0+0j)"
   ]
  },
  {
   "cell_type": "code",
   "execution_count": 16,
   "metadata": {},
   "outputs": [
    {
     "data": {
      "text/plain": [
       "False"
      ]
     },
     "execution_count": 16,
     "metadata": {},
     "output_type": "execute_result"
    }
   ],
   "source": [
    "bool(0)"
   ]
  },
  {
   "cell_type": "code",
   "execution_count": 17,
   "metadata": {},
   "outputs": [
    {
     "data": {
      "text/plain": [
       "False"
      ]
     },
     "execution_count": 17,
     "metadata": {},
     "output_type": "execute_result"
    }
   ],
   "source": [
    "bool(\"\")"
   ]
  },
  {
   "cell_type": "code",
   "execution_count": 18,
   "metadata": {},
   "outputs": [
    {
     "data": {
      "text/plain": [
       "True"
      ]
     },
     "execution_count": 18,
     "metadata": {},
     "output_type": "execute_result"
    }
   ],
   "source": [
    "bool(\"0\")"
   ]
  },
  {
   "cell_type": "code",
   "execution_count": 19,
   "metadata": {},
   "outputs": [
    {
     "data": {
      "text/plain": [
       "True"
      ]
     },
     "execution_count": 19,
     "metadata": {},
     "output_type": "execute_result"
    }
   ],
   "source": [
    "bool(\"123sdfsdrw4324\")"
   ]
  },
  {
   "cell_type": "code",
   "execution_count": 20,
   "metadata": {},
   "outputs": [
    {
     "data": {
      "text/plain": [
       "False"
      ]
     },
     "execution_count": 20,
     "metadata": {},
     "output_type": "execute_result"
    }
   ],
   "source": [
    "bool([])"
   ]
  },
  {
   "cell_type": "code",
   "execution_count": 21,
   "metadata": {},
   "outputs": [
    {
     "data": {
      "text/plain": [
       "True"
      ]
     },
     "execution_count": 21,
     "metadata": {},
     "output_type": "execute_result"
    }
   ],
   "source": [
    "bool([0])"
   ]
  },
  {
   "cell_type": "code",
   "execution_count": 22,
   "metadata": {},
   "outputs": [
    {
     "data": {
      "text/plain": [
       "True"
      ]
     },
     "execution_count": 22,
     "metadata": {},
     "output_type": "execute_result"
    }
   ],
   "source": [
    "bool([1,2,3,5,5])"
   ]
  },
  {
   "cell_type": "code",
   "execution_count": 23,
   "metadata": {},
   "outputs": [
    {
     "name": "stdout",
     "output_type": "stream",
     "text": [
      "Enter string:pytohln\n",
      "7\n"
     ]
    }
   ],
   "source": [
    "s=input(\"Enter string:\")\n",
    "if s: # internally bool(s): it's True if s have any charactors. It's False if s is empty\n",
    "    print(len(s))\n",
    "else:\n",
    "    print(\"Invlaid\")\n",
    "    "
   ]
  },
  {
   "cell_type": "code",
   "execution_count": 24,
   "metadata": {},
   "outputs": [
    {
     "name": "stdout",
     "output_type": "stream",
     "text": [
      "Enter string:\n",
      "Invlaid\n"
     ]
    }
   ],
   "source": [
    "s=input(\"Enter string:\")\n",
    "if s: # internally bool(s): it's True if s have any charactors. It's False if s is empty\n",
    "    print(len(s))\n",
    "else:\n",
    "    print(\"Invlaid\")\n",
    "    "
   ]
  },
  {
   "cell_type": "code",
   "execution_count": null,
   "metadata": {},
   "outputs": [],
   "source": [
    "# n1,n2,operator: if operator + then you need to do summation n1+n2\n",
    "# if operator -then you need to do substreaction: n1-n2\n",
    "# if operator * then you need to multiplication: n1*n2"
   ]
  },
  {
   "cell_type": "code",
   "execution_count": 25,
   "metadata": {},
   "outputs": [
    {
     "name": "stdout",
     "output_type": "stream",
     "text": [
      "Enter operator:-\n",
      "-\n"
     ]
    }
   ],
   "source": [
    "n1=5\n",
    "n2=10\n",
    "operator = input(\"Enter operator:\")\n",
    "print(operator)"
   ]
  },
  {
   "cell_type": "code",
   "execution_count": 26,
   "metadata": {},
   "outputs": [
    {
     "name": "stdout",
     "output_type": "stream",
     "text": [
      "Enter operator:-\n",
      "-5\n",
      "Invalid operator\n"
     ]
    }
   ],
   "source": [
    "n1=5\n",
    "n2=10\n",
    "operator = input(\"Enter operator:\")\n",
    "if operator == \"+\":# - == +: False\n",
    "    print(n1+n2)\n",
    "if operator == \"-\": # - == -: True\n",
    "    print(n1-n2)\n",
    "if operator == \"*\":# - == *:False\n",
    "    print(n1*n2)\n",
    "else:\n",
    "    print(\"Invalid operator\")\n",
    "# in the above code it will check each and every condition, irrespective of previous condition result"
   ]
  },
  {
   "cell_type": "code",
   "execution_count": 27,
   "metadata": {},
   "outputs": [
    {
     "name": "stdout",
     "output_type": "stream",
     "text": [
      "Enter operator:-\n",
      "-5\n"
     ]
    }
   ],
   "source": [
    "n1=5\n",
    "n2=10\n",
    "operator = input(\"Enter operator:\")\n",
    "if operator == \"+\":# - == +: False\n",
    "    print(n1+n2)\n",
    "elif operator == \"-\": # - == -: True\n",
    "    print(n1-n2)\n",
    "elif operator == \"*\":# the controller will not check this condition because the previous condition value is True\n",
    "    print(n1*n2)\n",
    "else:# it will not execute this block, because one of the condition is True\n",
    "    print(\"Invalid operator\")\n",
    "# in the above code it will not check the next conditions if condition is True:"
   ]
  },
  {
   "cell_type": "code",
   "execution_count": 28,
   "metadata": {},
   "outputs": [
    {
     "name": "stdout",
     "output_type": "stream",
     "text": [
      "Enter operator:/\n",
      "Invalid operator\n"
     ]
    }
   ],
   "source": [
    "n1=5\n",
    "n2=10\n",
    "operator = input(\"Enter operator:\")\n",
    "if operator == \"+\":# / == +: False\n",
    "    print(n1+n2)\n",
    "elif operator == \"-\": # / == -: False\n",
    "    print(n1-n2)\n",
    "elif operator == \"*\":# / == *: False\n",
    "    print(n1*n2)\n",
    "else:# it will execute this block, because all the above conditions are False\n",
    "    print(\"Invalid operator\")\n"
   ]
  },
  {
   "cell_type": "code",
   "execution_count": 29,
   "metadata": {},
   "outputs": [
    {
     "name": "stdout",
     "output_type": "stream",
     "text": [
      "started\n",
      "enter language:c\n",
      "it's a scalable\n",
      "it will not support dynamic type\n",
      "it will not support portable feature\n",
      "it's does not have automatic memory management feature\n",
      "It will not support object oriented programing.\n",
      "Ended\n"
     ]
    }
   ],
   "source": [
    "print(\"started\")# in main block\n",
    "language = input(\"enter language:\") # in main block\n",
    "if language == \"c\":\n",
    "    print(\"it's a scalable\")\n",
    "    print(\"it will not support dynamic type\")\n",
    "    print(\"it will not support portable feature\")\n",
    "    print(\"it's does not have automatic memory management feature\")\n",
    "    print(\"It will not support object oriented programing.\")\n",
    "elif language == \"cpp\":\n",
    "    print(\"it's a scalable\")\n",
    "    print(\"it will not support dynamic type\")\n",
    "    print(\"it will not support portable feature\")\n",
    "    print(\"it's does not have automatic memory management feature\")\n",
    "    print(\"It will support object oriented programing\")\n",
    "elif language == \"python\":\n",
    "    print(\"it's scalable\")\n",
    "    print(\"it's support dynamic type\")\n",
    "    print(\"it's a protable\")\n",
    "    print(\"It's supports automatic memory mangement\")\n",
    "    print(\"it's supports object oriented programing\")\n",
    "print(\"Ended\") # it's in main block"
   ]
  },
  {
   "cell_type": "code",
   "execution_count": 30,
   "metadata": {},
   "outputs": [
    {
     "name": "stdout",
     "output_type": "stream",
     "text": [
      "started\n",
      "enter language:cpp\n",
      "it's a scalable\n",
      "it will not support dynamic type\n",
      "it will not support portable feature\n",
      "it's does not have automatic memory management feature\n",
      "It will support object oriented programing\n",
      "Ended\n"
     ]
    }
   ],
   "source": [
    "print(\"started\")# in main block\n",
    "language = input(\"enter language:\") # in main block\n",
    "if language == \"c\":\n",
    "        print(\"it's a scalable\")\n",
    "        print(\"it will not support dynamic type\")\n",
    "        print(\"it will not support portable feature\")\n",
    "        print(\"it's does not have automatic memory management feature\")\n",
    "        print(\"It will not support object oriented programing.\")\n",
    "elif language == \"cpp\":\n",
    "    print(\"it's a scalable\")\n",
    "    print(\"it will not support dynamic type\")\n",
    "    print(\"it will not support portable feature\")\n",
    "    print(\"it's does not have automatic memory management feature\")\n",
    "    print(\"It will support object oriented programing\")\n",
    "elif language == \"python\":\n",
    "    print(\"it's scalable\")\n",
    "    print(\"it's support dynamic type\")\n",
    "    print(\"it's a protable\")\n",
    "    print(\"It's supports automatic memory mangement\")\n",
    "    print(\"it's supports object oriented programing\")\n",
    "print(\"Ended\") # it's in main block"
   ]
  },
  {
   "cell_type": "code",
   "execution_count": 31,
   "metadata": {},
   "outputs": [
    {
     "name": "stdout",
     "output_type": "stream",
     "text": [
      "started\n",
      "enter language:python\n",
      "it's scalable\n",
      "it's support dynamic type\n",
      "it's a protable\n",
      "It's supports automatic memory mangement\n",
      "it's supports object oriented programing\n",
      "Ended\n"
     ]
    }
   ],
   "source": [
    "print(\"started\")# in main block\n",
    "language = input(\"enter language:\") # in main block\n",
    "if language == \"c\": # 8 spaces as an indentation\n",
    "        print(\"it's a scalable\")\n",
    "        print(\"it will not support dynamic type\")\n",
    "        print(\"it will not support portable feature\")\n",
    "        print(\"it's does not have automatic memory management feature\")\n",
    "        print(\"It will not support object oriented programing.\")\n",
    "elif language == \"cpp\": # single space as an indentation\n",
    " print(\"it's a scalable\")\n",
    " print(\"it will not support dynamic type\")\n",
    " print(\"it will not support portable feature\")\n",
    " print(\"it's does not have automatic memory management feature\")\n",
    " print(\"It will support object oriented programing\")\n",
    "elif language == \"python\": # four spaces as an indentaion.\n",
    "    print(\"it's scalable\")\n",
    "    print(\"it's support dynamic type\")\n",
    "    print(\"it's a protable\")\n",
    "    print(\"It's supports automatic memory mangement\")\n",
    "    print(\"it's supports object oriented programing\")\n",
    "print(\"Ended\") # it's in main block"
   ]
  },
  {
   "cell_type": "code",
   "execution_count": null,
   "metadata": {},
   "outputs": [],
   "source": []
  }
 ],
 "metadata": {
  "kernelspec": {
   "display_name": "Python 3",
   "language": "python",
   "name": "python3"
  },
  "language_info": {
   "codemirror_mode": {
    "name": "ipython",
    "version": 3
   },
   "file_extension": ".py",
   "mimetype": "text/x-python",
   "name": "python",
   "nbconvert_exporter": "python",
   "pygments_lexer": "ipython3",
   "version": "3.8.3"
  }
 },
 "nbformat": 4,
 "nbformat_minor": 4
}
