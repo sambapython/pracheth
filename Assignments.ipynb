{
 "cells": [
  {
   "cell_type": "code",
   "execution_count": null,
   "metadata": {},
   "outputs": [],
   "source": [
    "x1=float(input(\"Enter x1:\"))\n",
    "x2=float(input(\"Enter x2:\"))\n",
    "x3=float(input(\"Enter x3:\"))\n",
    "x4=float(input(\"Enter x4:\"))"
   ]
  },
  {
   "cell_type": "code",
   "execution_count": 1,
   "metadata": {},
   "outputs": [
    {
     "name": "stdout",
     "output_type": "stream",
     "text": [
      "Enter x1:1\n",
      "Enter x2:2\n",
      "Enter x3:3\n",
      "Enter x4:4\n",
      "9.0\n",
      "343.0\n",
      "12.34\n"
     ]
    }
   ],
   "source": [
    "x1,x2,x3,x4=float(input(\"Enter x1:\")),float(input(\"Enter x2:\")),float(input(\"Enter x3:\")),float(input(\"Enter x4:\"))\n",
    "print((x1+x2)**2)\n",
    "print((x3+x4)**3)\n",
    "m=1.23\n",
    "b=0.04\n",
    "y=m*(x1+x2+x3+x4)+b\n",
    "print(y)\n"
   ]
  },
  {
   "cell_type": "code",
   "execution_count": null,
   "metadata": {},
   "outputs": [],
   "source": []
  }
 ],
 "metadata": {
  "kernelspec": {
   "display_name": "Python 3",
   "language": "python",
   "name": "python3"
  },
  "language_info": {
   "codemirror_mode": {
    "name": "ipython",
    "version": 3
   },
   "file_extension": ".py",
   "mimetype": "text/x-python",
   "name": "python",
   "nbconvert_exporter": "python",
   "pygments_lexer": "ipython3",
   "version": "3.8.3"
  }
 },
 "nbformat": 4,
 "nbformat_minor": 4
}
