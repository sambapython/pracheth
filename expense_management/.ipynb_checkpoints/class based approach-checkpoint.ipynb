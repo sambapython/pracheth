{
 "cells": [
  {
   "cell_type": "code",
   "execution_count": 3,
   "metadata": {},
   "outputs": [],
   "source": [
    "DATABASE_NAME = \"db1.sqlite3\"\n",
    "import sqlite3\n",
    "class CategoryDB:\n",
    "    table = \"category\" \n",
    "    \n",
    "    def __init__(self,id=\"\",name=\"\"):\n",
    "        self.id=id\n",
    "        self.name = name\n",
    "        \n",
    "    def get_con(self):\n",
    "        return sqlite3.connect(DATABASE_NAME)\n",
    "    \n",
    "    def close_con(self, con):\n",
    "        con.close()\n",
    "        \n",
    "    def add_row(self):\n",
    "        query = f\"insert into {self.table}(id, name) values({self.id},'{self.name}')\"\n",
    "        con = self.get_con()\n",
    "        con.execute(query)\n",
    "        con.commit()\n",
    "        self.close_con(con)\n",
    "        \n",
    "    def update_row(self, new_name):\n",
    "        query = f\"update {self.table} set name={new_name} where id={self.id}\"\n",
    "        con = self.get_con()\n",
    "        con.execute(query)\n",
    "        con.commit()\n",
    "        self.close_con(con)\n",
    "        \n",
    "    def delete_row(self):\n",
    "        query = f\"delete from {self.table} where id={self.id}\"\n",
    "        con = self.get_con()\n",
    "        con.execute(query)\n",
    "        con.commit()\n",
    "        self.close_con(con)\n",
    "        \n",
    "    def get(self):\n",
    "        q=f\"select * from {self.table}\"\n",
    "        if self.id:\n",
    "            q=q+f\" where id={self.id}\"\n",
    "        con = self.get_con()\n",
    "        cur = con.cursor()\n",
    "        cur.execute(query)\n",
    "        data = cur.fetchall()\n",
    "        self.close_con(con)\n",
    "        \n",
    "        \n",
    "fashion = CategoryDB(id=1,name=\"MENS FASHION\")\n",
    "fashion.add_row()\n",
    "        "
   ]
  },
  {
   "cell_type": "code",
   "execution_count": 4,
   "metadata": {},
   "outputs": [],
   "source": [
    "fashion.delete_row()"
   ]
  },
  {
   "cell_type": "code",
   "execution_count": null,
   "metadata": {},
   "outputs": [],
   "source": [
    "DATABASE_NAME = \"db1.sqlite3\"\n",
    "import sqlite3\n",
    "class CategoryDB:\n",
    "    table = \"category\" \n",
    "    \n",
    "    def __init__(self,id=\"\",name=\"\"):\n",
    "        self.id=id\n",
    "        self.name = name\n",
    "        \n",
    "    def get_con(self):\n",
    "        return sqlite3.connect(DATABASE_NAME)\n",
    "    \n",
    "    def close_con(self, con):\n",
    "        con.close()\n",
    "        \n",
    "    def add(self):\n",
    "        query = f\"insert into {self.table}(id, name) values({self.id},'{self.name}')\"\n",
    "        con = self.get_con()\n",
    "        con.execute(query)\n",
    "        con.commit()\n",
    "        self.close_con(con)\n",
    "        \n",
    "    def update(self, new_name):\n",
    "        query = f\"update {self.table} set name={new_name} where id={self.id}\"\n",
    "        con = self.get_con()\n",
    "        con.execute(query)\n",
    "        con.commit()\n",
    "        self.close_con(con)\n",
    "        \n",
    "    def delete(self):\n",
    "        query = f\"delete from {self.table} where id={self.id}\"\n",
    "        con = self.get_con()\n",
    "        con.execute(query)\n",
    "        con.commit()\n",
    "        self.close_con(con)\n",
    "        \n",
    "    def get(self):\n",
    "        q=f\"select * from {self.table}\"\n",
    "        if self.id:\n",
    "            q=q+f\" where id={self.id}\"\n",
    "        con = self.get_con()\n",
    "        cur = con.cursor()\n",
    "        cur.execute(query)\n",
    "        data = cur.fetchall()\n",
    "        self.close_con(con)\n",
    "        \n",
    "class ProductDB:\n",
    "    table = \"product\" \n",
    "    \n",
    "    def __init__(self,id=\"\",name=\"\",category_id=\"\"):\n",
    "        self.id=id\n",
    "        self.name = name\n",
    "        self.category_id=category_id\n",
    "        \n",
    "    def get_con(self):\n",
    "        return sqlite3.connect(DATABASE_NAME)\n",
    "    \n",
    "    def close_con(self, con):\n",
    "        con.close()\n",
    "        \n",
    "    def add(self):\n",
    "        query = f\"insert into {self.table}(id, name, category_id) values({self.id},'{self.name}',{self.category_id})\"\n",
    "        con = self.get_con()\n",
    "        con.execute(query)\n",
    "        con.commit()\n",
    "        self.close_con(con)\n",
    "        \n",
    "    def update(self, new_name=\"\", category_id=\"\"):\n",
    "        if new_name:\n",
    "            query = f\"update {self.table} set name={new_name}\"\n",
    "        if category_id:\n",
    "            query = f\"update {self.table} set categpry_id={category_id}\"\n",
    "        if new_name and category_id:\n",
    "            query = f\"update {self.table} set name={new_name}, category_id={category_id}\"\n",
    "        query = query+\" where id={self.id}\"\n",
    "        con = self.get_con()\n",
    "        con.execute(query)\n",
    "        con.commit()\n",
    "        self.close_con(con)\n",
    "        \n",
    "    def delete(self):\n",
    "        query = f\"delete from {self.table} where id={self.id}\"\n",
    "        con = self.get_con()\n",
    "        con.execute(query)\n",
    "        con.commit()\n",
    "        self.close_con(con)\n",
    "        \n",
    "    def get(self):\n",
    "        q=f\"select * from {self.table}\"\n",
    "        if self.id:\n",
    "            q=q+f\" where id={self.id}\"\n",
    "        con = self.get_con()\n",
    "        cur = con.cursor()\n",
    "        cur.execute(query)\n",
    "        data = cur.fetchall()\n",
    "        self.close_con(con)\n",
    "        \n",
    "        \n",
    "        \n",
    "fashion = CategoryDB(id=1,name=\"MENS FASHION\")\n",
    "fashion.add_row()\n",
    "        "
   ]
  },
  {
   "cell_type": "code",
   "execution_count": 5,
   "metadata": {},
   "outputs": [
    {
     "name": "stdout",
     "output_type": "stream",
     "text": [
      "this is op1 in c1\n",
      "this is op2in c2\n",
      "this is opeartions\n"
     ]
    }
   ],
   "source": [
    "class c1:\n",
    "    def op1(self):\n",
    "        print(\"this is op1 in c1\")\n",
    "class c2:\n",
    "    def op2(self):\n",
    "        print(\"this is op2in c2\")\n",
    "class c3:\n",
    "    def operations(self):\n",
    "        print(\"this is opeartions\")\n",
    "        \n",
    "o1=c1()\n",
    "o1.op1()\n",
    "o2=c2()\n",
    "o2.op2()\n",
    "o3=c3()\n",
    "o3.operations()"
   ]
  },
  {
   "cell_type": "code",
   "execution_count": 6,
   "metadata": {},
   "outputs": [
    {
     "name": "stdout",
     "output_type": "stream",
     "text": [
      "this is opeartions\n"
     ]
    },
    {
     "ename": "AttributeError",
     "evalue": "'c3' object has no attribute 'op1'",
     "output_type": "error",
     "traceback": [
      "\u001b[1;31m---------------------------------------------------------------------------\u001b[0m",
      "\u001b[1;31mAttributeError\u001b[0m                            Traceback (most recent call last)",
      "\u001b[1;32m<ipython-input-6-cf6d2cf67642>\u001b[0m in \u001b[0;36m<module>\u001b[1;34m\u001b[0m\n\u001b[0;32m     11\u001b[0m \u001b[0mo3\u001b[0m\u001b[1;33m=\u001b[0m\u001b[0mc3\u001b[0m\u001b[1;33m(\u001b[0m\u001b[1;33m)\u001b[0m\u001b[1;33m\u001b[0m\u001b[1;33m\u001b[0m\u001b[0m\n\u001b[0;32m     12\u001b[0m \u001b[0mo3\u001b[0m\u001b[1;33m.\u001b[0m\u001b[0moperations\u001b[0m\u001b[1;33m(\u001b[0m\u001b[1;33m)\u001b[0m\u001b[1;33m\u001b[0m\u001b[1;33m\u001b[0m\u001b[0m\n\u001b[1;32m---> 13\u001b[1;33m \u001b[0mo3\u001b[0m\u001b[1;33m.\u001b[0m\u001b[0mop1\u001b[0m\u001b[1;33m(\u001b[0m\u001b[1;33m)\u001b[0m\u001b[1;33m\u001b[0m\u001b[1;33m\u001b[0m\u001b[0m\n\u001b[0m",
      "\u001b[1;31mAttributeError\u001b[0m: 'c3' object has no attribute 'op1'"
     ]
    }
   ],
   "source": [
    "class c1:\n",
    "    def op1(self):\n",
    "        print(\"this is op1 in c1\")\n",
    "class c2:\n",
    "    def op2(self):\n",
    "        print(\"this is op2in c2\")\n",
    "class c3:\n",
    "    def operations(self):\n",
    "        print(\"this is opeartions\")\n",
    "        \n",
    "o3=c3()\n",
    "o3.operations()\n",
    "o3.op1()"
   ]
  },
  {
   "cell_type": "code",
   "execution_count": 7,
   "metadata": {},
   "outputs": [
    {
     "name": "stdout",
     "output_type": "stream",
     "text": [
      "this is opeartions\n",
      "this is op1 in c1\n"
     ]
    }
   ],
   "source": [
    "class c1:\n",
    "    def op1(self):\n",
    "        print(\"this is op1 in c1\")\n",
    "class c2:\n",
    "    def op2(self):\n",
    "        print(\"this is op2in c2\")\n",
    "class c3(c1):# c3 is a child class, c1 is parent class\n",
    "    def operations(self):\n",
    "        print(\"this is opeartions\")\n",
    "        \n",
    "o3=c3()\n",
    "o3.operations()\n",
    "o3.op1()"
   ]
  },
  {
   "cell_type": "code",
   "execution_count": 8,
   "metadata": {},
   "outputs": [
    {
     "name": "stdout",
     "output_type": "stream",
     "text": [
      "this is opeartions\n",
      "this is op1 in c1\n"
     ]
    },
    {
     "ename": "AttributeError",
     "evalue": "'c3' object has no attribute 'op2'",
     "output_type": "error",
     "traceback": [
      "\u001b[1;31m---------------------------------------------------------------------------\u001b[0m",
      "\u001b[1;31mAttributeError\u001b[0m                            Traceback (most recent call last)",
      "\u001b[1;32m<ipython-input-8-a6cb480227bc>\u001b[0m in \u001b[0;36m<module>\u001b[1;34m\u001b[0m\n\u001b[0;32m     12\u001b[0m \u001b[0mo3\u001b[0m\u001b[1;33m.\u001b[0m\u001b[0moperations\u001b[0m\u001b[1;33m(\u001b[0m\u001b[1;33m)\u001b[0m\u001b[1;33m\u001b[0m\u001b[1;33m\u001b[0m\u001b[0m\n\u001b[0;32m     13\u001b[0m \u001b[0mo3\u001b[0m\u001b[1;33m.\u001b[0m\u001b[0mop1\u001b[0m\u001b[1;33m(\u001b[0m\u001b[1;33m)\u001b[0m\u001b[1;33m\u001b[0m\u001b[1;33m\u001b[0m\u001b[0m\n\u001b[1;32m---> 14\u001b[1;33m \u001b[0mo3\u001b[0m\u001b[1;33m.\u001b[0m\u001b[0mop2\u001b[0m\u001b[1;33m(\u001b[0m\u001b[1;33m)\u001b[0m\u001b[1;33m\u001b[0m\u001b[1;33m\u001b[0m\u001b[0m\n\u001b[0m",
      "\u001b[1;31mAttributeError\u001b[0m: 'c3' object has no attribute 'op2'"
     ]
    }
   ],
   "source": [
    "class c1:\n",
    "    def op1(self):\n",
    "        print(\"this is op1 in c1\")\n",
    "class c2:\n",
    "    def op2(self):\n",
    "        print(\"this is op2in c2\")\n",
    "class c3(c1):# c3 is a child class, c1 is parent class\n",
    "    def operations(self):\n",
    "        print(\"this is opeartions\")\n",
    "        \n",
    "o3=c3()\n",
    "o3.operations()\n",
    "o3.op1()\n",
    "o3.op2()"
   ]
  },
  {
   "cell_type": "code",
   "execution_count": 9,
   "metadata": {},
   "outputs": [
    {
     "name": "stdout",
     "output_type": "stream",
     "text": [
      "this is opeartions\n",
      "this is op1 in c1\n",
      "this is op2in c2\n"
     ]
    }
   ],
   "source": [
    "class c1:\n",
    "    def op1(self):\n",
    "        print(\"this is op1 in c1\")\n",
    "class c2:\n",
    "    def op2(self):\n",
    "        print(\"this is op2in c2\")\n",
    "class c3(c1,c2):# c3 is a child class, c1 is parent class\n",
    "    def operations(self):\n",
    "        print(\"this is opeartions\")\n",
    "        \n",
    "o3=c3()\n",
    "o3.operations()\n",
    "o3.op1()\n",
    "o3.op2()"
   ]
  },
  {
   "cell_type": "code",
   "execution_count": 10,
   "metadata": {},
   "outputs": [
    {
     "name": "stdout",
     "output_type": "stream",
     "text": [
      "this is opeartions\n",
      "this is op1 in c3\n",
      "this is op2 in c2\n"
     ]
    }
   ],
   "source": [
    "class c1:\n",
    "    def op1(self):\n",
    "        print(\"this is op1 in c1\")\n",
    "class c2:\n",
    "    def op2(self):\n",
    "        print(\"this is op2 in c2\")\n",
    "class c3(c1,c2):# c3 is a child class, c1 is parent class\n",
    "    def operations(self):\n",
    "        print(\"this is opeartions\")\n",
    "    def op1(self):\n",
    "        print(\"this is op1 in c3\")\n",
    "        \n",
    "o3=c3()\n",
    "o3.operations()\n",
    "o3.op1()\n",
    "o3.op2()"
   ]
  },
  {
   "cell_type": "code",
   "execution_count": 11,
   "metadata": {},
   "outputs": [
    {
     "name": "stdout",
     "output_type": "stream",
     "text": [
      "this is opeartions\n",
      "this is op1 in c3\n",
      "this is op2 in c1\n"
     ]
    }
   ],
   "source": [
    "class c1:\n",
    "    def op1(self):\n",
    "        print(\"this is op1 in c1\")\n",
    "    def op2(self):\n",
    "        print(\"this is op2 in c1\")\n",
    "class c2:\n",
    "    def op2(self):\n",
    "        print(\"this is op2 in c2\")\n",
    "class c3(c1,c2):# c3 is a child class, c1 is parent class\n",
    "    def operations(self):\n",
    "        print(\"this is opeartions\")\n",
    "    def op1(self):\n",
    "        print(\"this is op1 in c3\")\n",
    "        \n",
    "o3=c3()\n",
    "o3.operations()\n",
    "o3.op1()\n",
    "o3.op2()"
   ]
  },
  {
   "cell_type": "code",
   "execution_count": 12,
   "metadata": {},
   "outputs": [],
   "source": [
    "DATABASE_NAME = \"db1.sqlite3\"\n",
    "import sqlite3\n",
    "class DB:\n",
    "    def get_con(self):\n",
    "        return sqlite3.connect(DATABASE_NAME)\n",
    "    def close_con(self, con):\n",
    "        con.close()\n",
    "    def delete(self):\n",
    "        query = f\"delete from {self.table} where id={self.id}\"\n",
    "        con = self.get_con()\n",
    "        con.execute(query)\n",
    "        con.commit()\n",
    "        self.close_con(con)\n",
    "    def get(self):\n",
    "        q=f\"select * from {self.table}\"\n",
    "        if self.id:\n",
    "            q=q+f\" where id={self.id}\"\n",
    "        con = self.get_con()\n",
    "        cur = con.cursor()\n",
    "        cur.execute(query)\n",
    "        data = cur.fetchall()\n",
    "        self.close_con(con)\n",
    "        \n",
    "    def execute(self, query):\n",
    "        con = self.get_con()\n",
    "        con.execute(query)\n",
    "        con.commit()\n",
    "        self.close_con(con)\n",
    "        \n",
    "    \n",
    "class CategoryDB(DB):\n",
    "    table = \"category\" \n",
    "    def __init__(self,id=\"\",name=\"\"):\n",
    "        self.id=id\n",
    "        self.name = name\n",
    "    def add(self):\n",
    "        query = f\"insert into {self.table}(id, name) values({self.id},'{self.name}')\"\n",
    "        self.execute(query)\n",
    "        \n",
    "    def update(self, new_name):\n",
    "        query = f\"update {self.table} set name={new_name} where id={self.id}\"\n",
    "        self.execute(query)\n",
    "        \n",
    "class ProductDB(DB):\n",
    "    table = \"product\" \n",
    "    \n",
    "    def __init__(self,id=\"\",name=\"\",category_id=\"\"):\n",
    "        self.id=id\n",
    "        self.name = name\n",
    "        self.category_id=category_id\n",
    "        \n",
    "    def add(self):\n",
    "        query = f\"insert into {self.table}(id, name, category_id) values({self.id},'{self.name}',{self.category_id})\"\n",
    "        self.execute(query)\n",
    "        \n",
    "    def update(self, new_name=\"\", category_id=\"\"):\n",
    "        if new_name:\n",
    "            query = f\"update {self.table} set name={new_name}\"\n",
    "        if category_id:\n",
    "            query = f\"update {self.table} set categpry_id={category_id}\"\n",
    "        if new_name and category_id:\n",
    "            query = f\"update {self.table} set name={new_name}, category_id={category_id}\"\n",
    "        query = query+\" where id={self.id}\"\n",
    "        self.execute(query)   \n",
    "        \n",
    "fashion = CategoryDB(id=2,name=\"WOMENS FASHION\")# data binding. we binded 2 to the id attribute. womens fashion to the name \n",
    "# attribute. without sending data to add method, we are able to process(add in to database) the data\n",
    "fashion.add()\n",
    "        "
   ]
  },
  {
   "cell_type": "code",
   "execution_count": 13,
   "metadata": {},
   "outputs": [
    {
     "ename": "TypeError",
     "evalue": "__init__() missing 1 required positional argument: 'data'",
     "output_type": "error",
     "traceback": [
      "\u001b[1;31m---------------------------------------------------------------------------\u001b[0m",
      "\u001b[1;31mTypeError\u001b[0m                                 Traceback (most recent call last)",
      "\u001b[1;32m<ipython-input-13-c8ffb8b21bda>\u001b[0m in \u001b[0;36m<module>\u001b[1;34m\u001b[0m\n\u001b[0;32m      9\u001b[0m \u001b[1;32mclass\u001b[0m \u001b[0mProduct\u001b[0m\u001b[1;33m(\u001b[0m\u001b[0mDB\u001b[0m\u001b[1;33m)\u001b[0m\u001b[1;33m:\u001b[0m\u001b[1;33m\u001b[0m\u001b[1;33m\u001b[0m\u001b[0m\n\u001b[0;32m     10\u001b[0m     \u001b[1;32mpass\u001b[0m\u001b[1;33m\u001b[0m\u001b[1;33m\u001b[0m\u001b[0m\n\u001b[1;32m---> 11\u001b[1;33m \u001b[0mcat1\u001b[0m\u001b[1;33m=\u001b[0m\u001b[0mCategory\u001b[0m\u001b[1;33m(\u001b[0m\u001b[1;33m)\u001b[0m\u001b[1;33m\u001b[0m\u001b[1;33m\u001b[0m\u001b[0m\n\u001b[0m\u001b[0;32m     12\u001b[0m \u001b[0mcat1\u001b[0m\u001b[1;33m.\u001b[0m\u001b[0madd\u001b[0m\u001b[1;33m(\u001b[0m\u001b[1;33m)\u001b[0m\u001b[1;33m\u001b[0m\u001b[1;33m\u001b[0m\u001b[0m\n",
      "\u001b[1;31mTypeError\u001b[0m: __init__() missing 1 required positional argument: 'data'"
     ]
    }
   ],
   "source": [
    "class DB:\n",
    "    def __init__(self, data):\n",
    "        self.data = data\n",
    "    def add(self):\n",
    "        print(\"query to insert %s\" % self.data)\n",
    "        \n",
    "class Category(DB):\n",
    "    pass\n",
    "class Product(DB):\n",
    "    pass\n",
    "cat1=Category()\n",
    "cat1.add()"
   ]
  },
  {
   "cell_type": "code",
   "execution_count": 14,
   "metadata": {},
   "outputs": [
    {
     "name": "stdout",
     "output_type": "stream",
     "text": [
      "query to insert {'name': 'CAT1'}\n"
     ]
    }
   ],
   "source": [
    "class DB:\n",
    "    def __init__(self, data):\n",
    "        self.data = data\n",
    "    def add(self):\n",
    "        print(\"query to insert %s\" % self.data)\n",
    "        \n",
    "class Category(DB):\n",
    "    pass\n",
    "class Product(DB):\n",
    "    pass\n",
    "cat1=Category(data={\"name\":\"CAT1\"})\n",
    "cat1.add()"
   ]
  },
  {
   "cell_type": "code",
   "execution_count": 15,
   "metadata": {},
   "outputs": [
    {
     "name": "stdout",
     "output_type": "stream",
     "text": [
      "query to insert {'name': 'CAT1'}\n",
      "query to insert {'name': 'P1'}\n"
     ]
    }
   ],
   "source": [
    "class DB:\n",
    "    def __init__(self, data):\n",
    "        self.data = data\n",
    "    def add(self):\n",
    "        print(\"query to insert %s\" % self.data)\n",
    "        \n",
    "class Category(DB):\n",
    "    pass\n",
    "class Product(DB):\n",
    "    pass\n",
    "cat1=Category(data={\"name\":\"CAT1\"})\n",
    "cat1.add()\n",
    "pro1 = Product(data={\"name\":\"P1\"})\n",
    "pro1.add()"
   ]
  },
  {
   "cell_type": "code",
   "execution_count": 17,
   "metadata": {},
   "outputs": [
    {
     "name": "stdout",
     "output_type": "stream",
     "text": [
      "query to insert {'name': 'CAT1'}\n",
      "product name not valid\n"
     ]
    }
   ],
   "source": [
    "class DB:\n",
    "    def __init__(self, data):\n",
    "        self.data = data\n",
    "    def add(self):\n",
    "        print(\"query to insert %s\" % self.data)\n",
    "        \n",
    "class Category(DB):\n",
    "    pass\n",
    "class Product(DB):\n",
    "    def validte_add(self):\n",
    "        if self.data.get(\"name\").isalpha():\n",
    "            self.add()\n",
    "        else:\n",
    "            print(\"product name not valid\")\n",
    "cat1=Category(data={\"name\":\"CAT1\"})\n",
    "cat1.add()\n",
    "pro1 = Product(data={\"name\":\"P1#$\"})\n",
    "pro1.validte_add()"
   ]
  },
  {
   "cell_type": "code",
   "execution_count": 18,
   "metadata": {},
   "outputs": [
    {
     "name": "stdout",
     "output_type": "stream",
     "text": [
      "query to insert {'name': 'CAT1'}\n",
      "query to insert {'name': 'P1#$'}\n"
     ]
    }
   ],
   "source": [
    "class DB:\n",
    "    def __init__(self, data):\n",
    "        self.data = data\n",
    "    def add(self):\n",
    "        print(\"query to insert %s\" % self.data)\n",
    "        \n",
    "class Category(DB):\n",
    "    pass\n",
    "class Product(DB):\n",
    "    def validte_add(self):\n",
    "        if self.data.get(\"name\").isalpha():\n",
    "            self.add()\n",
    "        else:\n",
    "            print(\"product name not valid\")\n",
    "cat1=Category(data={\"name\":\"CAT1\"})\n",
    "cat1.add()\n",
    "pro1 = Product(data={\"name\":\"P1#$\"})\n",
    "pro1.add()"
   ]
  },
  {
   "cell_type": "code",
   "execution_count": 19,
   "metadata": {},
   "outputs": [
    {
     "name": "stdout",
     "output_type": "stream",
     "text": [
      "query to insert {'name': 'CAT1'}\n",
      "product name not valid\n"
     ]
    }
   ],
   "source": [
    "class DB:\n",
    "    def __init__(self, data):\n",
    "        self.data = data\n",
    "    def add(self):\n",
    "        print(\"query to insert %s\" % self.data)\n",
    "        \n",
    "class Category(DB):\n",
    "    pass\n",
    "class Product(DB):\n",
    "    def add(self):# overriding the add method of DB(parent class). is called method overiding.\n",
    "        if self.data.get(\"name\").isalpha():\n",
    "            DB.add(self)\n",
    "        else:\n",
    "            print(\"product name not valid\")\n",
    "cat1=Category(data={\"name\":\"CAT1\"})\n",
    "cat1.add()\n",
    "pro1 = Product(data={\"name\":\"P1#$\"})\n",
    "pro1.add()"
   ]
  },
  {
   "cell_type": "code",
   "execution_count": 20,
   "metadata": {},
   "outputs": [],
   "source": [
    "class DB:\n",
    "    def __init__(self, name=\"\",category=\"\"):\n",
    "        self.name=name\n",
    "        self.category = category\n",
    "o1=DB()\n",
    "o2=DB(\"p1\")\n",
    "o3=DB(\"p2\",\"cat2\")\n",
    "# constructor method(__init__) getting called with no arguments(o1), with one argument(o2), with two arguments(o3)\n",
    "# is called method overloading\n",
    "#method overloading can be achieved in python using default parameter, *args, **kwargs concepts."
   ]
  },
  {
   "cell_type": "code",
   "execution_count": 22,
   "metadata": {},
   "outputs": [
    {
     "name": "stdout",
     "output_type": "stream",
     "text": [
      "30\n",
      "str1str2\n",
      "(1+2j)\n"
     ]
    }
   ],
   "source": [
    "a=10\n",
    "b=20\n",
    "print(a+b)\n",
    "a=\"str1\"\n",
    "b=\"str2\"\n",
    "print(a+b)\n",
    "c=1+2j\n",
    "print(c)\n",
    "# the same + operator acting smart based on the data given. operator overloading. same + operator acting smart for different \n",
    "# datatypes."
   ]
  },
  {
   "cell_type": "code",
   "execution_count": null,
   "metadata": {},
   "outputs": [],
   "source": [
    "# any programing language which supports method overloading, method overriding, operator overloading. it supports polymorphism"
   ]
  }
 ],
 "metadata": {
  "kernelspec": {
   "display_name": "Python 3",
   "language": "python",
   "name": "python3"
  },
  "language_info": {
   "codemirror_mode": {
    "name": "ipython",
    "version": 3
   },
   "file_extension": ".py",
   "mimetype": "text/x-python",
   "name": "python",
   "nbconvert_exporter": "python",
   "pygments_lexer": "ipython3",
   "version": "3.8.3"
  }
 },
 "nbformat": 4,
 "nbformat_minor": 4
}
